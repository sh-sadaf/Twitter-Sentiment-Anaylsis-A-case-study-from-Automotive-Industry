{
 "cells": [
  {
   "cell_type": "markdown",
   "id": "c7f347d6",
   "metadata": {},
   "source": [
    "### Daily basis data has been collected by putting a cap of nearly 500 tweets/day using SNScraper "
   ]
  },
  {
   "cell_type": "code",
   "execution_count": 1,
   "id": "cda01f35",
   "metadata": {},
   "outputs": [],
   "source": [
    "import os\n",
    "import subprocess\n",
    "\n",
    "import json\n",
    "import csv\n",
    "\n",
    "import uuid\n",
    "\n",
    "from IPython.display import display_javascript, display_html, display\n",
    "\n",
    "import pandas as pd\n",
    "import numpy as np\n",
    "\n",
    "from datetime import datetime, date, time"
   ]
  },
  {
   "cell_type": "code",
   "execution_count": 2,
   "id": "479f8502",
   "metadata": {},
   "outputs": [
    {
     "name": "stdout",
     "output_type": "stream",
     "text": [
      "Defaulting to user installation because normal site-packages is not writeable\n",
      "Collecting git+https://github.com/JustAnotherArchivist/snscrape.git\n",
      "  Cloning https://github.com/JustAnotherArchivist/snscrape.git to c:\\users\\s_sad\\appdata\\local\\temp\\pip-req-build-zu504wkr\n",
      "  Resolved https://github.com/JustAnotherArchivist/snscrape.git to commit cbdaee6864aa8d3e9e4326d4fe224a517aabbc2c\n",
      "  Preparing metadata (setup.py): started\n",
      "  Preparing metadata (setup.py): finished with status 'done'\n",
      "Requirement already satisfied: requests[socks] in c:\\programdata\\anaconda3\\lib\\site-packages (from snscrape==0.4.3.20220107.dev73+gcbdaee6) (2.28.1)\n",
      "Requirement already satisfied: lxml in c:\\programdata\\anaconda3\\lib\\site-packages (from snscrape==0.4.3.20220107.dev73+gcbdaee6) (4.9.1)\n",
      "Requirement already satisfied: beautifulsoup4 in c:\\programdata\\anaconda3\\lib\\site-packages (from snscrape==0.4.3.20220107.dev73+gcbdaee6) (4.11.1)\n",
      "Requirement already satisfied: filelock in c:\\programdata\\anaconda3\\lib\\site-packages (from snscrape==0.4.3.20220107.dev73+gcbdaee6) (3.6.0)\n",
      "Requirement already satisfied: soupsieve>1.2 in c:\\programdata\\anaconda3\\lib\\site-packages (from beautifulsoup4->snscrape==0.4.3.20220107.dev73+gcbdaee6) (2.3.1)\n",
      "Requirement already satisfied: urllib3<1.27,>=1.21.1 in c:\\programdata\\anaconda3\\lib\\site-packages (from requests[socks]->snscrape==0.4.3.20220107.dev73+gcbdaee6) (1.26.11)\n",
      "Requirement already satisfied: certifi>=2017.4.17 in c:\\programdata\\anaconda3\\lib\\site-packages (from requests[socks]->snscrape==0.4.3.20220107.dev73+gcbdaee6) (2022.9.14)\n",
      "Requirement already satisfied: idna<4,>=2.5 in c:\\programdata\\anaconda3\\lib\\site-packages (from requests[socks]->snscrape==0.4.3.20220107.dev73+gcbdaee6) (3.3)\n",
      "Requirement already satisfied: charset-normalizer<3,>=2 in c:\\programdata\\anaconda3\\lib\\site-packages (from requests[socks]->snscrape==0.4.3.20220107.dev73+gcbdaee6) (2.0.4)\n",
      "Requirement already satisfied: PySocks!=1.5.7,>=1.5.6 in c:\\programdata\\anaconda3\\lib\\site-packages (from requests[socks]->snscrape==0.4.3.20220107.dev73+gcbdaee6) (1.7.1)\n",
      "Note: you may need to restart the kernel to use updated packages.\n"
     ]
    },
    {
     "name": "stderr",
     "output_type": "stream",
     "text": [
      "  Running command git clone --filter=blob:none --quiet https://github.com/JustAnotherArchivist/snscrape.git 'C:\\Users\\s_sad\\AppData\\Local\\Temp\\pip-req-build-zu504wkr'\n",
      "  hint: core.useBuiltinFSMonitor=true is deprecated;please set core.fsmonitor=true instead\n",
      "  hint: Disable this message with \"git config advice.useCoreFSMonitorConfig false\"\n"
     ]
    }
   ],
   "source": [
    "pip install git+https://github.com/JustAnotherArchivist/snscrape.git"
   ]
  },
  {
   "cell_type": "code",
   "execution_count": 3,
   "id": "cd6b489e",
   "metadata": {},
   "outputs": [
    {
     "name": "stdout",
     "output_type": "stream",
     "text": [
      "Defaulting to user installation because normal site-packages is not writeable\n",
      "Collecting git+https://github.com/JustAnotherArchivist/snscrape.git\n",
      "  Cloning https://github.com/JustAnotherArchivist/snscrape.git to c:\\users\\s_sad\\appdata\\local\\temp\\pip-req-build-1vgjm9hb\n",
      "  Resolved https://github.com/JustAnotherArchivist/snscrape.git to commit cbdaee6864aa8d3e9e4326d4fe224a517aabbc2c\n",
      "  Preparing metadata (setup.py): started\n",
      "  Preparing metadata (setup.py): finished with status 'done'\n",
      "Requirement already satisfied: requests[socks] in c:\\programdata\\anaconda3\\lib\\site-packages (from snscrape==0.4.3.20220107.dev73+gcbdaee6) (2.28.1)\n",
      "Requirement already satisfied: lxml in c:\\programdata\\anaconda3\\lib\\site-packages (from snscrape==0.4.3.20220107.dev73+gcbdaee6) (4.9.1)\n",
      "Requirement already satisfied: beautifulsoup4 in c:\\programdata\\anaconda3\\lib\\site-packages (from snscrape==0.4.3.20220107.dev73+gcbdaee6) (4.11.1)\n",
      "Requirement already satisfied: filelock in c:\\programdata\\anaconda3\\lib\\site-packages (from snscrape==0.4.3.20220107.dev73+gcbdaee6) (3.6.0)\n",
      "Requirement already satisfied: soupsieve>1.2 in c:\\programdata\\anaconda3\\lib\\site-packages (from beautifulsoup4->snscrape==0.4.3.20220107.dev73+gcbdaee6) (2.3.1)\n",
      "Requirement already satisfied: charset-normalizer<3,>=2 in c:\\programdata\\anaconda3\\lib\\site-packages (from requests[socks]->snscrape==0.4.3.20220107.dev73+gcbdaee6) (2.0.4)\n",
      "Requirement already satisfied: urllib3<1.27,>=1.21.1 in c:\\programdata\\anaconda3\\lib\\site-packages (from requests[socks]->snscrape==0.4.3.20220107.dev73+gcbdaee6) (1.26.11)\n",
      "Requirement already satisfied: idna<4,>=2.5 in c:\\programdata\\anaconda3\\lib\\site-packages (from requests[socks]->snscrape==0.4.3.20220107.dev73+gcbdaee6) (3.3)\n",
      "Requirement already satisfied: certifi>=2017.4.17 in c:\\programdata\\anaconda3\\lib\\site-packages (from requests[socks]->snscrape==0.4.3.20220107.dev73+gcbdaee6) (2022.9.14)\n",
      "Requirement already satisfied: PySocks!=1.5.7,>=1.5.6 in c:\\programdata\\anaconda3\\lib\\site-packages (from requests[socks]->snscrape==0.4.3.20220107.dev73+gcbdaee6) (1.7.1)\n",
      "Note: you may need to restart the kernel to use updated packages.\n"
     ]
    },
    {
     "name": "stderr",
     "output_type": "stream",
     "text": [
      "  Running command git clone --filter=blob:none --quiet https://github.com/JustAnotherArchivist/snscrape.git 'C:\\Users\\s_sad\\AppData\\Local\\Temp\\pip-req-build-1vgjm9hb'\n",
      "  hint: core.useBuiltinFSMonitor=true is deprecated;please set core.fsmonitor=true instead\n",
      "  hint: Disable this message with \"git config advice.useCoreFSMonitorConfig false\"\n"
     ]
    }
   ],
   "source": [
    "pip install git+https://github.com/JustAnotherArchivist/snscrape.git"
   ]
  },
  {
   "cell_type": "code",
   "execution_count": 4,
   "id": "ea0d2539",
   "metadata": {},
   "outputs": [],
   "source": [
    "import snscrape.modules.twitter as sntwitter"
   ]
  },
  {
   "cell_type": "code",
   "execution_count": 5,
   "id": "a58c61ff",
   "metadata": {},
   "outputs": [],
   "source": [
    "#Run the snscrape help to see what options / parameters we can use\n",
    "cmd = 'snscrape --help'"
   ]
  },
  {
   "cell_type": "code",
   "execution_count": 6,
   "id": "a680e3db",
   "metadata": {},
   "outputs": [
    {
     "name": "stdout",
     "output_type": "stream",
     "text": [
      "usage: snscrape [-h] [--version] [--citation] [-v] [--dump-locals] [--retry N]\r\n",
      "                [-n N] [-f FORMAT | --jsonl] [--with-entity]\r\n",
      "                [--since DATETIME] [--progress]\r\n",
      "                SCRAPER ...\r\n",
      "\r\n",
      "optional arguments:\r\n",
      "  -h, --help            show this help message and exit\r\n",
      "  --version             show program's version number and exit\r\n",
      "  --citation            Display recommended citation information and exit\r\n",
      "                        (default: None)\r\n",
      "  -v, --verbose, --verbosity\r\n",
      "                        Increase output verbosity (default: 0)\r\n",
      "  --dump-locals         Dump local variables on serious log messages (warnings\r\n",
      "                        or higher) (default: False)\r\n",
      "  --retry N, --retries N\r\n",
      "                        When the connection fails or the server returns an\r\n",
      "                        unexpected response, retry up to N times with an\r\n",
      "                        exponential backoff (default: 3)\r\n",
      "  -n N, --max-results N\r\n",
      "                        Only return the first N results (default: None)\r\n",
      "  -f FORMAT, --format FORMAT\r\n",
      "                        Output format (default: None)\r\n",
      "  --jsonl               Output JSONL (default: False)\r\n",
      "  --with-entity         Include the entity (e.g. user, channel) as the first\r\n",
      "                        output item (default: False)\r\n",
      "  --since DATETIME      Only return results newer than DATETIME (default:\r\n",
      "                        None)\r\n",
      "  --progress            Report progress on stderr (default: False)\r\n",
      "\r\n",
      "scrapers:\r\n",
      "  SCRAPER\r\n",
      "    facebook-community\r\n",
      "    facebook-group\r\n",
      "    facebook-user\r\n",
      "    instagram-hashtag\r\n",
      "    instagram-location\r\n",
      "    instagram-user\r\n",
      "    mastodon-profile\r\n",
      "    mastodon-toot\r\n",
      "    reddit-search\r\n",
      "    reddit-submission\r\n",
      "    reddit-subreddit\r\n",
      "    reddit-user\r\n",
      "    telegram-channel\r\n",
      "    twitter-hashtag\r\n",
      "    twitter-list-posts\r\n",
      "    twitter-profile\r\n",
      "    twitter-search\r\n",
      "    twitter-trends\r\n",
      "    twitter-tweet\r\n",
      "    twitter-user\r\n",
      "    vkontakte-user\r\n",
      "    weibo-user\r\n",
      "\n"
     ]
    }
   ],
   "source": [
    "#This is similar to running os.system(cmd), which would show the output of running the command in the Terminal\n",
    "#window from where I started my Jupyter Notebook (which is what I used to develop this code)\n",
    "#By using subprocees, I capture the commands's output into a variable, whose content I can then print here.\n",
    "output = subprocess.check_output(cmd, shell=True)\n",
    "                                 \n",
    "print(output.decode(\"utf-8\"))"
   ]
  },
  {
   "cell_type": "markdown",
   "id": "46e7b4f6",
   "metadata": {},
   "source": [
    "# Oct "
   ]
  },
  {
   "cell_type": "code",
   "execution_count": 7,
   "id": "df81db48",
   "metadata": {},
   "outputs": [
    {
     "data": {
      "text/plain": [
       "0"
      ]
     },
     "execution_count": 7,
     "metadata": {},
     "output_type": "execute_result"
    }
   ],
   "source": [
    "out_folder = r\"C:\\Users\\s_sad\"\n",
    "#in_folder = '/input'\n",
    "\n",
    "json_filename = out_folder + '/auto-query-tweets-oct01.json'\n",
    "\n",
    "#Using the OS library to call CLI commands in Python\n",
    "os.system(f'snscrape --max-results 500 --jsonl --progress --since 2022-10-01 twitter-search \"tesla OR mercedes OR bmw OR audi lang:en until:2022-10-02\" > {json_filename}')\n",
    "\n"
   ]
  },
  {
   "cell_type": "code",
   "execution_count": 8,
   "id": "34ff3979",
   "metadata": {},
   "outputs": [
    {
     "data": {
      "text/plain": [
       "0"
      ]
     },
     "execution_count": 8,
     "metadata": {},
     "output_type": "execute_result"
    }
   ],
   "source": [
    "out_folder = r\"C:\\Users\\s_sad\"\n",
    "#in_folder = '/input'\n",
    "\n",
    "json_filename = out_folder + '/auto-query-tweets-oct02.json'\n",
    "\n",
    "#Using the OS library to call CLI commands in Python\n",
    "os.system(f'snscrape --max-results 500 --jsonl --progress --since 2022-10-01 twitter-search \"tesla OR mercedes OR bmw OR audi lang:en until:2022-10-03\" > {json_filename}')\n",
    "\n"
   ]
  },
  {
   "cell_type": "code",
   "execution_count": 9,
   "id": "6ce9aa9e",
   "metadata": {},
   "outputs": [
    {
     "data": {
      "text/plain": [
       "0"
      ]
     },
     "execution_count": 9,
     "metadata": {},
     "output_type": "execute_result"
    }
   ],
   "source": [
    "out_folder = r\"C:\\Users\\s_sad\"\n",
    "#in_folder = '/input'\n",
    "\n",
    "json_filename = out_folder + '/auto-query-tweets-oct03.json'\n",
    "\n",
    "#Using the OS library to call CLI commands in Python\n",
    "os.system(f'snscrape --max-results 500 --jsonl --progress --since 2022-10-01 twitter-search \"tesla OR mercedes OR bmw OR audi lang:en until:2022-10-04\" > {json_filename}')\n",
    "\n"
   ]
  },
  {
   "cell_type": "code",
   "execution_count": 10,
   "id": "da8da0be",
   "metadata": {},
   "outputs": [
    {
     "data": {
      "text/plain": [
       "0"
      ]
     },
     "execution_count": 10,
     "metadata": {},
     "output_type": "execute_result"
    }
   ],
   "source": [
    "out_folder = r\"C:\\Users\\s_sad\"\n",
    "#in_folder = '/input'\n",
    "\n",
    "json_filename = out_folder + '/auto-query-tweets-oct04.json'\n",
    "\n",
    "#Using the OS library to call CLI commands in Python\n",
    "os.system(f'snscrape --max-results 500 --jsonl --progress --since 2022-10-01 twitter-search \"tesla OR mercedes OR bmw OR audi lang:en until:2022-10-05\" > {json_filename}')\n",
    "\n"
   ]
  },
  {
   "cell_type": "code",
   "execution_count": 11,
   "id": "ce943713",
   "metadata": {},
   "outputs": [
    {
     "data": {
      "text/plain": [
       "0"
      ]
     },
     "execution_count": 11,
     "metadata": {},
     "output_type": "execute_result"
    }
   ],
   "source": [
    "out_folder = r\"C:\\Users\\s_sad\"\n",
    "#in_folder = '/input'\n",
    "\n",
    "json_filename = out_folder + '/auto-query-tweets-oct05.json'\n",
    "\n",
    "#Using the OS library to call CLI commands in Python\n",
    "os.system(f'snscrape --max-results 500 --jsonl --progress --since 2022-10-01 twitter-search \"tesla OR mercedes OR bmw OR audi lang:en until:2022-10-06\" > {json_filename}')\n",
    "\n"
   ]
  },
  {
   "cell_type": "code",
   "execution_count": 12,
   "id": "89ac5850",
   "metadata": {},
   "outputs": [
    {
     "data": {
      "text/plain": [
       "0"
      ]
     },
     "execution_count": 12,
     "metadata": {},
     "output_type": "execute_result"
    }
   ],
   "source": [
    "out_folder = r\"C:\\Users\\s_sad\"\n",
    "#in_folder = '/input'\n",
    "\n",
    "json_filename = out_folder + '/auto-query-tweets-oct06.json'\n",
    "\n",
    "#Using the OS library to call CLI commands in Python\n",
    "os.system(f'snscrape --max-results 500 --jsonl --progress --since 2022-10-01 twitter-search \"tesla OR mercedes OR bmw OR audi lang:en until:2022-10-07\" > {json_filename}')\n",
    "\n"
   ]
  },
  {
   "cell_type": "code",
   "execution_count": 13,
   "id": "a608c49b",
   "metadata": {},
   "outputs": [
    {
     "data": {
      "text/plain": [
       "0"
      ]
     },
     "execution_count": 13,
     "metadata": {},
     "output_type": "execute_result"
    }
   ],
   "source": [
    "out_folder = r\"C:\\Users\\s_sad\"\n",
    "#in_folder = '/input'\n",
    "\n",
    "json_filename = out_folder + '/auto-query-tweets-oct07.json'\n",
    "\n",
    "#Using the OS library to call CLI commands in Python\n",
    "os.system(f'snscrape --max-results 500 --jsonl --progress --since 2022-10-01 twitter-search \"tesla OR mercedes OR bmw OR audi lang:en until:2022-10-08\" > {json_filename}')\n",
    "\n"
   ]
  },
  {
   "cell_type": "code",
   "execution_count": 14,
   "id": "d1996b3e",
   "metadata": {},
   "outputs": [
    {
     "data": {
      "text/plain": [
       "0"
      ]
     },
     "execution_count": 14,
     "metadata": {},
     "output_type": "execute_result"
    }
   ],
   "source": [
    "out_folder = r\"C:\\Users\\s_sad\"\n",
    "#in_folder = '/input'\n",
    "\n",
    "json_filename = out_folder + '/auto-query-tweets-oct08.json'\n",
    "\n",
    "#Using the OS library to call CLI commands in Python\n",
    "os.system(f'snscrape --max-results 500 --jsonl --progress --since 2022-10-01 twitter-search \"tesla OR mercedes OR bmw OR audi lang:en until:2022-10-09\" > {json_filename}')\n",
    "\n"
   ]
  },
  {
   "cell_type": "code",
   "execution_count": 15,
   "id": "ab0fc990",
   "metadata": {},
   "outputs": [
    {
     "data": {
      "text/plain": [
       "0"
      ]
     },
     "execution_count": 15,
     "metadata": {},
     "output_type": "execute_result"
    }
   ],
   "source": [
    "out_folder = r\"C:\\Users\\s_sad\"\n",
    "#in_folder = '/input'\n",
    "\n",
    "json_filename = out_folder + '/auto-query-tweets-oct09.json'\n",
    "\n",
    "#Using the OS library to call CLI commands in Python\n",
    "os.system(f'snscrape --max-results 500 --jsonl --progress --since 2022-10-01 twitter-search \"tesla OR mercedes OR bmw OR audi lang:en until:2022-10-10\" > {json_filename}')\n",
    "\n"
   ]
  },
  {
   "cell_type": "code",
   "execution_count": 16,
   "id": "924afb91",
   "metadata": {},
   "outputs": [
    {
     "data": {
      "text/plain": [
       "0"
      ]
     },
     "execution_count": 16,
     "metadata": {},
     "output_type": "execute_result"
    }
   ],
   "source": [
    "out_folder = r\"C:\\Users\\s_sad\"\n",
    "#in_folder = '/input'\n",
    "\n",
    "json_filename = out_folder + '/auto-query-tweets-oct10.json'\n",
    "\n",
    "#Using the OS library to call CLI commands in Python\n",
    "os.system(f'snscrape --max-results 500 --jsonl --progress --since 2022-10-01 twitter-search \"tesla OR mercedes OR bmw OR audi lang:en until:2022-10-11\" > {json_filename}')\n",
    "\n"
   ]
  },
  {
   "cell_type": "code",
   "execution_count": 17,
   "id": "568756ab",
   "metadata": {},
   "outputs": [
    {
     "data": {
      "text/plain": [
       "0"
      ]
     },
     "execution_count": 17,
     "metadata": {},
     "output_type": "execute_result"
    }
   ],
   "source": [
    "out_folder = r\"C:\\Users\\s_sad\"\n",
    "#in_folder = '/input'\n",
    "\n",
    "json_filename = out_folder + '/auto-query-tweets-oct11.json'\n",
    "\n",
    "#Using the OS library to call CLI commands in Python\n",
    "os.system(f'snscrape --max-results 500 --jsonl --progress --since 2022-10-01 twitter-search \"tesla OR mercedes OR bmw OR audi lang:en until:2022-10-12\" > {json_filename}')\n",
    "\n"
   ]
  },
  {
   "cell_type": "code",
   "execution_count": 18,
   "id": "8321bb25",
   "metadata": {},
   "outputs": [
    {
     "data": {
      "text/plain": [
       "0"
      ]
     },
     "execution_count": 18,
     "metadata": {},
     "output_type": "execute_result"
    }
   ],
   "source": [
    "out_folder = r\"C:\\Users\\s_sad\"\n",
    "#in_folder = '/input'\n",
    "\n",
    "json_filename = out_folder + '/auto-query-tweets-oct12.json'\n",
    "\n",
    "#Using the OS library to call CLI commands in Python\n",
    "os.system(f'snscrape --max-results 500 --jsonl --progress --since 2022-10-01 twitter-search \"tesla OR mercedes OR bmw OR audi lang:en until:2022-11-13\" > {json_filename}')\n",
    "\n"
   ]
  },
  {
   "cell_type": "code",
   "execution_count": 19,
   "id": "ac0d153a",
   "metadata": {},
   "outputs": [
    {
     "data": {
      "text/plain": [
       "0"
      ]
     },
     "execution_count": 19,
     "metadata": {},
     "output_type": "execute_result"
    }
   ],
   "source": [
    "out_folder = r\"C:\\Users\\s_sad\"\n",
    "#in_folder = '/input'\n",
    "\n",
    "json_filename = out_folder + '/auto-query-tweets-oct13.json'\n",
    "\n",
    "#Using the OS library to call CLI commands in Python\n",
    "os.system(f'snscrape --max-results 500 --jsonl --progress --since 2022-10-01 twitter-search \"tesla OR mercedes OR bmw OR audi lang:en until:2022-10-14\" > {json_filename}')\n",
    "\n"
   ]
  },
  {
   "cell_type": "code",
   "execution_count": 20,
   "id": "23e4c269",
   "metadata": {},
   "outputs": [
    {
     "data": {
      "text/plain": [
       "0"
      ]
     },
     "execution_count": 20,
     "metadata": {},
     "output_type": "execute_result"
    }
   ],
   "source": [
    "out_folder = r\"C:\\Users\\s_sad\"\n",
    "#in_folder = '/input'\n",
    "\n",
    "json_filename = out_folder + '/auto-query-tweets-oct14.json'\n",
    "\n",
    "#Using the OS library to call CLI commands in Python\n",
    "os.system(f'snscrape --max-results 500 --jsonl --progress --since 2022-10-01 twitter-search \"tesla OR mercedes OR bmw OR audi lang:en until:2022-10-15\" > {json_filename}')\n",
    "\n"
   ]
  },
  {
   "cell_type": "code",
   "execution_count": 21,
   "id": "ce7e5ca6",
   "metadata": {},
   "outputs": [
    {
     "data": {
      "text/plain": [
       "0"
      ]
     },
     "execution_count": 21,
     "metadata": {},
     "output_type": "execute_result"
    }
   ],
   "source": [
    "out_folder = r\"C:\\Users\\s_sad\"\n",
    "#in_folder = '/input'\n",
    "\n",
    "json_filename = out_folder + '/auto-query-tweets-oct15.json'\n",
    "\n",
    "#Using the OS library to call CLI commands in Python\n",
    "os.system(f'snscrape --max-results 500 --jsonl --progress --since 2022-10-01 twitter-search \"tesla OR mercedes OR bmw OR audi lang:en until:2022-10-16\" > {json_filename}')\n",
    "\n"
   ]
  },
  {
   "cell_type": "code",
   "execution_count": 22,
   "id": "da6d8d48",
   "metadata": {},
   "outputs": [
    {
     "data": {
      "text/plain": [
       "0"
      ]
     },
     "execution_count": 22,
     "metadata": {},
     "output_type": "execute_result"
    }
   ],
   "source": [
    "out_folder = r\"C:\\Users\\s_sad\"\n",
    "#in_folder = '/input'\n",
    "\n",
    "json_filename = out_folder + '/auto-query-tweets-oct16.json'\n",
    "\n",
    "#Using the OS library to call CLI commands in Python\n",
    "os.system(f'snscrape --max-results 500 --jsonl --progress --since 2022-10-01 twitter-search \"tesla OR mercedes OR bmw OR audi lang:en until:2022-10-17\" > {json_filename}')\n"
   ]
  },
  {
   "cell_type": "code",
   "execution_count": 23,
   "id": "8f77fc86",
   "metadata": {},
   "outputs": [
    {
     "data": {
      "text/plain": [
       "0"
      ]
     },
     "execution_count": 23,
     "metadata": {},
     "output_type": "execute_result"
    }
   ],
   "source": [
    "out_folder = r\"C:\\Users\\s_sad\"\n",
    "#in_folder = '/input'\n",
    "\n",
    "json_filename = out_folder + '/auto-query-tweets-oct17.json'\n",
    "\n",
    "#Using the OS library to call CLI commands in Python\n",
    "os.system(f'snscrape --max-results 500 --jsonl --progress --since 2022-10-01 twitter-search \"tesla OR mercedes OR bmw OR audi lang:en until:2022-10-18\" > {json_filename}')\n",
    "\n"
   ]
  },
  {
   "cell_type": "code",
   "execution_count": 24,
   "id": "db63dc0c",
   "metadata": {},
   "outputs": [
    {
     "data": {
      "text/plain": [
       "0"
      ]
     },
     "execution_count": 24,
     "metadata": {},
     "output_type": "execute_result"
    }
   ],
   "source": [
    "out_folder = r\"C:\\Users\\s_sad\"\n",
    "#in_folder = '/input'\n",
    "\n",
    "json_filename = out_folder + '/auto-query-tweets-oct18.json'\n",
    "\n",
    "#Using the OS library to call CLI commands in Python\n",
    "os.system(f'snscrape --max-results 500 --jsonl --progress --since 2022-10-01 twitter-search \"tesla OR mercedes OR bmw OR audi lang:en until:2022-10-19\" > {json_filename}')\n",
    "\n"
   ]
  },
  {
   "cell_type": "code",
   "execution_count": 25,
   "id": "c7a71d0a",
   "metadata": {},
   "outputs": [
    {
     "data": {
      "text/plain": [
       "0"
      ]
     },
     "execution_count": 25,
     "metadata": {},
     "output_type": "execute_result"
    }
   ],
   "source": [
    "out_folder = r\"C:\\Users\\s_sad\"\n",
    "#in_folder = '/input'\n",
    "\n",
    "json_filename = out_folder + '/auto-query-tweets-oct19.json'\n",
    "\n",
    "#Using the OS library to call CLI commands in Python\n",
    "os.system(f'snscrape --max-results 500 --jsonl --progress --since 2022-10-01 twitter-search \"tesla OR mercedes OR bmw OR audi lang:en until:2022-10-20\" > {json_filename}')\n",
    "\n"
   ]
  },
  {
   "cell_type": "code",
   "execution_count": 26,
   "id": "29449adb",
   "metadata": {},
   "outputs": [
    {
     "data": {
      "text/plain": [
       "0"
      ]
     },
     "execution_count": 26,
     "metadata": {},
     "output_type": "execute_result"
    }
   ],
   "source": [
    "out_folder = r\"C:\\Users\\s_sad\"\n",
    "#in_folder = '/input'\n",
    "\n",
    "json_filename = out_folder + '/auto-query-tweets-oct20.json'\n",
    "\n",
    "#Using the OS library to call CLI commands in Python\n",
    "os.system(f'snscrape --max-results 500 --jsonl --progress --since 2022-10-01 twitter-search \"tesla OR mercedes OR bmw OR audi lang:en until:2022-10-21\" > {json_filename}')\n",
    "\n"
   ]
  },
  {
   "cell_type": "code",
   "execution_count": 27,
   "id": "49bba815",
   "metadata": {},
   "outputs": [
    {
     "data": {
      "text/plain": [
       "0"
      ]
     },
     "execution_count": 27,
     "metadata": {},
     "output_type": "execute_result"
    }
   ],
   "source": [
    "out_folder = r\"C:\\Users\\s_sad\"\n",
    "#in_folder = '/input'\n",
    "\n",
    "json_filename = out_folder + '/auto-query-tweets-oct21.json'\n",
    "\n",
    "#Using the OS library to call CLI commands in Python\n",
    "os.system(f'snscrape --max-results 500 --jsonl --progress --since 2022-10-01 twitter-search \"tesla OR mercedes OR bmw OR audi lang:en until:2022-10-22\" > {json_filename}')\n",
    "\n"
   ]
  },
  {
   "cell_type": "code",
   "execution_count": 28,
   "id": "4ac4ecf7",
   "metadata": {},
   "outputs": [
    {
     "data": {
      "text/plain": [
       "0"
      ]
     },
     "execution_count": 28,
     "metadata": {},
     "output_type": "execute_result"
    }
   ],
   "source": [
    "out_folder = r\"C:\\Users\\s_sad\"\n",
    "#in_folder = '/input'\n",
    "\n",
    "json_filename = out_folder + '/auto-query-tweets-oct22.json'\n",
    "\n",
    "#Using the OS library to call CLI commands in Python\n",
    "os.system(f'snscrape --max-results 500 --jsonl --progress --since 2022-10-01 twitter-search \"tesla OR mercedes OR bmw OR audi lang:en until:2022-10-23\" > {json_filename}')\n",
    "\n"
   ]
  },
  {
   "cell_type": "code",
   "execution_count": 29,
   "id": "b9a946d3",
   "metadata": {},
   "outputs": [
    {
     "data": {
      "text/plain": [
       "0"
      ]
     },
     "execution_count": 29,
     "metadata": {},
     "output_type": "execute_result"
    }
   ],
   "source": [
    "out_folder = r\"C:\\Users\\s_sad\"\n",
    "#in_folder = '/input'\n",
    "\n",
    "json_filename = out_folder + '/auto-query-tweets-oct23.json'\n",
    "\n",
    "#Using the OS library to call CLI commands in Python\n",
    "os.system(f'snscrape --max-results 500 --jsonl --progress --since 2022-10-01 twitter-search \"tesla OR mercedes OR bmw OR audi lang:en until:2022-10-24\" > {json_filename}')\n",
    "\n"
   ]
  },
  {
   "cell_type": "code",
   "execution_count": 30,
   "id": "ac17db58",
   "metadata": {},
   "outputs": [
    {
     "data": {
      "text/plain": [
       "0"
      ]
     },
     "execution_count": 30,
     "metadata": {},
     "output_type": "execute_result"
    }
   ],
   "source": [
    "out_folder = r\"C:\\Users\\s_sad\"\n",
    "#in_folder = '/input'\n",
    "\n",
    "json_filename = out_folder + '/auto-query-tweets-oct24.json'\n",
    "\n",
    "#Using the OS library to call CLI commands in Python\n",
    "os.system(f'snscrape --max-results 500 --jsonl --progress --since 2022-10-01 twitter-search \"tesla OR mercedes OR bmw OR audi lang:en until:2022-10-25\" > {json_filename}')\n",
    "\n"
   ]
  },
  {
   "cell_type": "code",
   "execution_count": 31,
   "id": "594b771e",
   "metadata": {},
   "outputs": [
    {
     "data": {
      "text/plain": [
       "0"
      ]
     },
     "execution_count": 31,
     "metadata": {},
     "output_type": "execute_result"
    }
   ],
   "source": [
    "out_folder = r\"C:\\Users\\s_sad\"\n",
    "#in_folder = '/input'\n",
    "\n",
    "json_filename = out_folder + '/auto-query-tweets-oct25.json'\n",
    "\n",
    "#Using the OS library to call CLI commands in Python\n",
    "os.system(f'snscrape --max-results 500 --jsonl --progress --since 2022-10-01 twitter-search \"tesla OR mercedes OR bmw OR audi lang:en until:2022-10-26\" > {json_filename}')\n",
    "\n"
   ]
  },
  {
   "cell_type": "code",
   "execution_count": 32,
   "id": "3be5928f",
   "metadata": {},
   "outputs": [
    {
     "data": {
      "text/plain": [
       "0"
      ]
     },
     "execution_count": 32,
     "metadata": {},
     "output_type": "execute_result"
    }
   ],
   "source": [
    "out_folder = r\"C:\\Users\\s_sad\"\n",
    "#in_folder = '/input'\n",
    "\n",
    "json_filename = out_folder + '/auto-query-tweets-oct26.json'\n",
    "\n",
    "#Using the OS library to call CLI commands in Python\n",
    "os.system(f'snscrape --max-results 500 --jsonl --progress --since 2022-10-01 twitter-search \"tesla OR mercedes OR bmw OR audi lang:en until:2022-10-27\" > {json_filename}')\n",
    "\n"
   ]
  },
  {
   "cell_type": "code",
   "execution_count": 33,
   "id": "fd8dd91f",
   "metadata": {},
   "outputs": [
    {
     "data": {
      "text/plain": [
       "0"
      ]
     },
     "execution_count": 33,
     "metadata": {},
     "output_type": "execute_result"
    }
   ],
   "source": [
    "out_folder = r\"C:\\Users\\s_sad\"\n",
    "#in_folder = '/input'\n",
    "\n",
    "json_filename = out_folder + '/auto-query-tweets-oct27.json'\n",
    "\n",
    "#Using the OS library to call CLI commands in Python\n",
    "os.system(f'snscrape --max-results 500 --jsonl --progress --since 2022-10-01 twitter-search \"tesla OR mercedes OR bmw OR audi lang:en until:2022-10-28\" > {json_filename}')\n",
    "\n"
   ]
  },
  {
   "cell_type": "code",
   "execution_count": 34,
   "id": "244f7b90",
   "metadata": {},
   "outputs": [
    {
     "data": {
      "text/plain": [
       "0"
      ]
     },
     "execution_count": 34,
     "metadata": {},
     "output_type": "execute_result"
    }
   ],
   "source": [
    "out_folder = r\"C:\\Users\\s_sad\"\n",
    "#in_folder = '/input'\n",
    "\n",
    "json_filename = out_folder + '/auto-query-tweets-oct28.json'\n",
    "\n",
    "#Using the OS library to call CLI commands in Python\n",
    "os.system(f'snscrape --max-results 500 --jsonl --progress --since 2022-10-01 twitter-search \"tesla OR mercedes OR bmw OR audi lang:en until:2022-10-29\" > {json_filename}')\n",
    "\n"
   ]
  },
  {
   "cell_type": "code",
   "execution_count": 35,
   "id": "1234fed9",
   "metadata": {},
   "outputs": [
    {
     "data": {
      "text/plain": [
       "0"
      ]
     },
     "execution_count": 35,
     "metadata": {},
     "output_type": "execute_result"
    }
   ],
   "source": [
    "out_folder = r\"C:\\Users\\s_sad\"\n",
    "#in_folder = '/input'\n",
    "\n",
    "json_filename = out_folder + '/auto-query-tweets-oct29.json'\n",
    "\n",
    "#Using the OS library to call CLI commands in Python\n",
    "os.system(f'snscrape --max-results 500 --jsonl --progress --since 2022-10-01 twitter-search \"tesla OR mercedes OR bmw OR audi lang:en until:2022-10-30\" > {json_filename}')\n"
   ]
  },
  {
   "cell_type": "code",
   "execution_count": null,
   "id": "869e50b8",
   "metadata": {},
   "outputs": [],
   "source": [
    "out_folder = r\"C:\\Users\\s_sad\"\n",
    "#in_folder = '/input'\n",
    "\n",
    "json_filename = out_folder + '/auto-query-tweets-oct30.json'\n",
    "\n",
    "#Using the OS library to call CLI commands in Python\n",
    "os.system(f'snscrape --max-results 500 --jsonl --progress --since 2022-10-01 twitter-search \"tesla OR mercedes OR bmw OR audi lang:en until:2022-11-01\" > {json_filename}')\n"
   ]
  },
  {
   "cell_type": "code",
   "execution_count": null,
   "id": "c8621a3b",
   "metadata": {},
   "outputs": [],
   "source": []
  },
  {
   "cell_type": "code",
   "execution_count": 37,
   "id": "3596bc53",
   "metadata": {},
   "outputs": [],
   "source": [
    "oct01 = pd.read_json(r'C:\\Users\\s_sad\\auto-query-tweets-oct01.json', lines=True)\n",
    "oct01.to_csv('auto-query-tweets-oct01.json' + '.csv', index = False)\n",
    "oct1 = pd.read_csv(r'auto-query-tweets-oct01.json.csv')\n"
   ]
  },
  {
   "cell_type": "code",
   "execution_count": 38,
   "id": "029f1f29",
   "metadata": {},
   "outputs": [],
   "source": [
    "oct02 = pd.read_json(r'C:\\Users\\s_sad\\auto-query-tweets-oct02.json', lines=True)\n",
    "oct02.to_csv('auto-query-tweets-oct02.json' + '.csv', index = False)\n",
    "oct2 = pd.read_csv(r'auto-query-tweets-oct02.json.csv')"
   ]
  },
  {
   "cell_type": "code",
   "execution_count": 39,
   "id": "c72e4571",
   "metadata": {},
   "outputs": [],
   "source": [
    "oct03 = pd.read_json(r'C:\\Users\\s_sad\\auto-query-tweets-oct03.json', lines=True)\n",
    "oct03.to_csv('auto-query-tweets-oct03.json' + '.csv', index = False)\n",
    "oct3 = pd.read_csv(r'auto-query-tweets-oct03.json.csv')"
   ]
  },
  {
   "cell_type": "code",
   "execution_count": 40,
   "id": "7a999ea4",
   "metadata": {},
   "outputs": [],
   "source": [
    "oct04 = pd.read_json(r'C:\\Users\\s_sad\\auto-query-tweets-oct04.json', lines=True)\n",
    "oct04.to_csv('auto-query-tweets-oct04.json' + '.csv', index = False)\n",
    "oct4 = pd.read_csv(r'auto-query-tweets-oct04.json.csv')"
   ]
  },
  {
   "cell_type": "code",
   "execution_count": 41,
   "id": "3965e870",
   "metadata": {},
   "outputs": [],
   "source": [
    "oct05 = pd.read_json(r'C:\\Users\\s_sad\\auto-query-tweets-oct05.json', lines=True)\n",
    "oct05.to_csv('auto-query-tweets-oct05.json' + '.csv', index = False)\n",
    "oct5 = pd.read_csv(r'auto-query-tweets-oct05.json.csv')"
   ]
  },
  {
   "cell_type": "code",
   "execution_count": 42,
   "id": "6cdfbc4c",
   "metadata": {},
   "outputs": [],
   "source": [
    "oct06 = pd.read_json(r'C:\\Users\\s_sad\\auto-query-tweets-oct06.json', lines=True)\n",
    "oct06.to_csv('auto-query-tweets-oct06.json' + '.csv', index = False)\n",
    "oct6 = pd.read_csv(r'auto-query-tweets-oct06.json.csv')"
   ]
  },
  {
   "cell_type": "code",
   "execution_count": 43,
   "id": "7a5b7f35",
   "metadata": {},
   "outputs": [],
   "source": [
    "oct07 = pd.read_json(r'C:\\Users\\s_sad\\auto-query-tweets-oct07.json', lines=True)\n",
    "oct07.to_csv(r'auto-query-tweets-oct07.json' + '.csv', index = False)\n",
    "oct7 = pd.read_csv(r'auto-query-tweets-oct07.json.csv')"
   ]
  },
  {
   "cell_type": "code",
   "execution_count": 44,
   "id": "b28df65b",
   "metadata": {},
   "outputs": [],
   "source": [
    "oct08 = pd.read_json(r'C:\\Users\\s_sad\\auto-query-tweets-oct08.json', lines=True)\n",
    "oct08.to_csv('auto-query-tweets-oct08.json' + '.csv', index = False)\n",
    "oct8 = pd.read_csv(r'auto-query-tweets-oct08.json.csv')"
   ]
  },
  {
   "cell_type": "code",
   "execution_count": 45,
   "id": "6e7fa338",
   "metadata": {},
   "outputs": [],
   "source": [
    "oct09 = pd.read_json(r'C:\\Users\\s_sad\\auto-query-tweets-oct09.json', lines=True)\n",
    "oct09.to_csv('auto-query-tweets-oct09.json' + '.csv', index = False)\n",
    "oct9 = pd.read_csv(r'auto-query-tweets-oct09.json.csv')"
   ]
  },
  {
   "cell_type": "code",
   "execution_count": 46,
   "id": "8c715742",
   "metadata": {},
   "outputs": [],
   "source": [
    "oct10 = pd.read_json(r'C:\\Users\\s_sad\\auto-query-tweets-oct10.json', lines=True)\n",
    "oct10.to_csv('auto-query-tweets-oct10.json' + '.csv', index = False)\n",
    "oct10 = pd.read_csv(r'auto-query-tweets-oct10.json.csv')"
   ]
  },
  {
   "cell_type": "code",
   "execution_count": 47,
   "id": "54465cc8",
   "metadata": {},
   "outputs": [],
   "source": [
    "oct11 = pd.read_json(r'C:\\Users\\s_sad\\auto-query-tweets-oct11.json', lines=True)\n",
    "oct11.to_csv('auto-query-tweets-oct11.json' + '.csv', index = False)\n",
    "oct11 = pd.read_csv(r'auto-query-tweets-oct11.json.csv')"
   ]
  },
  {
   "cell_type": "code",
   "execution_count": 48,
   "id": "eaff9aed",
   "metadata": {},
   "outputs": [],
   "source": [
    "oct12 = pd.read_json(r'C:\\Users\\s_sad\\auto-query-tweets-oct12.json', lines=True)\n",
    "oct12.to_csv('auto-query-tweets-oct12.json' + '.csv', index = False)\n",
    "oct12 = pd.read_csv(r'auto-query-tweets-oct12.json.csv')"
   ]
  },
  {
   "cell_type": "code",
   "execution_count": 49,
   "id": "1e1fd050",
   "metadata": {},
   "outputs": [],
   "source": [
    "oct13 = pd.read_json(r'C:\\Users\\s_sad\\auto-query-tweets-oct13.json', lines=True)\n",
    "oct13.to_csv('auto-query-tweets-oct13.json' + '.csv', index = False)\n",
    "oct13 = pd.read_csv(r'auto-query-tweets-oct13.json.csv')"
   ]
  },
  {
   "cell_type": "code",
   "execution_count": 50,
   "id": "037d0387",
   "metadata": {},
   "outputs": [],
   "source": [
    "oct14 = pd.read_json(r'C:\\Users\\s_sad\\auto-query-tweets-oct14.json', lines=True)\n",
    "oct14.to_csv('auto-query-tweets-oct14.json' + '.csv', index = False)\n",
    "oct14 = pd.read_csv(r'auto-query-tweets-oct14.json.csv')"
   ]
  },
  {
   "cell_type": "code",
   "execution_count": 51,
   "id": "fce67aa6",
   "metadata": {},
   "outputs": [],
   "source": [
    "oct15 = pd.read_json(r'C:\\Users\\s_sad\\auto-query-tweets-oct15.json', lines=True)\n",
    "oct15.to_csv('auto-query-tweets-oct15.json' + '.csv', index = False)\n",
    "oct15 = pd.read_csv(r'auto-query-tweets-oct15.json.csv')"
   ]
  },
  {
   "cell_type": "code",
   "execution_count": 52,
   "id": "48feb94d",
   "metadata": {},
   "outputs": [],
   "source": [
    "oct16 = pd.read_json(r'C:\\Users\\s_sad\\auto-query-tweets-oct16.json', lines=True)\n",
    "oct16.to_csv('auto-query-tweets-oct16.json' + '.csv', index = False)\n",
    "oct16 = pd.read_csv(r'auto-query-tweets-oct16.json.csv')"
   ]
  },
  {
   "cell_type": "code",
   "execution_count": 53,
   "id": "83a401b2",
   "metadata": {},
   "outputs": [],
   "source": [
    "oct17 = pd.read_json(r'C:\\Users\\s_sad\\auto-query-tweets-oct17.json', lines=True)\n",
    "oct17.to_csv('auto-query-tweets-oct17.json' + '.csv', index = False)\n",
    "oct17 = pd.read_csv(r'auto-query-tweets-oct17.json.csv')"
   ]
  },
  {
   "cell_type": "code",
   "execution_count": 54,
   "id": "39041f00",
   "metadata": {},
   "outputs": [],
   "source": [
    "oct18 = pd.read_json(r'C:\\Users\\s_sad\\auto-query-tweets-oct18.json', lines=True)\n",
    "oct18.to_csv('auto-query-tweets-oct18.json' + '.csv', index = False)\n",
    "oct18 = pd.read_csv(r'auto-query-tweets-oct18.json.csv')"
   ]
  },
  {
   "cell_type": "code",
   "execution_count": 55,
   "id": "9bb0583f",
   "metadata": {},
   "outputs": [],
   "source": [
    "oct19 = pd.read_json(r'C:\\Users\\s_sad\\auto-query-tweets-oct19.json', lines=True)\n",
    "oct19.to_csv('auto-query-tweets-oct19.json' + '.csv', index = False)\n",
    "oct19 = pd.read_csv(r'auto-query-tweets-oct19.json.csv')"
   ]
  },
  {
   "cell_type": "code",
   "execution_count": 56,
   "id": "f9d93a03",
   "metadata": {},
   "outputs": [],
   "source": [
    "oct20 = pd.read_json(r'C:\\Users\\s_sad\\auto-query-tweets-oct20.json', lines=True)\n",
    "oct20.to_csv('auto-query-tweets-oct20.json' + '.csv', index = False)\n",
    "oct20 = pd.read_csv(r'auto-query-tweets-oct20.json.csv')"
   ]
  },
  {
   "cell_type": "code",
   "execution_count": 57,
   "id": "4a662477",
   "metadata": {},
   "outputs": [],
   "source": [
    "oct21 = pd.read_json(r'C:\\Users\\s_sad\\auto-query-tweets-oct21.json', lines=True)\n",
    "oct21.to_csv('auto-query-tweets-oct21.json' + '.csv', index = False)\n",
    "oct21 = pd.read_csv(r'auto-query-tweets-oct21.json.csv')"
   ]
  },
  {
   "cell_type": "code",
   "execution_count": 58,
   "id": "8c638aa7",
   "metadata": {},
   "outputs": [],
   "source": [
    "oct22 = pd.read_json(r'C:\\Users\\s_sad\\auto-query-tweets-oct22.json', lines=True)\n",
    "oct22.to_csv('auto-query-tweets-oct22.json' + '.csv', index = False)\n",
    "oct22 = pd.read_csv(r'auto-query-tweets-oct22.json.csv')"
   ]
  },
  {
   "cell_type": "code",
   "execution_count": 59,
   "id": "3071f5e5",
   "metadata": {},
   "outputs": [],
   "source": [
    "oct23 = pd.read_json(r'C:\\Users\\s_sad\\auto-query-tweets-oct23.json', lines=True)\n",
    "oct23.to_csv('auto-query-tweets-oct23.json' + '.csv', index = False)\n",
    "oct23 = pd.read_csv(r'auto-query-tweets-oct23.json.csv')"
   ]
  },
  {
   "cell_type": "code",
   "execution_count": 60,
   "id": "90d86234",
   "metadata": {},
   "outputs": [],
   "source": [
    "oct24 = pd.read_json(r'C:\\Users\\s_sad\\auto-query-tweets-oct24.json', lines=True)\n",
    "oct24.to_csv('auto-query-tweets-oct24.json' + '.csv', index = False)\n",
    "oct24 = pd.read_csv(r'auto-query-tweets-oct24.json.csv')"
   ]
  },
  {
   "cell_type": "code",
   "execution_count": 61,
   "id": "22c7bcd0",
   "metadata": {},
   "outputs": [],
   "source": [
    "oct25 = pd.read_json(r'C:\\Users\\s_sad\\auto-query-tweets-oct25.json', lines=True)\n",
    "oct25.to_csv('auto-query-tweets-oct25.json' + '.csv', index = False)\n",
    "oct25 = pd.read_csv(r'auto-query-tweets-oct25.json.csv')"
   ]
  },
  {
   "cell_type": "code",
   "execution_count": 62,
   "id": "e2adbc24",
   "metadata": {},
   "outputs": [],
   "source": [
    "oct26 = pd.read_json(r'C:\\Users\\s_sad\\auto-query-tweets-oct26.json', lines=True)\n",
    "oct26.to_csv('auto-query-tweets-oct26.json' + '.csv', index = False)\n",
    "oct26 = pd.read_csv(r'auto-query-tweets-oct26.json.csv')"
   ]
  },
  {
   "cell_type": "code",
   "execution_count": 63,
   "id": "199fbcbe",
   "metadata": {},
   "outputs": [],
   "source": [
    "oct27 = pd.read_json(r'C:\\Users\\s_sad\\auto-query-tweets-oct27.json', lines=True)\n",
    "oct27.to_csv('auto-query-tweets-oct27.json' + '.csv', index = False)\n",
    "oct27 = pd.read_csv(r'auto-query-tweets-oct27.json.csv')"
   ]
  },
  {
   "cell_type": "code",
   "execution_count": 64,
   "id": "57ea1603",
   "metadata": {},
   "outputs": [
    {
     "data": {
      "text/html": [
       "<div>\n",
       "<style scoped>\n",
       "    .dataframe tbody tr th:only-of-type {\n",
       "        vertical-align: middle;\n",
       "    }\n",
       "\n",
       "    .dataframe tbody tr th {\n",
       "        vertical-align: top;\n",
       "    }\n",
       "\n",
       "    .dataframe thead th {\n",
       "        text-align: right;\n",
       "    }\n",
       "</style>\n",
       "<table border=\"1\" class=\"dataframe\">\n",
       "  <thead>\n",
       "    <tr style=\"text-align: right;\">\n",
       "      <th></th>\n",
       "      <th>_type</th>\n",
       "      <th>url</th>\n",
       "      <th>date</th>\n",
       "      <th>rawContent</th>\n",
       "      <th>renderedContent</th>\n",
       "      <th>id</th>\n",
       "      <th>user</th>\n",
       "      <th>replyCount</th>\n",
       "      <th>retweetCount</th>\n",
       "      <th>likeCount</th>\n",
       "      <th>...</th>\n",
       "      <th>retweetedTweet</th>\n",
       "      <th>quotedTweet</th>\n",
       "      <th>inReplyToTweetId</th>\n",
       "      <th>inReplyToUser</th>\n",
       "      <th>mentionedUsers</th>\n",
       "      <th>coordinates</th>\n",
       "      <th>place</th>\n",
       "      <th>hashtags</th>\n",
       "      <th>cashtags</th>\n",
       "      <th>card</th>\n",
       "    </tr>\n",
       "  </thead>\n",
       "  <tbody>\n",
       "    <tr>\n",
       "      <th>0</th>\n",
       "      <td>snscrape.modules.twitter.Tweet</td>\n",
       "      <td>https://twitter.com/David85177154/status/15861...</td>\n",
       "      <td>2022-10-28 23:59:58+00:00</td>\n",
       "      <td>@Tesla @jeremyjudkins_ It's all fun and games ...</td>\n",
       "      <td>@Tesla @jeremyjudkins_ It's all fun and games ...</td>\n",
       "      <td>1586145784042557441</td>\n",
       "      <td>{'_type': 'snscrape.modules.twitter.User', 'us...</td>\n",
       "      <td>0</td>\n",
       "      <td>0</td>\n",
       "      <td>0</td>\n",
       "      <td>...</td>\n",
       "      <td>NaN</td>\n",
       "      <td>NaN</td>\n",
       "      <td>1.586100e+18</td>\n",
       "      <td>{'_type': 'snscrape.modules.twitter.User', 'us...</td>\n",
       "      <td>[{'_type': 'snscrape.modules.twitter.User', 'u...</td>\n",
       "      <td>NaN</td>\n",
       "      <td>NaN</td>\n",
       "      <td>NaN</td>\n",
       "      <td>NaN</td>\n",
       "      <td>NaN</td>\n",
       "    </tr>\n",
       "    <tr>\n",
       "      <th>1</th>\n",
       "      <td>snscrape.modules.twitter.Tweet</td>\n",
       "      <td>https://twitter.com/u110110/status/15861457808...</td>\n",
       "      <td>2022-10-28 23:59:57+00:00</td>\n",
       "      <td>@chokmoo @WholeMarsBlog It’s mostly questions ...</td>\n",
       "      <td>@chokmoo @WholeMarsBlog It’s mostly questions ...</td>\n",
       "      <td>1586145780854796288</td>\n",
       "      <td>{'_type': 'snscrape.modules.twitter.User', 'us...</td>\n",
       "      <td>0</td>\n",
       "      <td>0</td>\n",
       "      <td>3</td>\n",
       "      <td>...</td>\n",
       "      <td>NaN</td>\n",
       "      <td>NaN</td>\n",
       "      <td>1.586143e+18</td>\n",
       "      <td>{'_type': 'snscrape.modules.twitter.User', 'us...</td>\n",
       "      <td>[{'_type': 'snscrape.modules.twitter.User', 'u...</td>\n",
       "      <td>NaN</td>\n",
       "      <td>NaN</td>\n",
       "      <td>NaN</td>\n",
       "      <td>NaN</td>\n",
       "      <td>NaN</td>\n",
       "    </tr>\n",
       "    <tr>\n",
       "      <th>2</th>\n",
       "      <td>snscrape.modules.twitter.Tweet</td>\n",
       "      <td>https://twitter.com/qwtyioasfg/status/15861457...</td>\n",
       "      <td>2022-10-28 23:59:57+00:00</td>\n",
       "      <td>@ThatMumboJumbo even grian bought a tesla. u d...</td>\n",
       "      <td>@ThatMumboJumbo even grian bought a tesla. u d...</td>\n",
       "      <td>1586145780842123264</td>\n",
       "      <td>{'_type': 'snscrape.modules.twitter.User', 'us...</td>\n",
       "      <td>0</td>\n",
       "      <td>0</td>\n",
       "      <td>0</td>\n",
       "      <td>...</td>\n",
       "      <td>NaN</td>\n",
       "      <td>NaN</td>\n",
       "      <td>1.586103e+18</td>\n",
       "      <td>{'_type': 'snscrape.modules.twitter.User', 'us...</td>\n",
       "      <td>[{'_type': 'snscrape.modules.twitter.User', 'u...</td>\n",
       "      <td>NaN</td>\n",
       "      <td>NaN</td>\n",
       "      <td>NaN</td>\n",
       "      <td>NaN</td>\n",
       "      <td>NaN</td>\n",
       "    </tr>\n",
       "    <tr>\n",
       "      <th>3</th>\n",
       "      <td>snscrape.modules.twitter.Tweet</td>\n",
       "      <td>https://twitter.com/SteelerGalXSora/status/158...</td>\n",
       "      <td>2022-10-28 23:59:56+00:00</td>\n",
       "      <td>@ThisIsKyleR @elonmusk I hope he gives me a Te...</td>\n",
       "      <td>@ThisIsKyleR @elonmusk I hope he gives me a Te...</td>\n",
       "      <td>1586145773992960002</td>\n",
       "      <td>{'_type': 'snscrape.modules.twitter.User', 'us...</td>\n",
       "      <td>15</td>\n",
       "      <td>0</td>\n",
       "      <td>32</td>\n",
       "      <td>...</td>\n",
       "      <td>NaN</td>\n",
       "      <td>NaN</td>\n",
       "      <td>1.586143e+18</td>\n",
       "      <td>{'_type': 'snscrape.modules.twitter.User', 'us...</td>\n",
       "      <td>[{'_type': 'snscrape.modules.twitter.User', 'u...</td>\n",
       "      <td>NaN</td>\n",
       "      <td>NaN</td>\n",
       "      <td>NaN</td>\n",
       "      <td>NaN</td>\n",
       "      <td>NaN</td>\n",
       "    </tr>\n",
       "    <tr>\n",
       "      <th>4</th>\n",
       "      <td>snscrape.modules.twitter.Tweet</td>\n",
       "      <td>https://twitter.com/FWLooms/status/15861457486...</td>\n",
       "      <td>2022-10-28 23:59:50+00:00</td>\n",
       "      <td>Imagine getting fired by your new boss and he ...</td>\n",
       "      <td>Imagine getting fired by your new boss and he ...</td>\n",
       "      <td>1586145748680265730</td>\n",
       "      <td>{'_type': 'snscrape.modules.twitter.User', 'us...</td>\n",
       "      <td>0</td>\n",
       "      <td>0</td>\n",
       "      <td>0</td>\n",
       "      <td>...</td>\n",
       "      <td>NaN</td>\n",
       "      <td>NaN</td>\n",
       "      <td>1.586141e+18</td>\n",
       "      <td>{'_type': 'snscrape.modules.twitter.User', 'us...</td>\n",
       "      <td>NaN</td>\n",
       "      <td>NaN</td>\n",
       "      <td>NaN</td>\n",
       "      <td>NaN</td>\n",
       "      <td>NaN</td>\n",
       "      <td>NaN</td>\n",
       "    </tr>\n",
       "    <tr>\n",
       "      <th>...</th>\n",
       "      <td>...</td>\n",
       "      <td>...</td>\n",
       "      <td>...</td>\n",
       "      <td>...</td>\n",
       "      <td>...</td>\n",
       "      <td>...</td>\n",
       "      <td>...</td>\n",
       "      <td>...</td>\n",
       "      <td>...</td>\n",
       "      <td>...</td>\n",
       "      <td>...</td>\n",
       "      <td>...</td>\n",
       "      <td>...</td>\n",
       "      <td>...</td>\n",
       "      <td>...</td>\n",
       "      <td>...</td>\n",
       "      <td>...</td>\n",
       "      <td>...</td>\n",
       "      <td>...</td>\n",
       "      <td>...</td>\n",
       "      <td>...</td>\n",
       "    </tr>\n",
       "    <tr>\n",
       "      <th>495</th>\n",
       "      <td>snscrape.modules.twitter.Tweet</td>\n",
       "      <td>https://twitter.com/oracletim1/status/15861407...</td>\n",
       "      <td>2022-10-28 23:40:09+00:00</td>\n",
       "      <td>Future FAANG will be STONX Starlink/ SpaceX, T...</td>\n",
       "      <td>Future FAANG will be STONX Starlink/ SpaceX, T...</td>\n",
       "      <td>1586140794708144128</td>\n",
       "      <td>{'_type': 'snscrape.modules.twitter.User', 'us...</td>\n",
       "      <td>8</td>\n",
       "      <td>7</td>\n",
       "      <td>56</td>\n",
       "      <td>...</td>\n",
       "      <td>NaN</td>\n",
       "      <td>NaN</td>\n",
       "      <td>NaN</td>\n",
       "      <td>NaN</td>\n",
       "      <td>[{'_type': 'snscrape.modules.twitter.User', 'u...</td>\n",
       "      <td>{'_type': 'snscrape.modules.twitter.Coordinate...</td>\n",
       "      <td>{'_type': 'snscrape.modules.twitter.Place', 'i...</td>\n",
       "      <td>NaN</td>\n",
       "      <td>['TSLA']</td>\n",
       "      <td>NaN</td>\n",
       "    </tr>\n",
       "    <tr>\n",
       "      <th>496</th>\n",
       "      <td>snscrape.modules.twitter.Tweet</td>\n",
       "      <td>https://twitter.com/SensorsAir/status/15861407...</td>\n",
       "      <td>2022-10-28 23:40:08+00:00</td>\n",
       "      <td>For Audi A4 TT Quattro VW Beetle Passat Spectr...</td>\n",
       "      <td>For Audi A4 TT Quattro VW Beetle Passat Spectr...</td>\n",
       "      <td>1586140791390756864</td>\n",
       "      <td>{'_type': 'snscrape.modules.twitter.User', 'us...</td>\n",
       "      <td>0</td>\n",
       "      <td>0</td>\n",
       "      <td>0</td>\n",
       "      <td>...</td>\n",
       "      <td>NaN</td>\n",
       "      <td>NaN</td>\n",
       "      <td>NaN</td>\n",
       "      <td>NaN</td>\n",
       "      <td>NaN</td>\n",
       "      <td>NaN</td>\n",
       "      <td>NaN</td>\n",
       "      <td>NaN</td>\n",
       "      <td>NaN</td>\n",
       "      <td>NaN</td>\n",
       "    </tr>\n",
       "    <tr>\n",
       "      <th>497</th>\n",
       "      <td>snscrape.modules.twitter.Tweet</td>\n",
       "      <td>https://twitter.com/parts_brake/status/1586140...</td>\n",
       "      <td>2022-10-28 23:40:08+00:00</td>\n",
       "      <td>For Audi A4 A6 Quattro &amp;amp; VW Passat Centric...</td>\n",
       "      <td>For Audi A4 A6 Quattro &amp;amp; VW Passat Centric...</td>\n",
       "      <td>1586140790077939712</td>\n",
       "      <td>{'_type': 'snscrape.modules.twitter.User', 'us...</td>\n",
       "      <td>0</td>\n",
       "      <td>0</td>\n",
       "      <td>0</td>\n",
       "      <td>...</td>\n",
       "      <td>NaN</td>\n",
       "      <td>NaN</td>\n",
       "      <td>NaN</td>\n",
       "      <td>NaN</td>\n",
       "      <td>NaN</td>\n",
       "      <td>NaN</td>\n",
       "      <td>NaN</td>\n",
       "      <td>NaN</td>\n",
       "      <td>NaN</td>\n",
       "      <td>NaN</td>\n",
       "    </tr>\n",
       "    <tr>\n",
       "      <th>498</th>\n",
       "      <td>snscrape.modules.twitter.Tweet</td>\n",
       "      <td>https://twitter.com/BodiesThrottle/status/1586...</td>\n",
       "      <td>2022-10-28 23:40:07+00:00</td>\n",
       "      <td>Throttle Body 204 Type C300 Fits 05-14 MERCEDE...</td>\n",
       "      <td>Throttle Body 204 Type C300 Fits 05-14 MERCEDE...</td>\n",
       "      <td>1586140787754270720</td>\n",
       "      <td>{'_type': 'snscrape.modules.twitter.User', 'us...</td>\n",
       "      <td>0</td>\n",
       "      <td>0</td>\n",
       "      <td>0</td>\n",
       "      <td>...</td>\n",
       "      <td>NaN</td>\n",
       "      <td>NaN</td>\n",
       "      <td>NaN</td>\n",
       "      <td>NaN</td>\n",
       "      <td>NaN</td>\n",
       "      <td>NaN</td>\n",
       "      <td>NaN</td>\n",
       "      <td>NaN</td>\n",
       "      <td>NaN</td>\n",
       "      <td>{'_type': 'snscrape.modules.twitter.SummaryCar...</td>\n",
       "    </tr>\n",
       "    <tr>\n",
       "      <th>499</th>\n",
       "      <td>snscrape.modules.twitter.Tweet</td>\n",
       "      <td>https://twitter.com/173rdOEFVet/status/1586140...</td>\n",
       "      <td>2022-10-28 23:40:07+00:00</td>\n",
       "      <td>@softtail65 Not surprising they are direct EV ...</td>\n",
       "      <td>@softtail65 Not surprising they are direct EV ...</td>\n",
       "      <td>1586140787733106689</td>\n",
       "      <td>{'_type': 'snscrape.modules.twitter.User', 'us...</td>\n",
       "      <td>0</td>\n",
       "      <td>0</td>\n",
       "      <td>0</td>\n",
       "      <td>...</td>\n",
       "      <td>NaN</td>\n",
       "      <td>NaN</td>\n",
       "      <td>1.586126e+18</td>\n",
       "      <td>{'_type': 'snscrape.modules.twitter.User', 'us...</td>\n",
       "      <td>[{'_type': 'snscrape.modules.twitter.User', 'u...</td>\n",
       "      <td>NaN</td>\n",
       "      <td>NaN</td>\n",
       "      <td>NaN</td>\n",
       "      <td>NaN</td>\n",
       "      <td>NaN</td>\n",
       "    </tr>\n",
       "  </tbody>\n",
       "</table>\n",
       "<p>500 rows × 28 columns</p>\n",
       "</div>"
      ],
      "text/plain": [
       "                              _type  \\\n",
       "0    snscrape.modules.twitter.Tweet   \n",
       "1    snscrape.modules.twitter.Tweet   \n",
       "2    snscrape.modules.twitter.Tweet   \n",
       "3    snscrape.modules.twitter.Tweet   \n",
       "4    snscrape.modules.twitter.Tweet   \n",
       "..                              ...   \n",
       "495  snscrape.modules.twitter.Tweet   \n",
       "496  snscrape.modules.twitter.Tweet   \n",
       "497  snscrape.modules.twitter.Tweet   \n",
       "498  snscrape.modules.twitter.Tweet   \n",
       "499  snscrape.modules.twitter.Tweet   \n",
       "\n",
       "                                                   url  \\\n",
       "0    https://twitter.com/David85177154/status/15861...   \n",
       "1    https://twitter.com/u110110/status/15861457808...   \n",
       "2    https://twitter.com/qwtyioasfg/status/15861457...   \n",
       "3    https://twitter.com/SteelerGalXSora/status/158...   \n",
       "4    https://twitter.com/FWLooms/status/15861457486...   \n",
       "..                                                 ...   \n",
       "495  https://twitter.com/oracletim1/status/15861407...   \n",
       "496  https://twitter.com/SensorsAir/status/15861407...   \n",
       "497  https://twitter.com/parts_brake/status/1586140...   \n",
       "498  https://twitter.com/BodiesThrottle/status/1586...   \n",
       "499  https://twitter.com/173rdOEFVet/status/1586140...   \n",
       "\n",
       "                          date  \\\n",
       "0    2022-10-28 23:59:58+00:00   \n",
       "1    2022-10-28 23:59:57+00:00   \n",
       "2    2022-10-28 23:59:57+00:00   \n",
       "3    2022-10-28 23:59:56+00:00   \n",
       "4    2022-10-28 23:59:50+00:00   \n",
       "..                         ...   \n",
       "495  2022-10-28 23:40:09+00:00   \n",
       "496  2022-10-28 23:40:08+00:00   \n",
       "497  2022-10-28 23:40:08+00:00   \n",
       "498  2022-10-28 23:40:07+00:00   \n",
       "499  2022-10-28 23:40:07+00:00   \n",
       "\n",
       "                                            rawContent  \\\n",
       "0    @Tesla @jeremyjudkins_ It's all fun and games ...   \n",
       "1    @chokmoo @WholeMarsBlog It’s mostly questions ...   \n",
       "2    @ThatMumboJumbo even grian bought a tesla. u d...   \n",
       "3    @ThisIsKyleR @elonmusk I hope he gives me a Te...   \n",
       "4    Imagine getting fired by your new boss and he ...   \n",
       "..                                                 ...   \n",
       "495  Future FAANG will be STONX Starlink/ SpaceX, T...   \n",
       "496  For Audi A4 TT Quattro VW Beetle Passat Spectr...   \n",
       "497  For Audi A4 A6 Quattro &amp; VW Passat Centric...   \n",
       "498  Throttle Body 204 Type C300 Fits 05-14 MERCEDE...   \n",
       "499  @softtail65 Not surprising they are direct EV ...   \n",
       "\n",
       "                                       renderedContent                   id  \\\n",
       "0    @Tesla @jeremyjudkins_ It's all fun and games ...  1586145784042557441   \n",
       "1    @chokmoo @WholeMarsBlog It’s mostly questions ...  1586145780854796288   \n",
       "2    @ThatMumboJumbo even grian bought a tesla. u d...  1586145780842123264   \n",
       "3    @ThisIsKyleR @elonmusk I hope he gives me a Te...  1586145773992960002   \n",
       "4    Imagine getting fired by your new boss and he ...  1586145748680265730   \n",
       "..                                                 ...                  ...   \n",
       "495  Future FAANG will be STONX Starlink/ SpaceX, T...  1586140794708144128   \n",
       "496  For Audi A4 TT Quattro VW Beetle Passat Spectr...  1586140791390756864   \n",
       "497  For Audi A4 A6 Quattro &amp; VW Passat Centric...  1586140790077939712   \n",
       "498  Throttle Body 204 Type C300 Fits 05-14 MERCEDE...  1586140787754270720   \n",
       "499  @softtail65 Not surprising they are direct EV ...  1586140787733106689   \n",
       "\n",
       "                                                  user  replyCount  \\\n",
       "0    {'_type': 'snscrape.modules.twitter.User', 'us...           0   \n",
       "1    {'_type': 'snscrape.modules.twitter.User', 'us...           0   \n",
       "2    {'_type': 'snscrape.modules.twitter.User', 'us...           0   \n",
       "3    {'_type': 'snscrape.modules.twitter.User', 'us...          15   \n",
       "4    {'_type': 'snscrape.modules.twitter.User', 'us...           0   \n",
       "..                                                 ...         ...   \n",
       "495  {'_type': 'snscrape.modules.twitter.User', 'us...           8   \n",
       "496  {'_type': 'snscrape.modules.twitter.User', 'us...           0   \n",
       "497  {'_type': 'snscrape.modules.twitter.User', 'us...           0   \n",
       "498  {'_type': 'snscrape.modules.twitter.User', 'us...           0   \n",
       "499  {'_type': 'snscrape.modules.twitter.User', 'us...           0   \n",
       "\n",
       "     retweetCount  likeCount  ...  retweetedTweet  quotedTweet  \\\n",
       "0               0          0  ...             NaN          NaN   \n",
       "1               0          3  ...             NaN          NaN   \n",
       "2               0          0  ...             NaN          NaN   \n",
       "3               0         32  ...             NaN          NaN   \n",
       "4               0          0  ...             NaN          NaN   \n",
       "..            ...        ...  ...             ...          ...   \n",
       "495             7         56  ...             NaN          NaN   \n",
       "496             0          0  ...             NaN          NaN   \n",
       "497             0          0  ...             NaN          NaN   \n",
       "498             0          0  ...             NaN          NaN   \n",
       "499             0          0  ...             NaN          NaN   \n",
       "\n",
       "    inReplyToTweetId                                      inReplyToUser  \\\n",
       "0       1.586100e+18  {'_type': 'snscrape.modules.twitter.User', 'us...   \n",
       "1       1.586143e+18  {'_type': 'snscrape.modules.twitter.User', 'us...   \n",
       "2       1.586103e+18  {'_type': 'snscrape.modules.twitter.User', 'us...   \n",
       "3       1.586143e+18  {'_type': 'snscrape.modules.twitter.User', 'us...   \n",
       "4       1.586141e+18  {'_type': 'snscrape.modules.twitter.User', 'us...   \n",
       "..               ...                                                ...   \n",
       "495              NaN                                                NaN   \n",
       "496              NaN                                                NaN   \n",
       "497              NaN                                                NaN   \n",
       "498              NaN                                                NaN   \n",
       "499     1.586126e+18  {'_type': 'snscrape.modules.twitter.User', 'us...   \n",
       "\n",
       "                                        mentionedUsers  \\\n",
       "0    [{'_type': 'snscrape.modules.twitter.User', 'u...   \n",
       "1    [{'_type': 'snscrape.modules.twitter.User', 'u...   \n",
       "2    [{'_type': 'snscrape.modules.twitter.User', 'u...   \n",
       "3    [{'_type': 'snscrape.modules.twitter.User', 'u...   \n",
       "4                                                  NaN   \n",
       "..                                                 ...   \n",
       "495  [{'_type': 'snscrape.modules.twitter.User', 'u...   \n",
       "496                                                NaN   \n",
       "497                                                NaN   \n",
       "498                                                NaN   \n",
       "499  [{'_type': 'snscrape.modules.twitter.User', 'u...   \n",
       "\n",
       "                                           coordinates  \\\n",
       "0                                                  NaN   \n",
       "1                                                  NaN   \n",
       "2                                                  NaN   \n",
       "3                                                  NaN   \n",
       "4                                                  NaN   \n",
       "..                                                 ...   \n",
       "495  {'_type': 'snscrape.modules.twitter.Coordinate...   \n",
       "496                                                NaN   \n",
       "497                                                NaN   \n",
       "498                                                NaN   \n",
       "499                                                NaN   \n",
       "\n",
       "                                                 place hashtags  cashtags  \\\n",
       "0                                                  NaN      NaN       NaN   \n",
       "1                                                  NaN      NaN       NaN   \n",
       "2                                                  NaN      NaN       NaN   \n",
       "3                                                  NaN      NaN       NaN   \n",
       "4                                                  NaN      NaN       NaN   \n",
       "..                                                 ...      ...       ...   \n",
       "495  {'_type': 'snscrape.modules.twitter.Place', 'i...      NaN  ['TSLA']   \n",
       "496                                                NaN      NaN       NaN   \n",
       "497                                                NaN      NaN       NaN   \n",
       "498                                                NaN      NaN       NaN   \n",
       "499                                                NaN      NaN       NaN   \n",
       "\n",
       "                                                  card  \n",
       "0                                                  NaN  \n",
       "1                                                  NaN  \n",
       "2                                                  NaN  \n",
       "3                                                  NaN  \n",
       "4                                                  NaN  \n",
       "..                                                 ...  \n",
       "495                                                NaN  \n",
       "496                                                NaN  \n",
       "497                                                NaN  \n",
       "498  {'_type': 'snscrape.modules.twitter.SummaryCar...  \n",
       "499                                                NaN  \n",
       "\n",
       "[500 rows x 28 columns]"
      ]
     },
     "execution_count": 64,
     "metadata": {},
     "output_type": "execute_result"
    }
   ],
   "source": [
    "oct28 = pd.read_json(r'C:\\Users\\s_sad\\auto-query-tweets-oct28.json', lines=True)\n",
    "oct28.to_csv('auto-query-tweets-oct28.json' + '.csv', index = False)\n",
    "oct28 = pd.read_csv(r'auto-query-tweets-oct28.json.csv')\n",
    "oct28"
   ]
  },
  {
   "cell_type": "code",
   "execution_count": 65,
   "id": "3f1d5c06",
   "metadata": {},
   "outputs": [
    {
     "data": {
      "text/html": [
       "<div>\n",
       "<style scoped>\n",
       "    .dataframe tbody tr th:only-of-type {\n",
       "        vertical-align: middle;\n",
       "    }\n",
       "\n",
       "    .dataframe tbody tr th {\n",
       "        vertical-align: top;\n",
       "    }\n",
       "\n",
       "    .dataframe thead th {\n",
       "        text-align: right;\n",
       "    }\n",
       "</style>\n",
       "<table border=\"1\" class=\"dataframe\">\n",
       "  <thead>\n",
       "    <tr style=\"text-align: right;\">\n",
       "      <th></th>\n",
       "      <th>_type</th>\n",
       "      <th>url</th>\n",
       "      <th>date</th>\n",
       "      <th>rawContent</th>\n",
       "      <th>renderedContent</th>\n",
       "      <th>id</th>\n",
       "      <th>user</th>\n",
       "      <th>replyCount</th>\n",
       "      <th>retweetCount</th>\n",
       "      <th>likeCount</th>\n",
       "      <th>...</th>\n",
       "      <th>retweetedTweet</th>\n",
       "      <th>quotedTweet</th>\n",
       "      <th>inReplyToTweetId</th>\n",
       "      <th>inReplyToUser</th>\n",
       "      <th>mentionedUsers</th>\n",
       "      <th>coordinates</th>\n",
       "      <th>place</th>\n",
       "      <th>hashtags</th>\n",
       "      <th>cashtags</th>\n",
       "      <th>card</th>\n",
       "    </tr>\n",
       "  </thead>\n",
       "  <tbody>\n",
       "    <tr>\n",
       "      <th>0</th>\n",
       "      <td>snscrape.modules.twitter.Tweet</td>\n",
       "      <td>https://twitter.com/Gustavo_Caleira/status/158...</td>\n",
       "      <td>2022-10-29 23:59:59+00:00</td>\n",
       "      <td>If 2 million really meant 2 tenths a lap, they...</td>\n",
       "      <td>If 2 million really meant 2 tenths a lap, they...</td>\n",
       "      <td>1586508176664371200</td>\n",
       "      <td>{'_type': 'snscrape.modules.twitter.User', 'us...</td>\n",
       "      <td>0</td>\n",
       "      <td>0</td>\n",
       "      <td>0</td>\n",
       "      <td>...</td>\n",
       "      <td>NaN</td>\n",
       "      <td>{'_type': 'snscrape.modules.twitter.Tweet', 'u...</td>\n",
       "      <td>NaN</td>\n",
       "      <td>NaN</td>\n",
       "      <td>NaN</td>\n",
       "      <td>NaN</td>\n",
       "      <td>NaN</td>\n",
       "      <td>NaN</td>\n",
       "      <td>NaN</td>\n",
       "      <td>NaN</td>\n",
       "    </tr>\n",
       "    <tr>\n",
       "      <th>1</th>\n",
       "      <td>snscrape.modules.twitter.Tweet</td>\n",
       "      <td>https://twitter.com/erikrunia/status/158650817...</td>\n",
       "      <td>2022-10-29 23:59:59+00:00</td>\n",
       "      <td>@twinautismmom @elonmusk It’s elons secret plo...</td>\n",
       "      <td>@twinautismmom @elonmusk It’s elons secret plo...</td>\n",
       "      <td>1586508175158960128</td>\n",
       "      <td>{'_type': 'snscrape.modules.twitter.User', 'us...</td>\n",
       "      <td>0</td>\n",
       "      <td>0</td>\n",
       "      <td>0</td>\n",
       "      <td>...</td>\n",
       "      <td>NaN</td>\n",
       "      <td>NaN</td>\n",
       "      <td>1.585813e+18</td>\n",
       "      <td>{'_type': 'snscrape.modules.twitter.User', 'us...</td>\n",
       "      <td>[{'_type': 'snscrape.modules.twitter.User', 'u...</td>\n",
       "      <td>NaN</td>\n",
       "      <td>NaN</td>\n",
       "      <td>NaN</td>\n",
       "      <td>NaN</td>\n",
       "      <td>NaN</td>\n",
       "    </tr>\n",
       "    <tr>\n",
       "      <th>2</th>\n",
       "      <td>snscrape.modules.twitter.Tweet</td>\n",
       "      <td>https://twitter.com/pmsyyz/status/158650817501...</td>\n",
       "      <td>2022-10-29 23:59:59+00:00</td>\n",
       "      <td>First time charging at the Baltimore, Maryland...</td>\n",
       "      <td>First time charging at the Baltimore, Maryland...</td>\n",
       "      <td>1586508175011823617</td>\n",
       "      <td>{'_type': 'snscrape.modules.twitter.User', 'us...</td>\n",
       "      <td>0</td>\n",
       "      <td>0</td>\n",
       "      <td>2</td>\n",
       "      <td>...</td>\n",
       "      <td>NaN</td>\n",
       "      <td>NaN</td>\n",
       "      <td>NaN</td>\n",
       "      <td>NaN</td>\n",
       "      <td>NaN</td>\n",
       "      <td>{'_type': 'snscrape.modules.twitter.Coordinate...</td>\n",
       "      <td>{'_type': 'snscrape.modules.twitter.Place', 'i...</td>\n",
       "      <td>NaN</td>\n",
       "      <td>NaN</td>\n",
       "      <td>NaN</td>\n",
       "    </tr>\n",
       "    <tr>\n",
       "      <th>3</th>\n",
       "      <td>snscrape.modules.twitter.Tweet</td>\n",
       "      <td>https://twitter.com/ainslieg/status/1586508155...</td>\n",
       "      <td>2022-10-29 23:59:54+00:00</td>\n",
       "      <td>@BostonMassMark @BlackKnight10k @elonmusk Losi...</td>\n",
       "      <td>@BostonMassMark @BlackKnight10k @elonmusk Losi...</td>\n",
       "      <td>1586508155860635648</td>\n",
       "      <td>{'_type': 'snscrape.modules.twitter.User', 'us...</td>\n",
       "      <td>2</td>\n",
       "      <td>0</td>\n",
       "      <td>0</td>\n",
       "      <td>...</td>\n",
       "      <td>NaN</td>\n",
       "      <td>NaN</td>\n",
       "      <td>1.585665e+18</td>\n",
       "      <td>{'_type': 'snscrape.modules.twitter.User', 'us...</td>\n",
       "      <td>[{'_type': 'snscrape.modules.twitter.User', 'u...</td>\n",
       "      <td>NaN</td>\n",
       "      <td>NaN</td>\n",
       "      <td>NaN</td>\n",
       "      <td>NaN</td>\n",
       "      <td>NaN</td>\n",
       "    </tr>\n",
       "    <tr>\n",
       "      <th>4</th>\n",
       "      <td>snscrape.modules.twitter.Tweet</td>\n",
       "      <td>https://twitter.com/Doggie_wumpus/status/15865...</td>\n",
       "      <td>2022-10-29 23:59:53+00:00</td>\n",
       "      <td>@unusual_whales Do you think Tesla will be bet...</td>\n",
       "      <td>@unusual_whales Do you think Tesla will be bet...</td>\n",
       "      <td>1586508150785462273</td>\n",
       "      <td>{'_type': 'snscrape.modules.twitter.User', 'us...</td>\n",
       "      <td>2</td>\n",
       "      <td>0</td>\n",
       "      <td>1</td>\n",
       "      <td>...</td>\n",
       "      <td>NaN</td>\n",
       "      <td>NaN</td>\n",
       "      <td>1.586373e+18</td>\n",
       "      <td>{'_type': 'snscrape.modules.twitter.User', 'us...</td>\n",
       "      <td>[{'_type': 'snscrape.modules.twitter.User', 'u...</td>\n",
       "      <td>NaN</td>\n",
       "      <td>NaN</td>\n",
       "      <td>NaN</td>\n",
       "      <td>NaN</td>\n",
       "      <td>NaN</td>\n",
       "    </tr>\n",
       "    <tr>\n",
       "      <th>...</th>\n",
       "      <td>...</td>\n",
       "      <td>...</td>\n",
       "      <td>...</td>\n",
       "      <td>...</td>\n",
       "      <td>...</td>\n",
       "      <td>...</td>\n",
       "      <td>...</td>\n",
       "      <td>...</td>\n",
       "      <td>...</td>\n",
       "      <td>...</td>\n",
       "      <td>...</td>\n",
       "      <td>...</td>\n",
       "      <td>...</td>\n",
       "      <td>...</td>\n",
       "      <td>...</td>\n",
       "      <td>...</td>\n",
       "      <td>...</td>\n",
       "      <td>...</td>\n",
       "      <td>...</td>\n",
       "      <td>...</td>\n",
       "      <td>...</td>\n",
       "    </tr>\n",
       "    <tr>\n",
       "      <th>495</th>\n",
       "      <td>snscrape.modules.twitter.Tweet</td>\n",
       "      <td>https://twitter.com/SilverArrowsNet/status/158...</td>\n",
       "      <td>2022-10-29 23:28:43+00:00</td>\n",
       "      <td>After Mexican Grand Prix Qualifying, Lewis Ham...</td>\n",
       "      <td>After Mexican Grand Prix Qualifying, Lewis Ham...</td>\n",
       "      <td>1586500304849494017</td>\n",
       "      <td>{'_type': 'snscrape.modules.twitter.User', 'us...</td>\n",
       "      <td>8</td>\n",
       "      <td>7</td>\n",
       "      <td>80</td>\n",
       "      <td>...</td>\n",
       "      <td>NaN</td>\n",
       "      <td>NaN</td>\n",
       "      <td>NaN</td>\n",
       "      <td>NaN</td>\n",
       "      <td>NaN</td>\n",
       "      <td>NaN</td>\n",
       "      <td>NaN</td>\n",
       "      <td>['F1', 'TeamLH', 'MexicoGP']</td>\n",
       "      <td>NaN</td>\n",
       "      <td>{'_type': 'snscrape.modules.twitter.SummaryCar...</td>\n",
       "    </tr>\n",
       "    <tr>\n",
       "      <th>496</th>\n",
       "      <td>snscrape.modules.twitter.Tweet</td>\n",
       "      <td>https://twitter.com/SPBMcKenna/status/15865002...</td>\n",
       "      <td>2022-10-29 23:28:31+00:00</td>\n",
       "      <td>@GovAbbott @Tesla 🛑 #VoteBetoSaveTexas\\n\\n@Gov...</td>\n",
       "      <td>@GovAbbott @Tesla 🛑 #VoteBetoSaveTexas\\n\\n@Gov...</td>\n",
       "      <td>1586500254970441728</td>\n",
       "      <td>{'_type': 'snscrape.modules.twitter.User', 'us...</td>\n",
       "      <td>0</td>\n",
       "      <td>0</td>\n",
       "      <td>0</td>\n",
       "      <td>...</td>\n",
       "      <td>NaN</td>\n",
       "      <td>NaN</td>\n",
       "      <td>1.586381e+18</td>\n",
       "      <td>{'_type': 'snscrape.modules.twitter.User', 'us...</td>\n",
       "      <td>[{'_type': 'snscrape.modules.twitter.User', 'u...</td>\n",
       "      <td>NaN</td>\n",
       "      <td>NaN</td>\n",
       "      <td>['VoteBetoSaveTexas', 'WinslowDigitalArmy']</td>\n",
       "      <td>NaN</td>\n",
       "      <td>NaN</td>\n",
       "    </tr>\n",
       "    <tr>\n",
       "      <th>497</th>\n",
       "      <td>snscrape.modules.twitter.Tweet</td>\n",
       "      <td>https://twitter.com/nihongeeq/status/158650023...</td>\n",
       "      <td>2022-10-29 23:28:27+00:00</td>\n",
       "      <td>@F1 @ValtteriBottas He's gonna kill it when he...</td>\n",
       "      <td>@F1 @ValtteriBottas He's gonna kill it when he...</td>\n",
       "      <td>1586500238659186689</td>\n",
       "      <td>{'_type': 'snscrape.modules.twitter.User', 'us...</td>\n",
       "      <td>0</td>\n",
       "      <td>0</td>\n",
       "      <td>9</td>\n",
       "      <td>...</td>\n",
       "      <td>NaN</td>\n",
       "      <td>NaN</td>\n",
       "      <td>1.586500e+18</td>\n",
       "      <td>{'_type': 'snscrape.modules.twitter.User', 'us...</td>\n",
       "      <td>[{'_type': 'snscrape.modules.twitter.User', 'u...</td>\n",
       "      <td>NaN</td>\n",
       "      <td>NaN</td>\n",
       "      <td>NaN</td>\n",
       "      <td>NaN</td>\n",
       "      <td>NaN</td>\n",
       "    </tr>\n",
       "    <tr>\n",
       "      <th>498</th>\n",
       "      <td>snscrape.modules.twitter.Tweet</td>\n",
       "      <td>https://twitter.com/FloorMatt51/status/1586500...</td>\n",
       "      <td>2022-10-29 23:28:26+00:00</td>\n",
       "      <td>@elonmusk while you were focusing on buying tw...</td>\n",
       "      <td>@elonmusk while you were focusing on buying tw...</td>\n",
       "      <td>1586500234531643392</td>\n",
       "      <td>{'_type': 'snscrape.modules.twitter.User', 'us...</td>\n",
       "      <td>0</td>\n",
       "      <td>0</td>\n",
       "      <td>0</td>\n",
       "      <td>...</td>\n",
       "      <td>NaN</td>\n",
       "      <td>NaN</td>\n",
       "      <td>NaN</td>\n",
       "      <td>NaN</td>\n",
       "      <td>[{'_type': 'snscrape.modules.twitter.User', 'u...</td>\n",
       "      <td>NaN</td>\n",
       "      <td>NaN</td>\n",
       "      <td>NaN</td>\n",
       "      <td>NaN</td>\n",
       "      <td>NaN</td>\n",
       "    </tr>\n",
       "    <tr>\n",
       "      <th>499</th>\n",
       "      <td>snscrape.modules.twitter.Tweet</td>\n",
       "      <td>https://twitter.com/BhagatCingh/status/1586500...</td>\n",
       "      <td>2022-10-29 23:28:18+00:00</td>\n",
       "      <td>See \\n@elonmusk\\n increased his tesla car pric...</td>\n",
       "      <td>See \\n@elonmusk\\n increased his tesla car pric...</td>\n",
       "      <td>1586500200172236802</td>\n",
       "      <td>{'_type': 'snscrape.modules.twitter.User', 'us...</td>\n",
       "      <td>1</td>\n",
       "      <td>0</td>\n",
       "      <td>0</td>\n",
       "      <td>...</td>\n",
       "      <td>NaN</td>\n",
       "      <td>NaN</td>\n",
       "      <td>1.586499e+18</td>\n",
       "      <td>{'_type': 'snscrape.modules.twitter.User', 'us...</td>\n",
       "      <td>[{'_type': 'snscrape.modules.twitter.User', 'u...</td>\n",
       "      <td>NaN</td>\n",
       "      <td>NaN</td>\n",
       "      <td>['india', 'hindu']</td>\n",
       "      <td>NaN</td>\n",
       "      <td>NaN</td>\n",
       "    </tr>\n",
       "  </tbody>\n",
       "</table>\n",
       "<p>500 rows × 28 columns</p>\n",
       "</div>"
      ],
      "text/plain": [
       "                              _type  \\\n",
       "0    snscrape.modules.twitter.Tweet   \n",
       "1    snscrape.modules.twitter.Tweet   \n",
       "2    snscrape.modules.twitter.Tweet   \n",
       "3    snscrape.modules.twitter.Tweet   \n",
       "4    snscrape.modules.twitter.Tweet   \n",
       "..                              ...   \n",
       "495  snscrape.modules.twitter.Tweet   \n",
       "496  snscrape.modules.twitter.Tweet   \n",
       "497  snscrape.modules.twitter.Tweet   \n",
       "498  snscrape.modules.twitter.Tweet   \n",
       "499  snscrape.modules.twitter.Tweet   \n",
       "\n",
       "                                                   url  \\\n",
       "0    https://twitter.com/Gustavo_Caleira/status/158...   \n",
       "1    https://twitter.com/erikrunia/status/158650817...   \n",
       "2    https://twitter.com/pmsyyz/status/158650817501...   \n",
       "3    https://twitter.com/ainslieg/status/1586508155...   \n",
       "4    https://twitter.com/Doggie_wumpus/status/15865...   \n",
       "..                                                 ...   \n",
       "495  https://twitter.com/SilverArrowsNet/status/158...   \n",
       "496  https://twitter.com/SPBMcKenna/status/15865002...   \n",
       "497  https://twitter.com/nihongeeq/status/158650023...   \n",
       "498  https://twitter.com/FloorMatt51/status/1586500...   \n",
       "499  https://twitter.com/BhagatCingh/status/1586500...   \n",
       "\n",
       "                          date  \\\n",
       "0    2022-10-29 23:59:59+00:00   \n",
       "1    2022-10-29 23:59:59+00:00   \n",
       "2    2022-10-29 23:59:59+00:00   \n",
       "3    2022-10-29 23:59:54+00:00   \n",
       "4    2022-10-29 23:59:53+00:00   \n",
       "..                         ...   \n",
       "495  2022-10-29 23:28:43+00:00   \n",
       "496  2022-10-29 23:28:31+00:00   \n",
       "497  2022-10-29 23:28:27+00:00   \n",
       "498  2022-10-29 23:28:26+00:00   \n",
       "499  2022-10-29 23:28:18+00:00   \n",
       "\n",
       "                                            rawContent  \\\n",
       "0    If 2 million really meant 2 tenths a lap, they...   \n",
       "1    @twinautismmom @elonmusk It’s elons secret plo...   \n",
       "2    First time charging at the Baltimore, Maryland...   \n",
       "3    @BostonMassMark @BlackKnight10k @elonmusk Losi...   \n",
       "4    @unusual_whales Do you think Tesla will be bet...   \n",
       "..                                                 ...   \n",
       "495  After Mexican Grand Prix Qualifying, Lewis Ham...   \n",
       "496  @GovAbbott @Tesla 🛑 #VoteBetoSaveTexas\\n\\n@Gov...   \n",
       "497  @F1 @ValtteriBottas He's gonna kill it when he...   \n",
       "498  @elonmusk while you were focusing on buying tw...   \n",
       "499  See \\n@elonmusk\\n increased his tesla car pric...   \n",
       "\n",
       "                                       renderedContent                   id  \\\n",
       "0    If 2 million really meant 2 tenths a lap, they...  1586508176664371200   \n",
       "1    @twinautismmom @elonmusk It’s elons secret plo...  1586508175158960128   \n",
       "2    First time charging at the Baltimore, Maryland...  1586508175011823617   \n",
       "3    @BostonMassMark @BlackKnight10k @elonmusk Losi...  1586508155860635648   \n",
       "4    @unusual_whales Do you think Tesla will be bet...  1586508150785462273   \n",
       "..                                                 ...                  ...   \n",
       "495  After Mexican Grand Prix Qualifying, Lewis Ham...  1586500304849494017   \n",
       "496  @GovAbbott @Tesla 🛑 #VoteBetoSaveTexas\\n\\n@Gov...  1586500254970441728   \n",
       "497  @F1 @ValtteriBottas He's gonna kill it when he...  1586500238659186689   \n",
       "498  @elonmusk while you were focusing on buying tw...  1586500234531643392   \n",
       "499  See \\n@elonmusk\\n increased his tesla car pric...  1586500200172236802   \n",
       "\n",
       "                                                  user  replyCount  \\\n",
       "0    {'_type': 'snscrape.modules.twitter.User', 'us...           0   \n",
       "1    {'_type': 'snscrape.modules.twitter.User', 'us...           0   \n",
       "2    {'_type': 'snscrape.modules.twitter.User', 'us...           0   \n",
       "3    {'_type': 'snscrape.modules.twitter.User', 'us...           2   \n",
       "4    {'_type': 'snscrape.modules.twitter.User', 'us...           2   \n",
       "..                                                 ...         ...   \n",
       "495  {'_type': 'snscrape.modules.twitter.User', 'us...           8   \n",
       "496  {'_type': 'snscrape.modules.twitter.User', 'us...           0   \n",
       "497  {'_type': 'snscrape.modules.twitter.User', 'us...           0   \n",
       "498  {'_type': 'snscrape.modules.twitter.User', 'us...           0   \n",
       "499  {'_type': 'snscrape.modules.twitter.User', 'us...           1   \n",
       "\n",
       "     retweetCount  likeCount  ...  retweetedTweet  \\\n",
       "0               0          0  ...             NaN   \n",
       "1               0          0  ...             NaN   \n",
       "2               0          2  ...             NaN   \n",
       "3               0          0  ...             NaN   \n",
       "4               0          1  ...             NaN   \n",
       "..            ...        ...  ...             ...   \n",
       "495             7         80  ...             NaN   \n",
       "496             0          0  ...             NaN   \n",
       "497             0          9  ...             NaN   \n",
       "498             0          0  ...             NaN   \n",
       "499             0          0  ...             NaN   \n",
       "\n",
       "                                           quotedTweet inReplyToTweetId  \\\n",
       "0    {'_type': 'snscrape.modules.twitter.Tweet', 'u...              NaN   \n",
       "1                                                  NaN     1.585813e+18   \n",
       "2                                                  NaN              NaN   \n",
       "3                                                  NaN     1.585665e+18   \n",
       "4                                                  NaN     1.586373e+18   \n",
       "..                                                 ...              ...   \n",
       "495                                                NaN              NaN   \n",
       "496                                                NaN     1.586381e+18   \n",
       "497                                                NaN     1.586500e+18   \n",
       "498                                                NaN              NaN   \n",
       "499                                                NaN     1.586499e+18   \n",
       "\n",
       "                                         inReplyToUser  \\\n",
       "0                                                  NaN   \n",
       "1    {'_type': 'snscrape.modules.twitter.User', 'us...   \n",
       "2                                                  NaN   \n",
       "3    {'_type': 'snscrape.modules.twitter.User', 'us...   \n",
       "4    {'_type': 'snscrape.modules.twitter.User', 'us...   \n",
       "..                                                 ...   \n",
       "495                                                NaN   \n",
       "496  {'_type': 'snscrape.modules.twitter.User', 'us...   \n",
       "497  {'_type': 'snscrape.modules.twitter.User', 'us...   \n",
       "498                                                NaN   \n",
       "499  {'_type': 'snscrape.modules.twitter.User', 'us...   \n",
       "\n",
       "                                        mentionedUsers  \\\n",
       "0                                                  NaN   \n",
       "1    [{'_type': 'snscrape.modules.twitter.User', 'u...   \n",
       "2                                                  NaN   \n",
       "3    [{'_type': 'snscrape.modules.twitter.User', 'u...   \n",
       "4    [{'_type': 'snscrape.modules.twitter.User', 'u...   \n",
       "..                                                 ...   \n",
       "495                                                NaN   \n",
       "496  [{'_type': 'snscrape.modules.twitter.User', 'u...   \n",
       "497  [{'_type': 'snscrape.modules.twitter.User', 'u...   \n",
       "498  [{'_type': 'snscrape.modules.twitter.User', 'u...   \n",
       "499  [{'_type': 'snscrape.modules.twitter.User', 'u...   \n",
       "\n",
       "                                           coordinates  \\\n",
       "0                                                  NaN   \n",
       "1                                                  NaN   \n",
       "2    {'_type': 'snscrape.modules.twitter.Coordinate...   \n",
       "3                                                  NaN   \n",
       "4                                                  NaN   \n",
       "..                                                 ...   \n",
       "495                                                NaN   \n",
       "496                                                NaN   \n",
       "497                                                NaN   \n",
       "498                                                NaN   \n",
       "499                                                NaN   \n",
       "\n",
       "                                                 place  \\\n",
       "0                                                  NaN   \n",
       "1                                                  NaN   \n",
       "2    {'_type': 'snscrape.modules.twitter.Place', 'i...   \n",
       "3                                                  NaN   \n",
       "4                                                  NaN   \n",
       "..                                                 ...   \n",
       "495                                                NaN   \n",
       "496                                                NaN   \n",
       "497                                                NaN   \n",
       "498                                                NaN   \n",
       "499                                                NaN   \n",
       "\n",
       "                                        hashtags  cashtags  \\\n",
       "0                                            NaN       NaN   \n",
       "1                                            NaN       NaN   \n",
       "2                                            NaN       NaN   \n",
       "3                                            NaN       NaN   \n",
       "4                                            NaN       NaN   \n",
       "..                                           ...       ...   \n",
       "495                 ['F1', 'TeamLH', 'MexicoGP']       NaN   \n",
       "496  ['VoteBetoSaveTexas', 'WinslowDigitalArmy']       NaN   \n",
       "497                                          NaN       NaN   \n",
       "498                                          NaN       NaN   \n",
       "499                           ['india', 'hindu']       NaN   \n",
       "\n",
       "                                                  card  \n",
       "0                                                  NaN  \n",
       "1                                                  NaN  \n",
       "2                                                  NaN  \n",
       "3                                                  NaN  \n",
       "4                                                  NaN  \n",
       "..                                                 ...  \n",
       "495  {'_type': 'snscrape.modules.twitter.SummaryCar...  \n",
       "496                                                NaN  \n",
       "497                                                NaN  \n",
       "498                                                NaN  \n",
       "499                                                NaN  \n",
       "\n",
       "[500 rows x 28 columns]"
      ]
     },
     "execution_count": 65,
     "metadata": {},
     "output_type": "execute_result"
    }
   ],
   "source": [
    "oct29 = pd.read_json(r'C:\\Users\\s_sad\\auto-query-tweets-oct29.json', lines=True)\n",
    "oct29.to_csv('auto-query-tweets-oct29.json' + '.csv', index = False)\n",
    "oct29 = pd.read_csv(r'auto-query-tweets-oct29.json.csv')\n",
    "oct29"
   ]
  },
  {
   "cell_type": "code",
   "execution_count": null,
   "id": "4751e716",
   "metadata": {},
   "outputs": [],
   "source": [
    "oct30 = pd.read_json(r'C:\\Users\\s_sad\\auto-query-tweets-oct30.json', lines=True)\n",
    "oct30.to_csv('auto-query-tweets-oct30.json' + '.csv', index = False)\n",
    "oct30= pd.read_csv(r'auto-query-tweets-oct30.json.csv')\n",
    "oct30"
   ]
  },
  {
   "cell_type": "markdown",
   "id": "af3c76cb",
   "metadata": {},
   "source": [
    "# nov"
   ]
  },
  {
   "cell_type": "code",
   "execution_count": 67,
   "id": "9abe7d9b",
   "metadata": {},
   "outputs": [
    {
     "data": {
      "text/plain": [
       "0"
      ]
     },
     "execution_count": 67,
     "metadata": {},
     "output_type": "execute_result"
    }
   ],
   "source": [
    "out_folder = r\"C:\\Users\\s_sad\"\n",
    "#in_folder = '/input'\n",
    "\n",
    "json_filename = out_folder + '/auto-query-tweets-nov01.json'\n",
    "\n",
    "#Using the OS library to call CLI commands in Python\n",
    "os.system(f'snscrape --max-results 500 --jsonl --progress --since 2022-11-01 twitter-search \"tesla OR mercedes OR bmw OR audi lang:en until:2022-11-02\" > {json_filename}')\n"
   ]
  },
  {
   "cell_type": "code",
   "execution_count": 68,
   "id": "3fa7404f",
   "metadata": {},
   "outputs": [
    {
     "data": {
      "text/plain": [
       "0"
      ]
     },
     "execution_count": 68,
     "metadata": {},
     "output_type": "execute_result"
    }
   ],
   "source": [
    "out_folder = r\"C:\\Users\\s_sad\"\n",
    "#in_folder = '/input'\n",
    "\n",
    "json_filename = out_folder + '/auto-query-tweets-nov02.json'\n",
    "\n",
    "#Using the OS library to call CLI commands in Python\n",
    "os.system(f'snscrape --max-results 500 --jsonl --progress --since 2022-11-01 twitter-search \"tesla OR mercedes OR bmw OR audi lang:en until:2022-11-03\" > {json_filename}')\n"
   ]
  },
  {
   "cell_type": "code",
   "execution_count": 69,
   "id": "ab09ffd3",
   "metadata": {},
   "outputs": [
    {
     "data": {
      "text/plain": [
       "0"
      ]
     },
     "execution_count": 69,
     "metadata": {},
     "output_type": "execute_result"
    }
   ],
   "source": [
    "out_folder = r\"C:\\Users\\s_sad\"\n",
    "#in_folder = '/input'\n",
    "\n",
    "json_filename = out_folder + '/auto-query-tweets-nov03.json'\n",
    "\n",
    "#Using the OS library to call CLI commands in Python\n",
    "os.system(f'snscrape --max-results 500 --jsonl --progress --since 2022-11-01 twitter-search \"tesla OR mercedes OR bmw OR audi lang:en until:2022-11-04\" > {json_filename}')\n"
   ]
  },
  {
   "cell_type": "code",
   "execution_count": 70,
   "id": "b1ce619a",
   "metadata": {},
   "outputs": [
    {
     "data": {
      "text/plain": [
       "0"
      ]
     },
     "execution_count": 70,
     "metadata": {},
     "output_type": "execute_result"
    }
   ],
   "source": [
    "out_folder = r\"C:\\Users\\s_sad\"\n",
    "#in_folder = '/input'\n",
    "\n",
    "json_filename = out_folder + '/auto-query-tweets-nov04.json'\n",
    "\n",
    "#Using the OS library to call CLI commands in Python\n",
    "os.system(f'snscrape --max-results 500 --jsonl --progress --since 2022-11-01 twitter-search \"tesla OR mercedes OR bmw OR audi lang:en until:2022-11-05\" > {json_filename}')\n"
   ]
  },
  {
   "cell_type": "code",
   "execution_count": 71,
   "id": "7fdfaebd",
   "metadata": {},
   "outputs": [
    {
     "data": {
      "text/plain": [
       "0"
      ]
     },
     "execution_count": 71,
     "metadata": {},
     "output_type": "execute_result"
    }
   ],
   "source": [
    "out_folder = r\"C:\\Users\\s_sad\"\n",
    "#in_folder = '/input'\n",
    "\n",
    "json_filename = out_folder + '/auto-query-tweets-nov05.json'\n",
    "\n",
    "#Using the OS library to call CLI commands in Python\n",
    "os.system(f'snscrape --max-results 500 --jsonl --progress --since 2022-11-01 twitter-search \"tesla OR mercedes OR bmw OR audi lang:en until:2022-11-06\" > {json_filename}')\n"
   ]
  },
  {
   "cell_type": "code",
   "execution_count": 72,
   "id": "7bf01a90",
   "metadata": {},
   "outputs": [
    {
     "data": {
      "text/plain": [
       "0"
      ]
     },
     "execution_count": 72,
     "metadata": {},
     "output_type": "execute_result"
    }
   ],
   "source": [
    "out_folder = r\"C:\\Users\\s_sad\"\n",
    "#in_folder = '/input'\n",
    "\n",
    "json_filename = out_folder + '/auto-query-tweets-nov06.json'\n",
    "\n",
    "#Using the OS library to call CLI commands in Python\n",
    "os.system(f'snscrape --max-results 500 --jsonl --progress --since 2022-11-01 twitter-search \"tesla OR mercedes OR bmw OR audi lang:en until:2022-11-07\" > {json_filename}')\n"
   ]
  },
  {
   "cell_type": "code",
   "execution_count": 73,
   "id": "6b30e6b1",
   "metadata": {},
   "outputs": [
    {
     "data": {
      "text/plain": [
       "0"
      ]
     },
     "execution_count": 73,
     "metadata": {},
     "output_type": "execute_result"
    }
   ],
   "source": [
    "out_folder = r\"C:\\Users\\s_sad\"\n",
    "#in_folder = '/input'\n",
    "\n",
    "json_filename = out_folder + '/auto-query-tweets-nov07.json'\n",
    "\n",
    "#Using the OS library to call CLI commands in Python\n",
    "os.system(f'snscrape --max-results 500 --jsonl --progress --since 2022-11-01 twitter-search \"tesla OR mercedes OR bmw OR audi lang:en until:2022-11-08\" > {json_filename}')\n"
   ]
  },
  {
   "cell_type": "code",
   "execution_count": 74,
   "id": "c33f9f8f",
   "metadata": {},
   "outputs": [
    {
     "data": {
      "text/plain": [
       "0"
      ]
     },
     "execution_count": 74,
     "metadata": {},
     "output_type": "execute_result"
    }
   ],
   "source": [
    "out_folder = r\"C:\\Users\\s_sad\"\n",
    "#in_folder = '/input'\n",
    "\n",
    "json_filename = out_folder + '/auto-query-tweets-nov08.json'\n",
    "\n",
    "#Using the OS library to call CLI commands in Python\n",
    "os.system(f'snscrape --max-results 500 --jsonl --progress --since 2022-11-01 twitter-search \"tesla OR mercedes OR bmw OR audi lang:en until:2022-11-09\" > {json_filename}')\n"
   ]
  },
  {
   "cell_type": "code",
   "execution_count": 75,
   "id": "b88c9bf1",
   "metadata": {},
   "outputs": [
    {
     "data": {
      "text/plain": [
       "0"
      ]
     },
     "execution_count": 75,
     "metadata": {},
     "output_type": "execute_result"
    }
   ],
   "source": [
    "out_folder = r\"C:\\Users\\s_sad\"\n",
    "#in_folder = '/input'\n",
    "\n",
    "json_filename = out_folder + '/auto-query-tweets-nov09.json'\n",
    "\n",
    "#Using the OS library to call CLI commands in Python\n",
    "os.system(f'snscrape --max-results 500 --jsonl --progress --since 2022-11-01 twitter-search \"tesla OR mercedes OR bmw OR audi lang:en until:2022-11-10\" > {json_filename}')\n"
   ]
  },
  {
   "cell_type": "code",
   "execution_count": 76,
   "id": "d7693b73",
   "metadata": {},
   "outputs": [
    {
     "data": {
      "text/plain": [
       "0"
      ]
     },
     "execution_count": 76,
     "metadata": {},
     "output_type": "execute_result"
    }
   ],
   "source": [
    "out_folder = r\"C:\\Users\\s_sad\"\n",
    "#in_folder = '/input'\n",
    "\n",
    "json_filename = out_folder + '/auto-query-tweets-nov10.json'\n",
    "\n",
    "#Using the OS library to call CLI commands in Python\n",
    "os.system(f'snscrape --max-results 500 --jsonl --progress --since 2022-11-01 twitter-search \"tesla OR mercedes OR bmw OR audi lang:en until:2022-11-11\" > {json_filename}')\n"
   ]
  },
  {
   "cell_type": "code",
   "execution_count": 77,
   "id": "f27b8d5c",
   "metadata": {},
   "outputs": [
    {
     "data": {
      "text/plain": [
       "0"
      ]
     },
     "execution_count": 77,
     "metadata": {},
     "output_type": "execute_result"
    }
   ],
   "source": [
    "out_folder = r\"C:\\Users\\s_sad\"\n",
    "#in_folder = '/input'\n",
    "\n",
    "json_filename = out_folder + '/auto-query-tweets-nov11.json'\n",
    "\n",
    "#Using the OS library to call CLI commands in Python\n",
    "os.system(f'snscrape --max-results 500 --jsonl --progress --since 2022-11-01 twitter-search \"tesla OR mercedes OR bmw OR audi lang:en until:2022-11-12\" > {json_filename}')\n"
   ]
  },
  {
   "cell_type": "code",
   "execution_count": 78,
   "id": "138ed649",
   "metadata": {},
   "outputs": [
    {
     "data": {
      "text/plain": [
       "0"
      ]
     },
     "execution_count": 78,
     "metadata": {},
     "output_type": "execute_result"
    }
   ],
   "source": [
    "out_folder = r\"C:\\Users\\s_sad\"\n",
    "#in_folder = '/input'\n",
    "\n",
    "json_filename = out_folder + '/auto-query-tweets-nov12.json'\n",
    "\n",
    "#Using the OS library to call CLI commands in Python\n",
    "os.system(f'snscrape --max-results 500 --jsonl --progress --since 2022-11-01 twitter-search \"tesla OR mercedes OR bmw OR audi lang:en until:2022-11-13\" > {json_filename}')\n"
   ]
  },
  {
   "cell_type": "code",
   "execution_count": 79,
   "id": "55a4926f",
   "metadata": {},
   "outputs": [
    {
     "data": {
      "text/plain": [
       "0"
      ]
     },
     "execution_count": 79,
     "metadata": {},
     "output_type": "execute_result"
    }
   ],
   "source": [
    "out_folder = r\"C:\\Users\\s_sad\"\n",
    "#in_folder = '/input'\n",
    "\n",
    "json_filename = out_folder + '/auto-query-tweets-nov13.json'\n",
    "\n",
    "#Using the OS library to call CLI commands in Python\n",
    "os.system(f'snscrape --max-results 500 --jsonl --progress --since 2022-11-01 twitter-search \"tesla OR mercedes OR bmw OR audi lang:en until:2022-11-14\" > {json_filename}')\n"
   ]
  },
  {
   "cell_type": "code",
   "execution_count": 80,
   "id": "ceb66bc3",
   "metadata": {},
   "outputs": [
    {
     "data": {
      "text/plain": [
       "0"
      ]
     },
     "execution_count": 80,
     "metadata": {},
     "output_type": "execute_result"
    }
   ],
   "source": [
    "out_folder = r\"C:\\Users\\s_sad\"\n",
    "#in_folder = '/input'\n",
    "\n",
    "json_filename = out_folder + '/auto-query-tweets-nov14.json'\n",
    "\n",
    "#Using the OS library to call CLI commands in Python\n",
    "os.system(f'snscrape --max-results 500 --jsonl --progress --since 2022-11-01 twitter-search \"tesla OR mercedes OR bmw OR audi lang:en until:2022-11-15\" > {json_filename}')\n"
   ]
  },
  {
   "cell_type": "code",
   "execution_count": 81,
   "id": "5315a9a9",
   "metadata": {},
   "outputs": [
    {
     "data": {
      "text/plain": [
       "0"
      ]
     },
     "execution_count": 81,
     "metadata": {},
     "output_type": "execute_result"
    }
   ],
   "source": [
    "out_folder = r\"C:\\Users\\s_sad\"\n",
    "#in_folder = '/input'\n",
    "\n",
    "json_filename = out_folder + '/auto-query-tweets-nov15.json'\n",
    "\n",
    "#Using the OS library to call CLI commands in Python\n",
    "os.system(f'snscrape --max-results 500 --jsonl --progress --since 2022-11-01 twitter-search \"tesla OR mercedes OR bmw OR audi lang:en until:2022-11-16\" > {json_filename}')\n"
   ]
  },
  {
   "cell_type": "code",
   "execution_count": 82,
   "id": "9301868b",
   "metadata": {},
   "outputs": [
    {
     "data": {
      "text/plain": [
       "0"
      ]
     },
     "execution_count": 82,
     "metadata": {},
     "output_type": "execute_result"
    }
   ],
   "source": [
    "out_folder = r\"C:\\Users\\s_sad\"\n",
    "#in_folder = '/input'\n",
    "\n",
    "json_filename = out_folder + '/auto-query-tweets-nov16.json'\n",
    "\n",
    "#Using the OS library to call CLI commands in Python\n",
    "os.system(f'snscrape --max-results 500 --jsonl --progress --since 2022-11-01 twitter-search \"tesla OR mercedes OR bmw OR audi lang:en until:2022-11-17\" > {json_filename}')\n"
   ]
  },
  {
   "cell_type": "code",
   "execution_count": 83,
   "id": "639cb84a",
   "metadata": {},
   "outputs": [
    {
     "data": {
      "text/plain": [
       "0"
      ]
     },
     "execution_count": 83,
     "metadata": {},
     "output_type": "execute_result"
    }
   ],
   "source": [
    "out_folder = r\"C:\\Users\\s_sad\"\n",
    "#in_folder = '/input'\n",
    "\n",
    "json_filename = out_folder + '/auto-query-tweets-nov17.json'\n",
    "\n",
    "#Using the OS library to call CLI commands in Python\n",
    "os.system(f'snscrape --max-results 500 --jsonl --progress --since 2022-11-01 twitter-search \"tesla OR mercedes OR bmw OR audi lang:en until:2022-11-18\" > {json_filename}')\n"
   ]
  },
  {
   "cell_type": "code",
   "execution_count": 84,
   "id": "cdedc18f",
   "metadata": {},
   "outputs": [
    {
     "data": {
      "text/plain": [
       "0"
      ]
     },
     "execution_count": 84,
     "metadata": {},
     "output_type": "execute_result"
    }
   ],
   "source": [
    "out_folder = r\"C:\\Users\\s_sad\"\n",
    "#in_folder = '/input'\n",
    "\n",
    "json_filename = out_folder + '/auto-query-tweets-nov18.json'\n",
    "\n",
    "#Using the OS library to call CLI commands in Python\n",
    "os.system(f'snscrape --max-results 500 --jsonl --progress --since 2022-11-01 twitter-search \"tesla OR mercedes OR bmw OR audi lang:en until:2022-11-19\" > {json_filename}')\n"
   ]
  },
  {
   "cell_type": "code",
   "execution_count": 85,
   "id": "958dcece",
   "metadata": {},
   "outputs": [
    {
     "data": {
      "text/plain": [
       "0"
      ]
     },
     "execution_count": 85,
     "metadata": {},
     "output_type": "execute_result"
    }
   ],
   "source": [
    "out_folder = r\"C:\\Users\\s_sad\"\n",
    "#in_folder = '/input'\n",
    "\n",
    "json_filename = out_folder + '/auto-query-tweets-nov19.json'\n",
    "\n",
    "#Using the OS library to call CLI commands in Python\n",
    "os.system(f'snscrape --max-results 500 --jsonl --progress --since 2022-11-01 twitter-search \"tesla OR mercedes OR bmw OR audi lang:en until:2022-11-20\" > {json_filename}')\n"
   ]
  },
  {
   "cell_type": "code",
   "execution_count": 86,
   "id": "675a42dd",
   "metadata": {},
   "outputs": [
    {
     "data": {
      "text/plain": [
       "0"
      ]
     },
     "execution_count": 86,
     "metadata": {},
     "output_type": "execute_result"
    }
   ],
   "source": [
    "out_folder = r\"C:\\Users\\s_sad\"\n",
    "#in_folder = '/input'\n",
    "\n",
    "json_filename = out_folder + '/auto-query-tweets-nov20.json'\n",
    "\n",
    "#Using the OS library to call CLI commands in Python\n",
    "os.system(f'snscrape --max-results 500 --jsonl --progress --since 2022-11-01 twitter-search \"tesla OR mercedes OR bmw OR audi lang:en until:2022-11-21\" > {json_filename}')\n"
   ]
  },
  {
   "cell_type": "code",
   "execution_count": 87,
   "id": "153e1812",
   "metadata": {},
   "outputs": [
    {
     "data": {
      "text/plain": [
       "0"
      ]
     },
     "execution_count": 87,
     "metadata": {},
     "output_type": "execute_result"
    }
   ],
   "source": [
    "out_folder = r\"C:\\Users\\s_sad\"\n",
    "#in_folder = '/input'\n",
    "\n",
    "json_filename = out_folder + '/auto-query-tweets-nov21.json'\n",
    "\n",
    "#Using the OS library to call CLI commands in Python\n",
    "os.system(f'snscrape --max-results 500 --jsonl --progress --since 2022-11-01 twitter-search \"tesla OR mercedes OR bmw OR audi lang:en until:2022-11-22\" > {json_filename}')\n"
   ]
  },
  {
   "cell_type": "code",
   "execution_count": 88,
   "id": "b8158603",
   "metadata": {},
   "outputs": [
    {
     "data": {
      "text/plain": [
       "0"
      ]
     },
     "execution_count": 88,
     "metadata": {},
     "output_type": "execute_result"
    }
   ],
   "source": [
    "out_folder = r\"C:\\Users\\s_sad\"\n",
    "#in_folder = '/input'\n",
    "\n",
    "json_filename = out_folder + '/auto-query-tweets-nov22.json'\n",
    "\n",
    "#Using the OS library to call CLI commands in Python\n",
    "os.system(f'snscrape --max-results 500 --jsonl --progress --since 2022-11-01 twitter-search \"tesla OR mercedes OR bmw OR audi lang:en until:2022-11-23\" > {json_filename}')\n"
   ]
  },
  {
   "cell_type": "code",
   "execution_count": 89,
   "id": "638d2255",
   "metadata": {},
   "outputs": [
    {
     "data": {
      "text/plain": [
       "0"
      ]
     },
     "execution_count": 89,
     "metadata": {},
     "output_type": "execute_result"
    }
   ],
   "source": [
    "out_folder = r\"C:\\Users\\s_sad\"\n",
    "#in_folder = '/input'\n",
    "\n",
    "json_filename = out_folder + '/auto-query-tweets-nov23.json'\n",
    "\n",
    "#Using the OS library to call CLI commands in Python\n",
    "os.system(f'snscrape --max-results 500 --jsonl --progress --since 2022-11-01 twitter-search \"tesla OR mercedes OR bmw OR audi lang:en until:2022-11-24\" > {json_filename}')\n"
   ]
  },
  {
   "cell_type": "code",
   "execution_count": 90,
   "id": "7918ab6e",
   "metadata": {},
   "outputs": [
    {
     "data": {
      "text/plain": [
       "0"
      ]
     },
     "execution_count": 90,
     "metadata": {},
     "output_type": "execute_result"
    }
   ],
   "source": [
    "out_folder = r\"C:\\Users\\s_sad\"\n",
    "#in_folder = '/input'\n",
    "\n",
    "json_filename = out_folder + '/auto-query-tweets-nov24.json'\n",
    "\n",
    "#Using the OS library to call CLI commands in Python\n",
    "os.system(f'snscrape --max-results 500 --jsonl --progress --since 2022-11-01 twitter-search \"tesla OR mercedes OR bmw OR audi lang:en until:2022-11-25\" > {json_filename}')\n"
   ]
  },
  {
   "cell_type": "code",
   "execution_count": 91,
   "id": "2169aa4d",
   "metadata": {},
   "outputs": [
    {
     "data": {
      "text/plain": [
       "0"
      ]
     },
     "execution_count": 91,
     "metadata": {},
     "output_type": "execute_result"
    }
   ],
   "source": [
    "out_folder = r\"C:\\Users\\s_sad\"\n",
    "#in_folder = '/input'\n",
    "\n",
    "json_filename = out_folder + '/auto-query-tweets-nov25.json'\n",
    "\n",
    "#Using the OS library to call CLI commands in Python\n",
    "os.system(f'snscrape --max-results 500 --jsonl --progress --since 2022-11-01 twitter-search \"tesla OR mercedes OR bmw OR audi lang:en until:2022-11-26\" > {json_filename}')\n"
   ]
  },
  {
   "cell_type": "code",
   "execution_count": 92,
   "id": "d337698f",
   "metadata": {},
   "outputs": [
    {
     "data": {
      "text/plain": [
       "0"
      ]
     },
     "execution_count": 92,
     "metadata": {},
     "output_type": "execute_result"
    }
   ],
   "source": [
    "out_folder = r\"C:\\Users\\s_sad\"\n",
    "#in_folder = '/input'\n",
    "\n",
    "json_filename = out_folder + '/auto-query-tweets-nov26.json'\n",
    "\n",
    "#Using the OS library to call CLI commands in Python\n",
    "os.system(f'snscrape --max-results 500 --jsonl --progress --since 2022-11-01 twitter-search \"tesla OR mercedes OR bmw OR audi lang:en until:2022-11-27\" > {json_filename}')\n"
   ]
  },
  {
   "cell_type": "code",
   "execution_count": 93,
   "id": "6320e695",
   "metadata": {},
   "outputs": [
    {
     "data": {
      "text/plain": [
       "0"
      ]
     },
     "execution_count": 93,
     "metadata": {},
     "output_type": "execute_result"
    }
   ],
   "source": [
    "out_folder = r\"C:\\Users\\s_sad\"\n",
    "#in_folder = '/input'\n",
    "\n",
    "json_filename = out_folder + '/auto-query-tweets-nov27.json'\n",
    "\n",
    "#Using the OS library to call CLI commands in Python\n",
    "os.system(f'snscrape --max-results 500 --jsonl --progress --since 2022-11-01 twitter-search \"tesla OR mercedes OR bmw OR audi lang:en until:2022-11-28\" > {json_filename}')\n"
   ]
  },
  {
   "cell_type": "code",
   "execution_count": 94,
   "id": "506de451",
   "metadata": {},
   "outputs": [
    {
     "data": {
      "text/plain": [
       "0"
      ]
     },
     "execution_count": 94,
     "metadata": {},
     "output_type": "execute_result"
    }
   ],
   "source": [
    "out_folder = r\"C:\\Users\\s_sad\"\n",
    "#in_folder = '/input'\n",
    "\n",
    "json_filename = out_folder + '/auto-query-tweets-nov28.json'\n",
    "\n",
    "#Using the OS library to call CLI commands in Python\n",
    "os.system(f'snscrape --max-results 500 --jsonl --progress --since 2022-11-01 twitter-search \"tesla OR mercedes OR bmw OR audi lang:en until:2022-11-29\" > {json_filename}')\n"
   ]
  },
  {
   "cell_type": "code",
   "execution_count": 194,
   "id": "df0d330c",
   "metadata": {},
   "outputs": [
    {
     "data": {
      "text/plain": [
       "0"
      ]
     },
     "execution_count": 194,
     "metadata": {},
     "output_type": "execute_result"
    }
   ],
   "source": [
    "out_folder = r\"C:\\Users\\s_sad\"\n",
    "#in_folder = '/input'\n",
    "\n",
    "json_filename = out_folder + '/auto-query-tweets-nov29.json'\n",
    "\n",
    "#Using the OS library to call CLI commands in Python\n",
    "os.system(f'snscrape --max-results 500 --jsonl --progress --since 2022-11-01 twitter-search \"tesla OR mercedes OR bmw OR audi lang:en until:2022-11-30\" > {json_filename}')\n"
   ]
  },
  {
   "cell_type": "code",
   "execution_count": 95,
   "id": "f58fdbf9",
   "metadata": {},
   "outputs": [
    {
     "data": {
      "text/plain": [
       "0"
      ]
     },
     "execution_count": 95,
     "metadata": {},
     "output_type": "execute_result"
    }
   ],
   "source": [
    "out_folder = r\"C:\\Users\\s_sad\"\n",
    "#in_folder = '/input'\n",
    "\n",
    "json_filename = out_folder + '/auto-query-tweets-nov30.json'\n",
    "\n",
    "#Using the OS library to call CLI commands in Python\n",
    "os.system(f'snscrape --max-results 500 --jsonl --progress --since 2022-11-01 twitter-search \"tesla OR mercedes OR bmw OR audi lang:en until:2022-12-01\" > {json_filename}')\n"
   ]
  },
  {
   "cell_type": "code",
   "execution_count": 96,
   "id": "41b13442",
   "metadata": {},
   "outputs": [],
   "source": [
    "nov01 = pd.read_json(r'C:\\Users\\s_sad\\auto-query-tweets-nov01.json', lines=True)\n",
    "nov01.to_csv('auto-query-tweets-nov01.json' + '.csv', index = False)\n",
    "nov1 = pd.read_csv(r'auto-query-tweets-nov01.json.csv')\n"
   ]
  },
  {
   "cell_type": "code",
   "execution_count": 97,
   "id": "3ae10ab4",
   "metadata": {},
   "outputs": [
    {
     "data": {
      "text/html": [
       "<div>\n",
       "<style scoped>\n",
       "    .dataframe tbody tr th:only-of-type {\n",
       "        vertical-align: middle;\n",
       "    }\n",
       "\n",
       "    .dataframe tbody tr th {\n",
       "        vertical-align: top;\n",
       "    }\n",
       "\n",
       "    .dataframe thead th {\n",
       "        text-align: right;\n",
       "    }\n",
       "</style>\n",
       "<table border=\"1\" class=\"dataframe\">\n",
       "  <thead>\n",
       "    <tr style=\"text-align: right;\">\n",
       "      <th></th>\n",
       "      <th>_type</th>\n",
       "      <th>url</th>\n",
       "      <th>date</th>\n",
       "      <th>rawContent</th>\n",
       "      <th>renderedContent</th>\n",
       "      <th>id</th>\n",
       "      <th>user</th>\n",
       "      <th>replyCount</th>\n",
       "      <th>retweetCount</th>\n",
       "      <th>likeCount</th>\n",
       "      <th>...</th>\n",
       "      <th>retweetedTweet</th>\n",
       "      <th>quotedTweet</th>\n",
       "      <th>inReplyToTweetId</th>\n",
       "      <th>inReplyToUser</th>\n",
       "      <th>mentionedUsers</th>\n",
       "      <th>coordinates</th>\n",
       "      <th>place</th>\n",
       "      <th>hashtags</th>\n",
       "      <th>cashtags</th>\n",
       "      <th>card</th>\n",
       "    </tr>\n",
       "  </thead>\n",
       "  <tbody>\n",
       "    <tr>\n",
       "      <th>0</th>\n",
       "      <td>snscrape.modules.twitter.Tweet</td>\n",
       "      <td>https://twitter.com/pistro12/status/1587957716...</td>\n",
       "      <td>2022-11-02 23:59:57+00:00</td>\n",
       "      <td>@elonmusk Maybe there is some insight about va...</td>\n",
       "      <td>@elonmusk Maybe there is some insight about va...</td>\n",
       "      <td>1587957716823179264</td>\n",
       "      <td>{'_type': 'snscrape.modules.twitter.User', 'us...</td>\n",
       "      <td>0</td>\n",
       "      <td>0</td>\n",
       "      <td>0</td>\n",
       "      <td>...</td>\n",
       "      <td>NaN</td>\n",
       "      <td>NaN</td>\n",
       "      <td>1.587894e+18</td>\n",
       "      <td>{'_type': 'snscrape.modules.twitter.User', 'us...</td>\n",
       "      <td>[{'_type': 'snscrape.modules.twitter.User', 'u...</td>\n",
       "      <td>NaN</td>\n",
       "      <td>NaN</td>\n",
       "      <td>NaN</td>\n",
       "      <td>NaN</td>\n",
       "      <td>NaN</td>\n",
       "    </tr>\n",
       "    <tr>\n",
       "      <th>1</th>\n",
       "      <td>snscrape.modules.twitter.Tweet</td>\n",
       "      <td>https://twitter.com/Former11BRAVO/status/15879...</td>\n",
       "      <td>2022-11-02 23:59:55+00:00</td>\n",
       "      <td>@neverhyperpop @OANN You sound like someone wh...</td>\n",
       "      <td>@neverhyperpop @OANN You sound like someone wh...</td>\n",
       "      <td>1587957709508431872</td>\n",
       "      <td>{'_type': 'snscrape.modules.twitter.User', 'us...</td>\n",
       "      <td>0</td>\n",
       "      <td>0</td>\n",
       "      <td>0</td>\n",
       "      <td>...</td>\n",
       "      <td>NaN</td>\n",
       "      <td>NaN</td>\n",
       "      <td>1.587863e+18</td>\n",
       "      <td>{'_type': 'snscrape.modules.twitter.User', 'us...</td>\n",
       "      <td>[{'_type': 'snscrape.modules.twitter.User', 'u...</td>\n",
       "      <td>NaN</td>\n",
       "      <td>NaN</td>\n",
       "      <td>NaN</td>\n",
       "      <td>NaN</td>\n",
       "      <td>NaN</td>\n",
       "    </tr>\n",
       "    <tr>\n",
       "      <th>2</th>\n",
       "      <td>snscrape.modules.twitter.Tweet</td>\n",
       "      <td>https://twitter.com/timmerenginerd/status/1587...</td>\n",
       "      <td>2022-11-02 23:59:50+00:00</td>\n",
       "      <td>@Robecology2 @Tesla Bummer</td>\n",
       "      <td>@Robecology2 @Tesla Bummer</td>\n",
       "      <td>1587957689472237570</td>\n",
       "      <td>{'_type': 'snscrape.modules.twitter.User', 'us...</td>\n",
       "      <td>0</td>\n",
       "      <td>0</td>\n",
       "      <td>1</td>\n",
       "      <td>...</td>\n",
       "      <td>NaN</td>\n",
       "      <td>NaN</td>\n",
       "      <td>1.587212e+18</td>\n",
       "      <td>{'_type': 'snscrape.modules.twitter.User', 'us...</td>\n",
       "      <td>[{'_type': 'snscrape.modules.twitter.User', 'u...</td>\n",
       "      <td>NaN</td>\n",
       "      <td>NaN</td>\n",
       "      <td>NaN</td>\n",
       "      <td>NaN</td>\n",
       "      <td>NaN</td>\n",
       "    </tr>\n",
       "    <tr>\n",
       "      <th>3</th>\n",
       "      <td>snscrape.modules.twitter.Tweet</td>\n",
       "      <td>https://twitter.com/gerb_sam/status/1587957627...</td>\n",
       "      <td>2022-11-02 23:59:35+00:00</td>\n",
       "      <td>@WhiteRiverDave1 A few windmills may not take ...</td>\n",
       "      <td>@WhiteRiverDave1 A few windmills may not take ...</td>\n",
       "      <td>1587957627824267265</td>\n",
       "      <td>{'_type': 'snscrape.modules.twitter.User', 'us...</td>\n",
       "      <td>0</td>\n",
       "      <td>0</td>\n",
       "      <td>0</td>\n",
       "      <td>...</td>\n",
       "      <td>NaN</td>\n",
       "      <td>NaN</td>\n",
       "      <td>1.587072e+18</td>\n",
       "      <td>{'_type': 'snscrape.modules.twitter.User', 'us...</td>\n",
       "      <td>[{'_type': 'snscrape.modules.twitter.User', 'u...</td>\n",
       "      <td>NaN</td>\n",
       "      <td>NaN</td>\n",
       "      <td>NaN</td>\n",
       "      <td>NaN</td>\n",
       "      <td>NaN</td>\n",
       "    </tr>\n",
       "    <tr>\n",
       "      <th>4</th>\n",
       "      <td>snscrape.modules.twitter.Tweet</td>\n",
       "      <td>https://twitter.com/UchennaNwekpa/status/15879...</td>\n",
       "      <td>2022-11-02 23:59:33+00:00</td>\n",
       "      <td>@SavvyRinu @fisayosoyombo Your president is in...</td>\n",
       "      <td>@SavvyRinu @fisayosoyombo Your president is in...</td>\n",
       "      <td>1587957618374590465</td>\n",
       "      <td>{'_type': 'snscrape.modules.twitter.User', 'us...</td>\n",
       "      <td>0</td>\n",
       "      <td>0</td>\n",
       "      <td>0</td>\n",
       "      <td>...</td>\n",
       "      <td>NaN</td>\n",
       "      <td>NaN</td>\n",
       "      <td>1.587883e+18</td>\n",
       "      <td>{'_type': 'snscrape.modules.twitter.User', 'us...</td>\n",
       "      <td>[{'_type': 'snscrape.modules.twitter.User', 'u...</td>\n",
       "      <td>NaN</td>\n",
       "      <td>NaN</td>\n",
       "      <td>NaN</td>\n",
       "      <td>NaN</td>\n",
       "      <td>NaN</td>\n",
       "    </tr>\n",
       "    <tr>\n",
       "      <th>...</th>\n",
       "      <td>...</td>\n",
       "      <td>...</td>\n",
       "      <td>...</td>\n",
       "      <td>...</td>\n",
       "      <td>...</td>\n",
       "      <td>...</td>\n",
       "      <td>...</td>\n",
       "      <td>...</td>\n",
       "      <td>...</td>\n",
       "      <td>...</td>\n",
       "      <td>...</td>\n",
       "      <td>...</td>\n",
       "      <td>...</td>\n",
       "      <td>...</td>\n",
       "      <td>...</td>\n",
       "      <td>...</td>\n",
       "      <td>...</td>\n",
       "      <td>...</td>\n",
       "      <td>...</td>\n",
       "      <td>...</td>\n",
       "      <td>...</td>\n",
       "    </tr>\n",
       "    <tr>\n",
       "      <th>495</th>\n",
       "      <td>snscrape.modules.twitter.Tweet</td>\n",
       "      <td>https://twitter.com/OnaPippe/status/1587951345...</td>\n",
       "      <td>2022-11-02 23:34:38+00:00</td>\n",
       "      <td>My stocks watch &amp;amp; buy list...enter at ur o...</td>\n",
       "      <td>My stocks watch &amp;amp; buy list...enter at ur o...</td>\n",
       "      <td>1587951345515913216</td>\n",
       "      <td>{'_type': 'snscrape.modules.twitter.User', 'us...</td>\n",
       "      <td>0</td>\n",
       "      <td>0</td>\n",
       "      <td>0</td>\n",
       "      <td>...</td>\n",
       "      <td>NaN</td>\n",
       "      <td>NaN</td>\n",
       "      <td>NaN</td>\n",
       "      <td>NaN</td>\n",
       "      <td>NaN</td>\n",
       "      <td>NaN</td>\n",
       "      <td>NaN</td>\n",
       "      <td>NaN</td>\n",
       "      <td>NaN</td>\n",
       "      <td>NaN</td>\n",
       "    </tr>\n",
       "    <tr>\n",
       "      <th>496</th>\n",
       "      <td>snscrape.modules.twitter.Tweet</td>\n",
       "      <td>https://twitter.com/ControlsFuel/status/158795...</td>\n",
       "      <td>2022-11-02 23:34:35+00:00</td>\n",
       "      <td>BOSCH x6 pcs Injector Nozzle For BMW X1 X5 X6 ...</td>\n",
       "      <td>BOSCH x6 pcs Injector Nozzle For BMW X1 X5 X6 ...</td>\n",
       "      <td>1587951332446859264</td>\n",
       "      <td>{'_type': 'snscrape.modules.twitter.User', 'us...</td>\n",
       "      <td>0</td>\n",
       "      <td>0</td>\n",
       "      <td>0</td>\n",
       "      <td>...</td>\n",
       "      <td>NaN</td>\n",
       "      <td>NaN</td>\n",
       "      <td>NaN</td>\n",
       "      <td>NaN</td>\n",
       "      <td>NaN</td>\n",
       "      <td>NaN</td>\n",
       "      <td>NaN</td>\n",
       "      <td>NaN</td>\n",
       "      <td>NaN</td>\n",
       "      <td>NaN</td>\n",
       "    </tr>\n",
       "    <tr>\n",
       "      <th>497</th>\n",
       "      <td>snscrape.modules.twitter.Tweet</td>\n",
       "      <td>https://twitter.com/dbbeagles/status/158795133...</td>\n",
       "      <td>2022-11-02 23:34:34+00:00</td>\n",
       "      <td>@AOC yes indeed u have a 50k or more Tesla</td>\n",
       "      <td>@AOC yes indeed u have a 50k or more Tesla</td>\n",
       "      <td>1587951330923945984</td>\n",
       "      <td>{'_type': 'snscrape.modules.twitter.User', 'us...</td>\n",
       "      <td>0</td>\n",
       "      <td>0</td>\n",
       "      <td>0</td>\n",
       "      <td>...</td>\n",
       "      <td>NaN</td>\n",
       "      <td>{'_type': 'snscrape.modules.twitter.Tweet', 'u...</td>\n",
       "      <td>NaN</td>\n",
       "      <td>NaN</td>\n",
       "      <td>[{'_type': 'snscrape.modules.twitter.User', 'u...</td>\n",
       "      <td>NaN</td>\n",
       "      <td>NaN</td>\n",
       "      <td>NaN</td>\n",
       "      <td>NaN</td>\n",
       "      <td>NaN</td>\n",
       "    </tr>\n",
       "    <tr>\n",
       "      <th>498</th>\n",
       "      <td>snscrape.modules.twitter.Tweet</td>\n",
       "      <td>https://twitter.com/articles_et/status/1587951...</td>\n",
       "      <td>2022-11-02 23:34:33+00:00</td>\n",
       "      <td>For Audi Allroad Quattro 2001-2005 Duralo Fron...</td>\n",
       "      <td>For Audi Allroad Quattro 2001-2005 Duralo Fron...</td>\n",
       "      <td>1587951327325585409</td>\n",
       "      <td>{'_type': 'snscrape.modules.twitter.User', 'us...</td>\n",
       "      <td>0</td>\n",
       "      <td>0</td>\n",
       "      <td>0</td>\n",
       "      <td>...</td>\n",
       "      <td>NaN</td>\n",
       "      <td>NaN</td>\n",
       "      <td>NaN</td>\n",
       "      <td>NaN</td>\n",
       "      <td>NaN</td>\n",
       "      <td>NaN</td>\n",
       "      <td>NaN</td>\n",
       "      <td>NaN</td>\n",
       "      <td>NaN</td>\n",
       "      <td>NaN</td>\n",
       "    </tr>\n",
       "    <tr>\n",
       "      <th>499</th>\n",
       "      <td>snscrape.modules.twitter.Tweet</td>\n",
       "      <td>https://twitter.com/_Hits_music_/status/158795...</td>\n",
       "      <td>2022-11-02 23:34:31+00:00</td>\n",
       "      <td>Always Gretest Hits. Now Gettin' Better - Tesl...</td>\n",
       "      <td>Always Gretest Hits. Now Gettin' Better - Tesl...</td>\n",
       "      <td>1587951318479536129</td>\n",
       "      <td>{'_type': 'snscrape.modules.twitter.User', 'us...</td>\n",
       "      <td>0</td>\n",
       "      <td>0</td>\n",
       "      <td>0</td>\n",
       "      <td>...</td>\n",
       "      <td>NaN</td>\n",
       "      <td>NaN</td>\n",
       "      <td>NaN</td>\n",
       "      <td>NaN</td>\n",
       "      <td>NaN</td>\n",
       "      <td>NaN</td>\n",
       "      <td>NaN</td>\n",
       "      <td>NaN</td>\n",
       "      <td>NaN</td>\n",
       "      <td>NaN</td>\n",
       "    </tr>\n",
       "  </tbody>\n",
       "</table>\n",
       "<p>500 rows × 28 columns</p>\n",
       "</div>"
      ],
      "text/plain": [
       "                              _type  \\\n",
       "0    snscrape.modules.twitter.Tweet   \n",
       "1    snscrape.modules.twitter.Tweet   \n",
       "2    snscrape.modules.twitter.Tweet   \n",
       "3    snscrape.modules.twitter.Tweet   \n",
       "4    snscrape.modules.twitter.Tweet   \n",
       "..                              ...   \n",
       "495  snscrape.modules.twitter.Tweet   \n",
       "496  snscrape.modules.twitter.Tweet   \n",
       "497  snscrape.modules.twitter.Tweet   \n",
       "498  snscrape.modules.twitter.Tweet   \n",
       "499  snscrape.modules.twitter.Tweet   \n",
       "\n",
       "                                                   url  \\\n",
       "0    https://twitter.com/pistro12/status/1587957716...   \n",
       "1    https://twitter.com/Former11BRAVO/status/15879...   \n",
       "2    https://twitter.com/timmerenginerd/status/1587...   \n",
       "3    https://twitter.com/gerb_sam/status/1587957627...   \n",
       "4    https://twitter.com/UchennaNwekpa/status/15879...   \n",
       "..                                                 ...   \n",
       "495  https://twitter.com/OnaPippe/status/1587951345...   \n",
       "496  https://twitter.com/ControlsFuel/status/158795...   \n",
       "497  https://twitter.com/dbbeagles/status/158795133...   \n",
       "498  https://twitter.com/articles_et/status/1587951...   \n",
       "499  https://twitter.com/_Hits_music_/status/158795...   \n",
       "\n",
       "                          date  \\\n",
       "0    2022-11-02 23:59:57+00:00   \n",
       "1    2022-11-02 23:59:55+00:00   \n",
       "2    2022-11-02 23:59:50+00:00   \n",
       "3    2022-11-02 23:59:35+00:00   \n",
       "4    2022-11-02 23:59:33+00:00   \n",
       "..                         ...   \n",
       "495  2022-11-02 23:34:38+00:00   \n",
       "496  2022-11-02 23:34:35+00:00   \n",
       "497  2022-11-02 23:34:34+00:00   \n",
       "498  2022-11-02 23:34:33+00:00   \n",
       "499  2022-11-02 23:34:31+00:00   \n",
       "\n",
       "                                            rawContent  \\\n",
       "0    @elonmusk Maybe there is some insight about va...   \n",
       "1    @neverhyperpop @OANN You sound like someone wh...   \n",
       "2                           @Robecology2 @Tesla Bummer   \n",
       "3    @WhiteRiverDave1 A few windmills may not take ...   \n",
       "4    @SavvyRinu @fisayosoyombo Your president is in...   \n",
       "..                                                 ...   \n",
       "495  My stocks watch &amp; buy list...enter at ur o...   \n",
       "496  BOSCH x6 pcs Injector Nozzle For BMW X1 X5 X6 ...   \n",
       "497         @AOC yes indeed u have a 50k or more Tesla   \n",
       "498  For Audi Allroad Quattro 2001-2005 Duralo Fron...   \n",
       "499  Always Gretest Hits. Now Gettin' Better - Tesl...   \n",
       "\n",
       "                                       renderedContent                   id  \\\n",
       "0    @elonmusk Maybe there is some insight about va...  1587957716823179264   \n",
       "1    @neverhyperpop @OANN You sound like someone wh...  1587957709508431872   \n",
       "2                           @Robecology2 @Tesla Bummer  1587957689472237570   \n",
       "3    @WhiteRiverDave1 A few windmills may not take ...  1587957627824267265   \n",
       "4    @SavvyRinu @fisayosoyombo Your president is in...  1587957618374590465   \n",
       "..                                                 ...                  ...   \n",
       "495  My stocks watch &amp; buy list...enter at ur o...  1587951345515913216   \n",
       "496  BOSCH x6 pcs Injector Nozzle For BMW X1 X5 X6 ...  1587951332446859264   \n",
       "497         @AOC yes indeed u have a 50k or more Tesla  1587951330923945984   \n",
       "498  For Audi Allroad Quattro 2001-2005 Duralo Fron...  1587951327325585409   \n",
       "499  Always Gretest Hits. Now Gettin' Better - Tesl...  1587951318479536129   \n",
       "\n",
       "                                                  user  replyCount  \\\n",
       "0    {'_type': 'snscrape.modules.twitter.User', 'us...           0   \n",
       "1    {'_type': 'snscrape.modules.twitter.User', 'us...           0   \n",
       "2    {'_type': 'snscrape.modules.twitter.User', 'us...           0   \n",
       "3    {'_type': 'snscrape.modules.twitter.User', 'us...           0   \n",
       "4    {'_type': 'snscrape.modules.twitter.User', 'us...           0   \n",
       "..                                                 ...         ...   \n",
       "495  {'_type': 'snscrape.modules.twitter.User', 'us...           0   \n",
       "496  {'_type': 'snscrape.modules.twitter.User', 'us...           0   \n",
       "497  {'_type': 'snscrape.modules.twitter.User', 'us...           0   \n",
       "498  {'_type': 'snscrape.modules.twitter.User', 'us...           0   \n",
       "499  {'_type': 'snscrape.modules.twitter.User', 'us...           0   \n",
       "\n",
       "     retweetCount  likeCount  ...  retweetedTweet  \\\n",
       "0               0          0  ...             NaN   \n",
       "1               0          0  ...             NaN   \n",
       "2               0          1  ...             NaN   \n",
       "3               0          0  ...             NaN   \n",
       "4               0          0  ...             NaN   \n",
       "..            ...        ...  ...             ...   \n",
       "495             0          0  ...             NaN   \n",
       "496             0          0  ...             NaN   \n",
       "497             0          0  ...             NaN   \n",
       "498             0          0  ...             NaN   \n",
       "499             0          0  ...             NaN   \n",
       "\n",
       "                                           quotedTweet inReplyToTweetId  \\\n",
       "0                                                  NaN     1.587894e+18   \n",
       "1                                                  NaN     1.587863e+18   \n",
       "2                                                  NaN     1.587212e+18   \n",
       "3                                                  NaN     1.587072e+18   \n",
       "4                                                  NaN     1.587883e+18   \n",
       "..                                                 ...              ...   \n",
       "495                                                NaN              NaN   \n",
       "496                                                NaN              NaN   \n",
       "497  {'_type': 'snscrape.modules.twitter.Tweet', 'u...              NaN   \n",
       "498                                                NaN              NaN   \n",
       "499                                                NaN              NaN   \n",
       "\n",
       "                                         inReplyToUser  \\\n",
       "0    {'_type': 'snscrape.modules.twitter.User', 'us...   \n",
       "1    {'_type': 'snscrape.modules.twitter.User', 'us...   \n",
       "2    {'_type': 'snscrape.modules.twitter.User', 'us...   \n",
       "3    {'_type': 'snscrape.modules.twitter.User', 'us...   \n",
       "4    {'_type': 'snscrape.modules.twitter.User', 'us...   \n",
       "..                                                 ...   \n",
       "495                                                NaN   \n",
       "496                                                NaN   \n",
       "497                                                NaN   \n",
       "498                                                NaN   \n",
       "499                                                NaN   \n",
       "\n",
       "                                        mentionedUsers coordinates place  \\\n",
       "0    [{'_type': 'snscrape.modules.twitter.User', 'u...         NaN   NaN   \n",
       "1    [{'_type': 'snscrape.modules.twitter.User', 'u...         NaN   NaN   \n",
       "2    [{'_type': 'snscrape.modules.twitter.User', 'u...         NaN   NaN   \n",
       "3    [{'_type': 'snscrape.modules.twitter.User', 'u...         NaN   NaN   \n",
       "4    [{'_type': 'snscrape.modules.twitter.User', 'u...         NaN   NaN   \n",
       "..                                                 ...         ...   ...   \n",
       "495                                                NaN         NaN   NaN   \n",
       "496                                                NaN         NaN   NaN   \n",
       "497  [{'_type': 'snscrape.modules.twitter.User', 'u...         NaN   NaN   \n",
       "498                                                NaN         NaN   NaN   \n",
       "499                                                NaN         NaN   NaN   \n",
       "\n",
       "    hashtags  cashtags card  \n",
       "0        NaN       NaN  NaN  \n",
       "1        NaN       NaN  NaN  \n",
       "2        NaN       NaN  NaN  \n",
       "3        NaN       NaN  NaN  \n",
       "4        NaN       NaN  NaN  \n",
       "..       ...       ...  ...  \n",
       "495      NaN       NaN  NaN  \n",
       "496      NaN       NaN  NaN  \n",
       "497      NaN       NaN  NaN  \n",
       "498      NaN       NaN  NaN  \n",
       "499      NaN       NaN  NaN  \n",
       "\n",
       "[500 rows x 28 columns]"
      ]
     },
     "execution_count": 97,
     "metadata": {},
     "output_type": "execute_result"
    }
   ],
   "source": [
    "nov02 = pd.read_json(r'C:\\Users\\s_sad\\auto-query-tweets-nov02.json', lines=True)\n",
    "nov02.to_csv('auto-query-tweets-nov02.json' + '.csv', index = False)\n",
    "nov2 = pd.read_csv(r'auto-query-tweets-nov02.json.csv')\n",
    "nov2"
   ]
  },
  {
   "cell_type": "code",
   "execution_count": 98,
   "id": "7d85c5af",
   "metadata": {},
   "outputs": [],
   "source": [
    "nov03 = pd.read_json(r'C:\\Users\\s_sad\\auto-query-tweets-nov02.json', lines=True)\n",
    "nov03.to_csv('auto-query-tweets-nov02.json' + '.csv', index = False)\n",
    "nov3 = pd.read_csv(r'auto-query-tweets-nov02.json.csv')"
   ]
  },
  {
   "cell_type": "code",
   "execution_count": 99,
   "id": "9df8668f",
   "metadata": {},
   "outputs": [],
   "source": [
    "nov03 = pd.read_json(r'C:\\Users\\s_sad\\auto-query-tweets-nov03.json', lines=True)\n",
    "nov03.to_csv('auto-query-tweets-nov03.json' + '.csv', index = False)\n",
    "nov3 = pd.read_csv(r'auto-query-tweets-nov03.json.csv')"
   ]
  },
  {
   "cell_type": "code",
   "execution_count": 100,
   "id": "d8a95c94",
   "metadata": {},
   "outputs": [],
   "source": [
    "nov04 = pd.read_json(r'C:\\Users\\s_sad\\auto-query-tweets-nov04.json', lines=True)\n",
    "nov04.to_csv('auto-query-tweets-nov04.json' + '.csv', index = False)\n",
    "nov4 = pd.read_csv(r'auto-query-tweets-nov04.json.csv')"
   ]
  },
  {
   "cell_type": "code",
   "execution_count": 101,
   "id": "5e006add",
   "metadata": {},
   "outputs": [],
   "source": [
    "nov05 = pd.read_json(r'C:\\Users\\s_sad\\auto-query-tweets-nov05.json', lines=True)\n",
    "nov05.to_csv('auto-query-tweets-nov05.json' + '.csv', index = False)\n",
    "nov5 = pd.read_csv(r'auto-query-tweets-nov05.json.csv')"
   ]
  },
  {
   "cell_type": "code",
   "execution_count": 102,
   "id": "7d155307",
   "metadata": {},
   "outputs": [],
   "source": [
    "nov06 = pd.read_json(r'C:\\Users\\s_sad\\auto-query-tweets-nov06.json', lines=True)\n",
    "nov06.to_csv('auto-query-tweets-nov06.json' + '.csv', index = False)\n",
    "nov6 = pd.read_csv(r'auto-query-tweets-nov06.json.csv')"
   ]
  },
  {
   "cell_type": "code",
   "execution_count": 103,
   "id": "8f42c53a",
   "metadata": {},
   "outputs": [],
   "source": [
    "nov07 = pd.read_json(r'C:\\Users\\s_sad\\auto-query-tweets-nov07.json', lines=True)\n",
    "nov07.to_csv('auto-query-tweets-nov07.json' + '.csv', index = False)\n",
    "nov7 = pd.read_csv(r'auto-query-tweets-nov07.json.csv')"
   ]
  },
  {
   "cell_type": "code",
   "execution_count": 104,
   "id": "ebadcb9d",
   "metadata": {},
   "outputs": [],
   "source": [
    "nov08 = pd.read_json(r'C:\\Users\\s_sad\\auto-query-tweets-nov08.json', lines=True)\n",
    "nov08.to_csv('auto-query-tweets-nov08.json' + '.csv', index = False)\n",
    "nov8 = pd.read_csv(r'auto-query-tweets-nov08.json.csv')"
   ]
  },
  {
   "cell_type": "code",
   "execution_count": 105,
   "id": "6f864882",
   "metadata": {},
   "outputs": [],
   "source": [
    "nov09 = pd.read_json(r'C:\\Users\\s_sad\\auto-query-tweets-nov09.json', lines=True)\n",
    "nov09.to_csv('auto-query-tweets-nov09.json' + '.csv', index = False)\n",
    "nov9 = pd.read_csv(r'auto-query-tweets-nov09.json.csv')"
   ]
  },
  {
   "cell_type": "code",
   "execution_count": 106,
   "id": "f3fb947a",
   "metadata": {},
   "outputs": [],
   "source": [
    "nov10 = pd.read_json(r'C:\\Users\\s_sad\\auto-query-tweets-nov10.json', lines=True)\n",
    "nov10.to_csv('auto-query-tweets-nov10.json' + '.csv', index = False)\n",
    "nov10 = pd.read_csv(r'auto-query-tweets-nov10.json.csv')"
   ]
  },
  {
   "cell_type": "code",
   "execution_count": 107,
   "id": "e50b7a2b",
   "metadata": {},
   "outputs": [],
   "source": [
    "nov11 = pd.read_json(r'C:\\Users\\s_sad\\auto-query-tweets-nov11.json', lines=True)\n",
    "nov11.to_csv('auto-query-tweets-nov11.json' + '.csv', index = False)\n",
    "nov11 = pd.read_csv(r'auto-query-tweets-nov11.json.csv')"
   ]
  },
  {
   "cell_type": "code",
   "execution_count": 108,
   "id": "cbd60ce7",
   "metadata": {},
   "outputs": [],
   "source": [
    "nov12 = pd.read_json(r'C:\\Users\\s_sad\\auto-query-tweets-nov12.json', lines=True)\n",
    "nov12.to_csv('auto-query-tweets-nov12.json' + '.csv', index = False)\n",
    "nov12 = pd.read_csv(r'auto-query-tweets-nov12.json.csv')"
   ]
  },
  {
   "cell_type": "code",
   "execution_count": 109,
   "id": "216b1f25",
   "metadata": {},
   "outputs": [],
   "source": [
    "nov13 = pd.read_json(r'C:\\Users\\s_sad\\auto-query-tweets-nov13.json', lines=True)\n",
    "nov13.to_csv('auto-query-tweets-nov13.json' + '.csv', index = False)\n",
    "nov13 = pd.read_csv(r'auto-query-tweets-nov13.json.csv')"
   ]
  },
  {
   "cell_type": "code",
   "execution_count": 110,
   "id": "f46ae660",
   "metadata": {},
   "outputs": [],
   "source": [
    "nov14 = pd.read_json(r'C:\\Users\\s_sad\\auto-query-tweets-nov01.json', lines=True)\n",
    "nov14.to_csv('auto-query-tweets-nov14.json' + '.csv', index = False)\n",
    "nov14 = pd.read_csv(r'auto-query-tweets-nov14.json.csv')"
   ]
  },
  {
   "cell_type": "code",
   "execution_count": 111,
   "id": "a06505ad",
   "metadata": {},
   "outputs": [],
   "source": [
    "nov15 = pd.read_json(r'C:\\Users\\s_sad\\auto-query-tweets-nov15.json', lines=True)\n",
    "nov15.to_csv('auto-query-tweets-nov15.json' + '.csv', index = False)\n",
    "nov15 = pd.read_csv(r'auto-query-tweets-nov15.json.csv')"
   ]
  },
  {
   "cell_type": "code",
   "execution_count": 112,
   "id": "de064400",
   "metadata": {},
   "outputs": [],
   "source": [
    "nov16 = pd.read_json(r'C:\\Users\\s_sad\\auto-query-tweets-nov16.json', lines=True)\n",
    "nov16.to_csv('auto-query-tweets-nov16.json' + '.csv', index = False)\n",
    "nov16 = pd.read_csv(r'auto-query-tweets-nov16.json.csv')"
   ]
  },
  {
   "cell_type": "code",
   "execution_count": 113,
   "id": "931fb89f",
   "metadata": {},
   "outputs": [],
   "source": [
    "nov17 = pd.read_json(r'C:\\Users\\s_sad\\auto-query-tweets-nov17.json', lines=True)\n",
    "nov17.to_csv('auto-query-tweets-nov17.json' + '.csv', index = False)\n",
    "nov17 = pd.read_csv(r'auto-query-tweets-nov17.json.csv')"
   ]
  },
  {
   "cell_type": "code",
   "execution_count": 114,
   "id": "cf67e4ae",
   "metadata": {},
   "outputs": [],
   "source": [
    "nov18 = pd.read_json(r'C:\\Users\\s_sad\\auto-query-tweets-nov18.json', lines=True)\n",
    "nov18.to_csv('auto-query-tweets-nov18.json' + '.csv', index = False)\n",
    "nov18 = pd.read_csv(r'auto-query-tweets-nov18.json.csv')"
   ]
  },
  {
   "cell_type": "code",
   "execution_count": 115,
   "id": "a1253067",
   "metadata": {},
   "outputs": [],
   "source": [
    "nov19 = pd.read_json(r'C:\\Users\\s_sad\\auto-query-tweets-nov19.json', lines=True)\n",
    "nov19.to_csv('auto-query-tweets-nov19.json' + '.csv', index = False)\n",
    "nov19 = pd.read_csv(r'auto-query-tweets-nov19.json.csv')"
   ]
  },
  {
   "cell_type": "code",
   "execution_count": 116,
   "id": "4c47f5fe",
   "metadata": {},
   "outputs": [],
   "source": [
    "nov20 = pd.read_json(r'C:\\Users\\s_sad\\auto-query-tweets-nov20.json', lines=True)\n",
    "nov20.to_csv('auto-query-tweets-nov20.json' + '.csv', index = False)\n",
    "nov20 = pd.read_csv(r'auto-query-tweets-nov20.json.csv')"
   ]
  },
  {
   "cell_type": "code",
   "execution_count": 117,
   "id": "a153a5da",
   "metadata": {},
   "outputs": [],
   "source": [
    "nov21 = pd.read_json(r'C:\\Users\\s_sad\\auto-query-tweets-nov21.json', lines=True)\n",
    "nov21.to_csv('auto-query-tweets-nov21.json' + '.csv', index = False)\n",
    "nov21 = pd.read_csv(r'auto-query-tweets-nov21.json.csv')"
   ]
  },
  {
   "cell_type": "code",
   "execution_count": 118,
   "id": "a891fcd4",
   "metadata": {},
   "outputs": [],
   "source": [
    "nov22 = pd.read_json(r'C:\\Users\\s_sad\\auto-query-tweets-nov22.json', lines=True)\n",
    "nov22.to_csv('auto-query-tweets-nov22.json' + '.csv', index = False)\n",
    "nov22 = pd.read_csv(r'auto-query-tweets-nov22.json.csv')"
   ]
  },
  {
   "cell_type": "code",
   "execution_count": 119,
   "id": "19cb6b3f",
   "metadata": {},
   "outputs": [],
   "source": [
    "nov23 = pd.read_json(r'C:\\Users\\s_sad\\auto-query-tweets-nov23.json', lines=True)\n",
    "nov23.to_csv('auto-query-tweets-nov23.json' + '.csv', index = False)\n",
    "nov23 = pd.read_csv(r'auto-query-tweets-nov23.json.csv')"
   ]
  },
  {
   "cell_type": "code",
   "execution_count": 120,
   "id": "c428191c",
   "metadata": {},
   "outputs": [],
   "source": [
    "nov24 = pd.read_json(r'C:\\Users\\s_sad\\auto-query-tweets-nov24.json', lines=True)\n",
    "nov24.to_csv('auto-query-tweets-nov24.json' + '.csv', index = False)\n",
    "nov24 = pd.read_csv(r'auto-query-tweets-nov24.json.csv')"
   ]
  },
  {
   "cell_type": "code",
   "execution_count": 121,
   "id": "40b609ab",
   "metadata": {},
   "outputs": [],
   "source": [
    "nov25 = pd.read_json(r'C:\\Users\\s_sad\\auto-query-tweets-nov25.json', lines=True)\n",
    "nov25.to_csv('auto-query-tweets-nov25.json' + '.csv', index = False)\n",
    "nov25 = pd.read_csv(r'auto-query-tweets-nov25.json.csv')"
   ]
  },
  {
   "cell_type": "code",
   "execution_count": 122,
   "id": "45d43578",
   "metadata": {},
   "outputs": [],
   "source": [
    "nov26 = pd.read_json(r'C:\\Users\\s_sad\\auto-query-tweets-nov26.json', lines=True)\n",
    "nov26.to_csv('auto-query-tweets-nov26.json' + '.csv', index = False)\n",
    "nov26 = pd.read_csv(r'auto-query-tweets-nov26.json.csv')"
   ]
  },
  {
   "cell_type": "code",
   "execution_count": 123,
   "id": "008d7ca9",
   "metadata": {},
   "outputs": [],
   "source": [
    "nov27 = pd.read_json(r'C:\\Users\\s_sad\\auto-query-tweets-nov27.json', lines=True)\n",
    "nov27.to_csv('auto-query-tweets-nov27.json' + '.csv', index = False)\n",
    "nov27 = pd.read_csv(r'auto-query-tweets-nov27.json.csv')"
   ]
  },
  {
   "cell_type": "code",
   "execution_count": 124,
   "id": "33dc1241",
   "metadata": {},
   "outputs": [],
   "source": [
    "nov28 = pd.read_json(r'C:\\Users\\s_sad\\auto-query-tweets-nov28.json', lines=True)\n",
    "nov28.to_csv('auto-query-tweets-nov28.json' + '.csv', index = False)\n",
    "nov28 = pd.read_csv(r'auto-query-tweets-nov28.json.csv')"
   ]
  },
  {
   "cell_type": "code",
   "execution_count": 196,
   "id": "197bf3e2",
   "metadata": {},
   "outputs": [],
   "source": [
    "nov29 = pd.read_json(r'C:\\Users\\s_sad\\auto-query-tweets-nov29.json', lines=True)\n",
    "nov29.to_csv('auto-query-tweets-nov29.json' + '.csv', index = False)\n",
    "nov29 = pd.read_csv(r'auto-query-tweets-nov29.json.csv')"
   ]
  },
  {
   "cell_type": "code",
   "execution_count": 195,
   "id": "4a76106d",
   "metadata": {},
   "outputs": [],
   "source": [
    "nov30 = pd.read_json(r'C:\\Users\\s_sad\\auto-query-tweets-nov30.json', lines=True)\n",
    "nov30.to_csv('auto-query-tweets-nov30.json' + '.csv', index = False)\n",
    "nov30 = pd.read_csv(r'auto-query-tweets-nov30.json.csv')"
   ]
  },
  {
   "cell_type": "markdown",
   "id": "fed2dd25",
   "metadata": {},
   "source": [
    "# dec"
   ]
  },
  {
   "cell_type": "code",
   "execution_count": 128,
   "id": "19fec1a9",
   "metadata": {},
   "outputs": [
    {
     "data": {
      "text/plain": [
       "0"
      ]
     },
     "execution_count": 128,
     "metadata": {},
     "output_type": "execute_result"
    }
   ],
   "source": [
    "out_folder = r\"C:\\Users\\s_sad\"\n",
    "#in_folder = '/input'\n",
    "\n",
    "json_filename = out_folder + '/auto-query-tweets-dec01.json'\n",
    "\n",
    "#Using the OS library to call CLI commands in Python\n",
    "os.system(f'snscrape --max-results 500 --jsonl --progress --since 2022-12-01 twitter-search \"tesla OR mercedes OR bmw OR audi lang:en until:2022-12-02\" > {json_filename}')\n"
   ]
  },
  {
   "cell_type": "code",
   "execution_count": 129,
   "id": "929d00d4",
   "metadata": {},
   "outputs": [
    {
     "data": {
      "text/plain": [
       "0"
      ]
     },
     "execution_count": 129,
     "metadata": {},
     "output_type": "execute_result"
    }
   ],
   "source": [
    "out_folder = r\"C:\\Users\\s_sad\"\n",
    "#in_folder = '/input'\n",
    "\n",
    "json_filename = out_folder + '/auto-query-tweets-dec02.json'\n",
    "\n",
    "#Using the OS library to call CLI commands in Python\n",
    "os.system(f'snscrape --max-results 500 --jsonl --progress --since 2022-12-01 twitter-search \"tesla OR mercedes OR bmw OR audi lang:en until:2022-12-03\" > {json_filename}')\n"
   ]
  },
  {
   "cell_type": "code",
   "execution_count": 130,
   "id": "b47182e9",
   "metadata": {},
   "outputs": [
    {
     "data": {
      "text/plain": [
       "0"
      ]
     },
     "execution_count": 130,
     "metadata": {},
     "output_type": "execute_result"
    }
   ],
   "source": [
    "out_folder = r\"C:\\Users\\s_sad\"\n",
    "#in_folder = '/input'\n",
    "\n",
    "json_filename = out_folder + '/auto-query-tweets-dec03.json'\n",
    "\n",
    "#Using the OS library to call CLI commands in Python\n",
    "os.system(f'snscrape --max-results 500 --jsonl --progress --since 2022-12-01 twitter-search \"tesla OR mercedes OR bmw OR audi lang:en until:2022-12-04\" > {json_filename}')\n"
   ]
  },
  {
   "cell_type": "code",
   "execution_count": 131,
   "id": "ff55c0a6",
   "metadata": {},
   "outputs": [
    {
     "data": {
      "text/plain": [
       "0"
      ]
     },
     "execution_count": 131,
     "metadata": {},
     "output_type": "execute_result"
    }
   ],
   "source": [
    "out_folder = r\"C:\\Users\\s_sad\"\n",
    "#in_folder = '/input'\n",
    "\n",
    "json_filename = out_folder + '/auto-query-tweets-dec04.json'\n",
    "\n",
    "#Using the OS library to call CLI commands in Python\n",
    "os.system(f'snscrape --max-results 500 --jsonl --progress --since 2022-12-01 twitter-search \"tesla OR mercedes OR bmw OR audi lang:en until:2022-12-05\" > {json_filename}')\n"
   ]
  },
  {
   "cell_type": "code",
   "execution_count": 132,
   "id": "3ae286e5",
   "metadata": {},
   "outputs": [
    {
     "data": {
      "text/plain": [
       "0"
      ]
     },
     "execution_count": 132,
     "metadata": {},
     "output_type": "execute_result"
    }
   ],
   "source": [
    "out_folder = r\"C:\\Users\\s_sad\"\n",
    "#in_folder = '/input'\n",
    "\n",
    "json_filename = out_folder + '/auto-query-tweets-dec05.json'\n",
    "\n",
    "#Using the OS library to call CLI commands in Python\n",
    "os.system(f'snscrape --max-results 500 --jsonl --progress --since 2022-12-01 twitter-search \"tesla OR mercedes OR bmw OR audi lang:en until:2022-12-06\" > {json_filename}')\n"
   ]
  },
  {
   "cell_type": "code",
   "execution_count": 133,
   "id": "ec93d8dd",
   "metadata": {},
   "outputs": [
    {
     "data": {
      "text/plain": [
       "0"
      ]
     },
     "execution_count": 133,
     "metadata": {},
     "output_type": "execute_result"
    }
   ],
   "source": [
    "out_folder = r\"C:\\Users\\s_sad\"\n",
    "#in_folder = '/input'\n",
    "\n",
    "json_filename = out_folder + '/auto-query-tweets-dec06.json'\n",
    "\n",
    "#Using the OS library to call CLI commands in Python\n",
    "os.system(f'snscrape --max-results 500 --jsonl --progress --since 2022-12-01 twitter-search \"tesla OR mercedes OR bmw OR audi lang:en until:2022-12-07\" > {json_filename}')\n"
   ]
  },
  {
   "cell_type": "code",
   "execution_count": 134,
   "id": "d6d4e621",
   "metadata": {},
   "outputs": [
    {
     "data": {
      "text/plain": [
       "0"
      ]
     },
     "execution_count": 134,
     "metadata": {},
     "output_type": "execute_result"
    }
   ],
   "source": [
    "out_folder = r\"C:\\Users\\s_sad\"\n",
    "#in_folder = '/input'\n",
    "\n",
    "json_filename = out_folder + '/auto-query-tweets-dec07.json'\n",
    "\n",
    "#Using the OS library to call CLI commands in Python\n",
    "os.system(f'snscrape --max-results 500 --jsonl --progress --since 2022-12-01 twitter-search \"tesla OR mercedes OR bmw OR audi lang:en until:2022-12-08\" > {json_filename}')\n"
   ]
  },
  {
   "cell_type": "code",
   "execution_count": 135,
   "id": "7020ee27",
   "metadata": {},
   "outputs": [
    {
     "data": {
      "text/plain": [
       "0"
      ]
     },
     "execution_count": 135,
     "metadata": {},
     "output_type": "execute_result"
    }
   ],
   "source": [
    "out_folder = r\"C:\\Users\\s_sad\"\n",
    "#in_folder = '/input'\n",
    "\n",
    "json_filename = out_folder + '/auto-query-tweets-dec08.json'\n",
    "\n",
    "#Using the OS library to call CLI commands in Python\n",
    "os.system(f'snscrape --max-results 500 --jsonl --progress --since 2022-12-01 twitter-search \"tesla OR mercedes OR bmw OR audi lang:en until:2022-12-09\" > {json_filename}')\n"
   ]
  },
  {
   "cell_type": "code",
   "execution_count": 136,
   "id": "ae898ae5",
   "metadata": {},
   "outputs": [
    {
     "data": {
      "text/plain": [
       "0"
      ]
     },
     "execution_count": 136,
     "metadata": {},
     "output_type": "execute_result"
    }
   ],
   "source": [
    "out_folder = r\"C:\\Users\\s_sad\"\n",
    "#in_folder = '/input'\n",
    "\n",
    "json_filename = out_folder + '/auto-query-tweets-dec09.json'\n",
    "\n",
    "#Using the OS library to call CLI commands in Python\n",
    "os.system(f'snscrape --max-results 500 --jsonl --progress --since 2022-12-01 twitter-search \"tesla OR mercedes OR bmw OR audi lang:en until:2022-12-10\" > {json_filename}')\n"
   ]
  },
  {
   "cell_type": "code",
   "execution_count": 137,
   "id": "cf0f467e",
   "metadata": {},
   "outputs": [
    {
     "data": {
      "text/plain": [
       "0"
      ]
     },
     "execution_count": 137,
     "metadata": {},
     "output_type": "execute_result"
    }
   ],
   "source": [
    "out_folder = r\"C:\\Users\\s_sad\"\n",
    "#in_folder = '/input'\n",
    "\n",
    "json_filename = out_folder + '/auto-query-tweets-dec10.json'\n",
    "\n",
    "#Using the OS library to call CLI commands in Python\n",
    "os.system(f'snscrape --max-results 500 --jsonl --progress --since 2022-12-01 twitter-search \"tesla OR mercedes OR bmw OR audi lang:en until:2022-12-11\" > {json_filename}')\n"
   ]
  },
  {
   "cell_type": "code",
   "execution_count": 138,
   "id": "a55ed9ba",
   "metadata": {},
   "outputs": [
    {
     "data": {
      "text/plain": [
       "0"
      ]
     },
     "execution_count": 138,
     "metadata": {},
     "output_type": "execute_result"
    }
   ],
   "source": [
    "out_folder = r\"C:\\Users\\s_sad\"\n",
    "#in_folder = '/input'\n",
    "\n",
    "json_filename = out_folder + '/auto-query-tweets-dec11.json'\n",
    "\n",
    "#Using the OS library to call CLI commands in Python\n",
    "os.system(f'snscrape --max-results 500 --jsonl --progress --since 2022-12-01 twitter-search \"tesla OR mercedes OR bmw OR audi lang:en until:2022-12-12\" > {json_filename}')\n"
   ]
  },
  {
   "cell_type": "code",
   "execution_count": 139,
   "id": "590819a7",
   "metadata": {},
   "outputs": [
    {
     "data": {
      "text/plain": [
       "0"
      ]
     },
     "execution_count": 139,
     "metadata": {},
     "output_type": "execute_result"
    }
   ],
   "source": [
    "out_folder = r\"C:\\Users\\s_sad\"\n",
    "#in_folder = '/input'\n",
    "\n",
    "json_filename = out_folder + '/auto-query-tweets-dec12.json'\n",
    "\n",
    "#Using the OS library to call CLI commands in Python\n",
    "os.system(f'snscrape --max-results 500 --jsonl --progress --since 2022-12-01 twitter-search \"tesla OR mercedes OR bmw OR audi lang:en until:2022-12-13\" > {json_filename}')\n"
   ]
  },
  {
   "cell_type": "code",
   "execution_count": 140,
   "id": "b07bd753",
   "metadata": {},
   "outputs": [
    {
     "data": {
      "text/plain": [
       "0"
      ]
     },
     "execution_count": 140,
     "metadata": {},
     "output_type": "execute_result"
    }
   ],
   "source": [
    "out_folder = r\"C:\\Users\\s_sad\"\n",
    "#in_folder = '/input'\n",
    "\n",
    "json_filename = out_folder + '/auto-query-tweets-dec13.json'\n",
    "\n",
    "#Using the OS library to call CLI commands in Python\n",
    "os.system(f'snscrape --max-results 500 --jsonl --progress --since 2022-12-01 twitter-search \"tesla OR mercedes OR bmw OR audi lang:en until:2022-12-14\" > {json_filename}')\n"
   ]
  },
  {
   "cell_type": "code",
   "execution_count": 141,
   "id": "7088e7a6",
   "metadata": {},
   "outputs": [
    {
     "data": {
      "text/plain": [
       "0"
      ]
     },
     "execution_count": 141,
     "metadata": {},
     "output_type": "execute_result"
    }
   ],
   "source": [
    "out_folder = r\"C:\\Users\\s_sad\"\n",
    "#in_folder = '/input'\n",
    "\n",
    "json_filename = out_folder + '/auto-query-tweets-dec14.json'\n",
    "\n",
    "#Using the OS library to call CLI commands in Python\n",
    "os.system(f'snscrape --max-results 500 --jsonl --progress --since 2022-12-01 twitter-search \"tesla OR mercedes OR bmw OR audi lang:en until:2022-12-15\" > {json_filename}')\n"
   ]
  },
  {
   "cell_type": "code",
   "execution_count": 142,
   "id": "fd2e9ff1",
   "metadata": {},
   "outputs": [
    {
     "data": {
      "text/plain": [
       "0"
      ]
     },
     "execution_count": 142,
     "metadata": {},
     "output_type": "execute_result"
    }
   ],
   "source": [
    "out_folder = r\"C:\\Users\\s_sad\"\n",
    "#in_folder = '/input'\n",
    "\n",
    "json_filename = out_folder + '/auto-query-tweets-dec15.json'\n",
    "\n",
    "#Using the OS library to call CLI commands in Python\n",
    "os.system(f'snscrape --max-results 500 --jsonl --progress --since 2022-12-01 twitter-search \"tesla OR mercedes OR bmw OR audi lang:en until:2022-12-16\" > {json_filename}')\n"
   ]
  },
  {
   "cell_type": "code",
   "execution_count": 143,
   "id": "3cda34e9",
   "metadata": {},
   "outputs": [
    {
     "data": {
      "text/plain": [
       "0"
      ]
     },
     "execution_count": 143,
     "metadata": {},
     "output_type": "execute_result"
    }
   ],
   "source": [
    "out_folder = r\"C:\\Users\\s_sad\"\n",
    "#in_folder = '/input'\n",
    "\n",
    "json_filename = out_folder + '/auto-query-tweets-dec16.json'\n",
    "\n",
    "#Using the OS library to call CLI commands in Python\n",
    "os.system(f'snscrape --max-results 500 --jsonl --progress --since 2022-12-01 twitter-search \"tesla OR mercedes OR bmw OR audi lang:en until:2022-12-17\" > {json_filename}')\n"
   ]
  },
  {
   "cell_type": "code",
   "execution_count": 144,
   "id": "76e5dd95",
   "metadata": {},
   "outputs": [
    {
     "data": {
      "text/plain": [
       "0"
      ]
     },
     "execution_count": 144,
     "metadata": {},
     "output_type": "execute_result"
    }
   ],
   "source": [
    "out_folder = r\"C:\\Users\\s_sad\"\n",
    "#in_folder = '/input'\n",
    "\n",
    "json_filename = out_folder + '/auto-query-tweets-dec17.json'\n",
    "\n",
    "#Using the OS library to call CLI commands in Python\n",
    "os.system(f'snscrape --max-results 500 --jsonl --progress --since 2022-12-01 twitter-search \"tesla OR mercedes OR bmw OR audi lang:en until:2022-12-18\" > {json_filename}')\n"
   ]
  },
  {
   "cell_type": "code",
   "execution_count": 145,
   "id": "ce6bdece",
   "metadata": {},
   "outputs": [
    {
     "data": {
      "text/plain": [
       "0"
      ]
     },
     "execution_count": 145,
     "metadata": {},
     "output_type": "execute_result"
    }
   ],
   "source": [
    "out_folder = r\"C:\\Users\\s_sad\"\n",
    "#in_folder = '/input'\n",
    "\n",
    "json_filename = out_folder + '/auto-query-tweets-dec18.json'\n",
    "\n",
    "#Using the OS library to call CLI commands in Python\n",
    "os.system(f'snscrape --max-results 500 --jsonl --progress --since 2022-12-01 twitter-search \"tesla OR mercedes OR bmw OR audi lang:en until:2022-12-19\" > {json_filename}')\n"
   ]
  },
  {
   "cell_type": "code",
   "execution_count": 146,
   "id": "410a96e6",
   "metadata": {},
   "outputs": [
    {
     "data": {
      "text/plain": [
       "0"
      ]
     },
     "execution_count": 146,
     "metadata": {},
     "output_type": "execute_result"
    }
   ],
   "source": [
    "out_folder = r\"C:\\Users\\s_sad\"\n",
    "#in_folder = '/input'\n",
    "\n",
    "json_filename = out_folder + '/auto-query-tweets-dec19.json'\n",
    "\n",
    "#Using the OS library to call CLI commands in Python\n",
    "os.system(f'snscrape --max-results 500 --jsonl --progress --since 2022-12-01 twitter-search \"tesla OR mercedes OR bmw OR audi lang:en until:2022-12-20\" > {json_filename}')\n"
   ]
  },
  {
   "cell_type": "code",
   "execution_count": 147,
   "id": "826790ea",
   "metadata": {},
   "outputs": [
    {
     "data": {
      "text/plain": [
       "0"
      ]
     },
     "execution_count": 147,
     "metadata": {},
     "output_type": "execute_result"
    }
   ],
   "source": [
    "out_folder = r\"C:\\Users\\s_sad\"\n",
    "#in_folder = '/input'\n",
    "\n",
    "json_filename = out_folder + '/auto-query-tweets-dec20.json'\n",
    "\n",
    "#Using the OS library to call CLI commands in Python\n",
    "os.system(f'snscrape --max-results 500 --jsonl --progress --since 2022-12-01 twitter-search \"tesla OR mercedes OR bmw OR audi lang:en until:2022-12-21\" > {json_filename}')\n"
   ]
  },
  {
   "cell_type": "code",
   "execution_count": 148,
   "id": "ae4f3c71",
   "metadata": {},
   "outputs": [
    {
     "data": {
      "text/plain": [
       "0"
      ]
     },
     "execution_count": 148,
     "metadata": {},
     "output_type": "execute_result"
    }
   ],
   "source": [
    "out_folder = r\"C:\\Users\\s_sad\"\n",
    "#in_folder = '/input'\n",
    "\n",
    "json_filename = out_folder + '/auto-query-tweets-dec21.json'\n",
    "\n",
    "#Using the OS library to call CLI commands in Python\n",
    "os.system(f'snscrape --max-results 500 --jsonl --progress --since 2022-12-01 twitter-search \"tesla OR mercedes OR bmw OR audi lang:en until:2022-12-22\" > {json_filename}')\n"
   ]
  },
  {
   "cell_type": "code",
   "execution_count": 149,
   "id": "80cec83c",
   "metadata": {},
   "outputs": [
    {
     "data": {
      "text/plain": [
       "0"
      ]
     },
     "execution_count": 149,
     "metadata": {},
     "output_type": "execute_result"
    }
   ],
   "source": [
    "out_folder = r\"C:\\Users\\s_sad\"\n",
    "#in_folder = '/input'\n",
    "\n",
    "json_filename = out_folder + '/auto-query-tweets-dec22.json'\n",
    "\n",
    "#Using the OS library to call CLI commands in Python\n",
    "os.system(f'snscrape --max-results 500 --jsonl --progress --since 2022-12-01 twitter-search \"tesla OR mercedes OR bmw OR audi lang:en until:2022-12-23\" > {json_filename}')\n"
   ]
  },
  {
   "cell_type": "code",
   "execution_count": 150,
   "id": "55d09a98",
   "metadata": {},
   "outputs": [
    {
     "data": {
      "text/plain": [
       "0"
      ]
     },
     "execution_count": 150,
     "metadata": {},
     "output_type": "execute_result"
    }
   ],
   "source": [
    "out_folder = r\"C:\\Users\\s_sad\"\n",
    "#in_folder = '/input'\n",
    "\n",
    "json_filename = out_folder + '/auto-query-tweets-dec23.json'\n",
    "\n",
    "#Using the OS library to call CLI commands in Python\n",
    "os.system(f'snscrape --max-results 500 --jsonl --progress --since 2022-12-01 twitter-search \"tesla OR mercedes OR bmw OR audi lang:en until:2022-12-24\" > {json_filename}')\n"
   ]
  },
  {
   "cell_type": "code",
   "execution_count": 151,
   "id": "78b10df6",
   "metadata": {},
   "outputs": [
    {
     "data": {
      "text/plain": [
       "0"
      ]
     },
     "execution_count": 151,
     "metadata": {},
     "output_type": "execute_result"
    }
   ],
   "source": [
    "out_folder = r\"C:\\Users\\s_sad\"\n",
    "#in_folder = '/input'\n",
    "\n",
    "json_filename = out_folder + '/auto-query-tweets-dec24.json'\n",
    "\n",
    "#Using the OS library to call CLI commands in Python\n",
    "os.system(f'snscrape --max-results 500 --jsonl --progress --since 2022-12-01 twitter-search \"tesla OR mercedes OR bmw OR audi lang:en until:2022-12-25\" > {json_filename}')\n"
   ]
  },
  {
   "cell_type": "code",
   "execution_count": 152,
   "id": "76c487ff",
   "metadata": {},
   "outputs": [
    {
     "data": {
      "text/plain": [
       "0"
      ]
     },
     "execution_count": 152,
     "metadata": {},
     "output_type": "execute_result"
    }
   ],
   "source": [
    "out_folder = r\"C:\\Users\\s_sad\"\n",
    "#in_folder = '/input'\n",
    "\n",
    "json_filename = out_folder + '/auto-query-tweets-dec25.json'\n",
    "\n",
    "#Using the OS library to call CLI commands in Python\n",
    "os.system(f'snscrape --max-results 500 --jsonl --progress --since 2022-12-01 twitter-search \"tesla OR mercedes OR bmw OR audi lang:en until:2022-12-26\" > {json_filename}')\n"
   ]
  },
  {
   "cell_type": "code",
   "execution_count": 153,
   "id": "0d5244de",
   "metadata": {},
   "outputs": [
    {
     "data": {
      "text/plain": [
       "0"
      ]
     },
     "execution_count": 153,
     "metadata": {},
     "output_type": "execute_result"
    }
   ],
   "source": [
    "out_folder = r\"C:\\Users\\s_sad\"\n",
    "#in_folder = '/input'\n",
    "\n",
    "json_filename = out_folder + '/auto-query-tweets-dec26.json'\n",
    "\n",
    "#Using the OS library to call CLI commands in Python\n",
    "os.system(f'snscrape --max-results 500 --jsonl --progress --since 2022-12-01 twitter-search \"tesla OR mercedes OR bmw OR audi lang:en until:2022-12-27\" > {json_filename}')\n"
   ]
  },
  {
   "cell_type": "code",
   "execution_count": 154,
   "id": "e9099b73",
   "metadata": {},
   "outputs": [
    {
     "data": {
      "text/plain": [
       "0"
      ]
     },
     "execution_count": 154,
     "metadata": {},
     "output_type": "execute_result"
    }
   ],
   "source": [
    "out_folder = r\"C:\\Users\\s_sad\"\n",
    "#in_folder = '/input'\n",
    "\n",
    "json_filename = out_folder + '/auto-query-tweets-dec27.json'\n",
    "\n",
    "#Using the OS library to call CLI commands in Python\n",
    "os.system(f'snscrape --max-results 500 --jsonl --progress --since 2022-12-01 twitter-search \"tesla OR mercedes OR bmw OR audi lang:en until:2022-12-28\" > {json_filename}')\n"
   ]
  },
  {
   "cell_type": "code",
   "execution_count": 155,
   "id": "93fbd6d5",
   "metadata": {},
   "outputs": [
    {
     "data": {
      "text/plain": [
       "0"
      ]
     },
     "execution_count": 155,
     "metadata": {},
     "output_type": "execute_result"
    }
   ],
   "source": [
    "out_folder = r\"C:\\Users\\s_sad\"\n",
    "#in_folder = '/input'\n",
    "\n",
    "json_filename = out_folder + '/auto-query-tweets-dec28.json'\n",
    "\n",
    "#Using the OS library to call CLI commands in Python\n",
    "os.system(f'snscrape --max-results 500 --jsonl --progress --since 2022-12-01 twitter-search \"tesla OR mercedes OR bmw OR audi lang:en until:2022-12-29\" > {json_filename}')\n"
   ]
  },
  {
   "cell_type": "code",
   "execution_count": 156,
   "id": "7150cee6",
   "metadata": {},
   "outputs": [
    {
     "data": {
      "text/plain": [
       "0"
      ]
     },
     "execution_count": 156,
     "metadata": {},
     "output_type": "execute_result"
    }
   ],
   "source": [
    "out_folder = r\"C:\\Users\\s_sad\"\n",
    "#in_folder = '/input'\n",
    "\n",
    "json_filename = out_folder + '/auto-query-tweets-dec29.json'\n",
    "\n",
    "#Using the OS library to call CLI commands in Python\n",
    "os.system(f'snscrape --max-results 500 --jsonl --progress --since 2022-12-01 twitter-search \"tesla OR mercedes OR bmw OR audi lang:en until:2022-12-30\" > {json_filename}')\n"
   ]
  },
  {
   "cell_type": "code",
   "execution_count": 157,
   "id": "877bce59",
   "metadata": {},
   "outputs": [
    {
     "data": {
      "text/plain": [
       "0"
      ]
     },
     "execution_count": 157,
     "metadata": {},
     "output_type": "execute_result"
    }
   ],
   "source": [
    "out_folder = r\"C:\\Users\\s_sad\"\n",
    "#in_folder = '/input'\n",
    "\n",
    "json_filename = out_folder + '/auto-query-tweets-dec30.json'\n",
    "\n",
    "#Using the OS library to call CLI commands in Python\n",
    "os.system(f'snscrape --max-results 500 --jsonl --progress --since 2022-12-01 twitter-search \"tesla OR mercedes OR bmw OR audi lang:en until:2022-12-31\" > {json_filename}')\n"
   ]
  },
  {
   "cell_type": "code",
   "execution_count": 158,
   "id": "5bb17ab1",
   "metadata": {},
   "outputs": [
    {
     "data": {
      "text/plain": [
       "0"
      ]
     },
     "execution_count": 158,
     "metadata": {},
     "output_type": "execute_result"
    }
   ],
   "source": [
    "out_folder = r\"C:\\Users\\s_sad\"\n",
    "#in_folder = '/input'\n",
    "\n",
    "json_filename = out_folder + '/auto-query-tweets-dec31.json'\n",
    "\n",
    "#Using the OS library to call CLI commands in Python\n",
    "os.system(f'snscrape --max-results 500 --jsonl --progress --since 2022-12-01 twitter-search \"tesla OR mercedes OR bmw OR audi lang:en until:2023-01-01\" > {json_filename}')\n"
   ]
  },
  {
   "cell_type": "code",
   "execution_count": 159,
   "id": "0df15955",
   "metadata": {},
   "outputs": [],
   "source": [
    "dec01 = pd.read_json(r'C:\\Users\\s_sad\\auto-query-tweets-dec01.json', lines=True)\n",
    "dec01.to_csv('auto-query-tweets-dec01.json' + '.csv', index = False)\n",
    "dec1 = pd.read_csv(r'auto-query-tweets-dec01.json.csv')\n"
   ]
  },
  {
   "cell_type": "code",
   "execution_count": 160,
   "id": "3b7e344d",
   "metadata": {},
   "outputs": [],
   "source": [
    "dec02 = pd.read_json(r'C:\\Users\\s_sad\\auto-query-tweets-dec02.json', lines=True)\n",
    "dec02.to_csv('auto-query-tweets-dec02.json' + '.csv', index = False)\n",
    "dec2 = pd.read_csv(r'auto-query-tweets-dec02.json.csv')\n"
   ]
  },
  {
   "cell_type": "code",
   "execution_count": 161,
   "id": "7e22f3bf",
   "metadata": {},
   "outputs": [],
   "source": [
    "dec03 = pd.read_json(r'C:\\Users\\s_sad\\auto-query-tweets-dec03.json', lines=True)\n",
    "dec03.to_csv('auto-query-tweets-dec03.json' + '.csv', index = False)\n",
    "dec3 = pd.read_csv(r'auto-query-tweets-dec03.json.csv')\n"
   ]
  },
  {
   "cell_type": "code",
   "execution_count": 162,
   "id": "28edb986",
   "metadata": {},
   "outputs": [],
   "source": [
    "dec04 = pd.read_json(r'C:\\Users\\s_sad\\auto-query-tweets-dec04.json', lines=True)\n",
    "dec04.to_csv('auto-query-tweets-dec04.json' + '.csv', index = False)\n",
    "dec4 = pd.read_csv(r'auto-query-tweets-dec04.json.csv')\n"
   ]
  },
  {
   "cell_type": "code",
   "execution_count": 163,
   "id": "5a4cfe09",
   "metadata": {},
   "outputs": [],
   "source": [
    "dec05 = pd.read_json(r'C:\\Users\\s_sad\\auto-query-tweets-dec05.json', lines=True)\n",
    "dec05.to_csv('auto-query-tweets-dec05.json' + '.csv', index = False)\n",
    "dec5 = pd.read_csv(r'auto-query-tweets-dec05.json.csv')\n"
   ]
  },
  {
   "cell_type": "code",
   "execution_count": 164,
   "id": "29b5c9cb",
   "metadata": {},
   "outputs": [],
   "source": [
    "dec06 = pd.read_json(r'C:\\Users\\s_sad\\auto-query-tweets-dec06.json', lines=True)\n",
    "dec06.to_csv('auto-query-tweets-dec06.json' + '.csv', index = False)\n",
    "dec6 = pd.read_csv(r'auto-query-tweets-dec06.json.csv')\n"
   ]
  },
  {
   "cell_type": "code",
   "execution_count": 165,
   "id": "6542bc7c",
   "metadata": {},
   "outputs": [],
   "source": [
    "dec07 = pd.read_json(r'C:\\Users\\s_sad\\auto-query-tweets-dec07.json', lines=True)\n",
    "dec07.to_csv('auto-query-tweets-dec07.json' + '.csv', index = False)\n",
    "dec7 = pd.read_csv(r'auto-query-tweets-dec07.json.csv')\n"
   ]
  },
  {
   "cell_type": "code",
   "execution_count": 166,
   "id": "acbd8c89",
   "metadata": {},
   "outputs": [],
   "source": [
    "dec08 = pd.read_json(r'C:\\Users\\s_sad\\auto-query-tweets-dec08.json', lines=True)\n",
    "dec08.to_csv('auto-query-tweets-dec08.json' + '.csv', index = False)\n",
    "dec8 = pd.read_csv(r'auto-query-tweets-dec08.json.csv')\n"
   ]
  },
  {
   "cell_type": "code",
   "execution_count": 167,
   "id": "5710f9b2",
   "metadata": {},
   "outputs": [],
   "source": [
    "dec09 = pd.read_json(r'C:\\Users\\s_sad\\auto-query-tweets-dec09.json', lines=True)\n",
    "dec09.to_csv('auto-query-tweets-dec09.json' + '.csv', index = False)\n",
    "dec09 = pd.read_csv(r'auto-query-tweets-dec09.json.csv')\n"
   ]
  },
  {
   "cell_type": "code",
   "execution_count": 168,
   "id": "5d601c32",
   "metadata": {},
   "outputs": [],
   "source": [
    "dec10 = pd.read_json(r'C:\\Users\\s_sad\\auto-query-tweets-dec10.json', lines=True)\n",
    "dec10.to_csv('auto-query-tweets-dec10.json' + '.csv', index = False)\n",
    "dec10 = pd.read_csv(r'auto-query-tweets-dec10.json.csv')\n"
   ]
  },
  {
   "cell_type": "code",
   "execution_count": 169,
   "id": "714aa214",
   "metadata": {},
   "outputs": [],
   "source": [
    "dec11 = pd.read_json(r'C:\\Users\\s_sad\\auto-query-tweets-dec11.json', lines=True)\n",
    "dec11.to_csv('auto-query-tweets-dec11.json' + '.csv', index = False)\n",
    "dec11 = pd.read_csv(r'auto-query-tweets-dec11.json.csv')\n"
   ]
  },
  {
   "cell_type": "code",
   "execution_count": 170,
   "id": "7db87667",
   "metadata": {},
   "outputs": [],
   "source": [
    "dec12 = pd.read_json(r'C:\\Users\\s_sad\\auto-query-tweets-dec12.json', lines=True)\n",
    "dec12.to_csv('auto-query-tweets-dec12.json' + '.csv', index = False)\n",
    "dec12 = pd.read_csv(r'auto-query-tweets-dec12.json.csv')\n"
   ]
  },
  {
   "cell_type": "code",
   "execution_count": 171,
   "id": "e15fb1d5",
   "metadata": {},
   "outputs": [],
   "source": [
    "dec13 = pd.read_json(r'C:\\Users\\s_sad\\auto-query-tweets-dec13.json', lines=True)\n",
    "dec13.to_csv('auto-query-tweets-dec13.json' + '.csv', index = False)\n",
    "dec13 = pd.read_csv(r'auto-query-tweets-dec13.json.csv')\n"
   ]
  },
  {
   "cell_type": "code",
   "execution_count": 172,
   "id": "d1005182",
   "metadata": {},
   "outputs": [],
   "source": [
    "dec14 = pd.read_json(r'C:\\Users\\s_sad\\auto-query-tweets-dec14.json', lines=True)\n",
    "dec14.to_csv('auto-query-tweets-dec14.json' + '.csv', index = False)\n",
    "dec14 = pd.read_csv(r'auto-query-tweets-dec14.json.csv')\n"
   ]
  },
  {
   "cell_type": "code",
   "execution_count": 173,
   "id": "2e4cc5ec",
   "metadata": {},
   "outputs": [],
   "source": [
    "dec15 = pd.read_json(r'C:\\Users\\s_sad\\auto-query-tweets-dec15.json', lines=True)\n",
    "dec15.to_csv('auto-query-tweets-dec15.json' + '.csv', index = False)\n",
    "dec15 = pd.read_csv(r'auto-query-tweets-dec15.json.csv')\n"
   ]
  },
  {
   "cell_type": "code",
   "execution_count": 174,
   "id": "5fe0f797",
   "metadata": {},
   "outputs": [],
   "source": [
    "dec16 = pd.read_json(r'C:\\Users\\s_sad\\auto-query-tweets-dec16.json', lines=True)\n",
    "dec16.to_csv('auto-query-tweets-dec16.json' + '.csv', index = False)\n",
    "dec16 = pd.read_csv(r'auto-query-tweets-dec16.json.csv')\n"
   ]
  },
  {
   "cell_type": "code",
   "execution_count": 175,
   "id": "4efa52ba",
   "metadata": {},
   "outputs": [],
   "source": [
    "dec17 = pd.read_json(r'C:\\Users\\s_sad\\auto-query-tweets-dec17.json', lines=True)\n",
    "dec17.to_csv('auto-query-tweets-dec17.json' + '.csv', index = False)\n",
    "dec17 = pd.read_csv(r'auto-query-tweets-dec17.json.csv')\n"
   ]
  },
  {
   "cell_type": "code",
   "execution_count": 176,
   "id": "aa9aae31",
   "metadata": {},
   "outputs": [],
   "source": [
    "dec18 = pd.read_json(r'C:\\Users\\s_sad\\auto-query-tweets-dec18.json', lines=True)\n",
    "dec18.to_csv('auto-query-tweets-dec18.json' + '.csv', index = False)\n",
    "dec18 = pd.read_csv(r'auto-query-tweets-dec18.json.csv')\n"
   ]
  },
  {
   "cell_type": "code",
   "execution_count": 177,
   "id": "eefc6f77",
   "metadata": {},
   "outputs": [],
   "source": [
    "dec19 = pd.read_json(r'C:\\Users\\s_sad\\auto-query-tweets-dec19.json', lines=True)\n",
    "dec19.to_csv('auto-query-tweets-dec19.json' + '.csv', index = False)\n",
    "dec19 = pd.read_csv(r'auto-query-tweets-dec19.json.csv')\n"
   ]
  },
  {
   "cell_type": "code",
   "execution_count": 178,
   "id": "2ef6f6ff",
   "metadata": {},
   "outputs": [],
   "source": [
    "dec20 = pd.read_json(r'C:\\Users\\s_sad\\auto-query-tweets-dec20.json', lines=True)\n",
    "dec20.to_csv('auto-query-tweets-dec20.json' + '.csv', index = False)\n",
    "dec20 = pd.read_csv(r'auto-query-tweets-dec20.json.csv')\n"
   ]
  },
  {
   "cell_type": "code",
   "execution_count": 179,
   "id": "0dfb84a3",
   "metadata": {},
   "outputs": [],
   "source": [
    "dec21 = pd.read_json(r'C:\\Users\\s_sad\\auto-query-tweets-dec21.json', lines=True)\n",
    "dec21.to_csv('auto-query-tweets-dec21.json' + '.csv', index = False)\n",
    "dec21 = pd.read_csv(r'auto-query-tweets-dec21.json.csv')\n"
   ]
  },
  {
   "cell_type": "code",
   "execution_count": 180,
   "id": "a784d59a",
   "metadata": {},
   "outputs": [],
   "source": [
    "dec22 = pd.read_json(r'C:\\Users\\s_sad\\auto-query-tweets-dec22.json', lines=True)\n",
    "dec22.to_csv('auto-query-tweets-dec22.json' + '.csv', index = False)\n",
    "dec22 = pd.read_csv(r'auto-query-tweets-dec22.json.csv')\n"
   ]
  },
  {
   "cell_type": "code",
   "execution_count": 181,
   "id": "31581365",
   "metadata": {},
   "outputs": [],
   "source": [
    "dec23 = pd.read_json(r'C:\\Users\\s_sad\\auto-query-tweets-dec23.json', lines=True)\n",
    "dec23.to_csv('auto-query-tweets-dec23.json' + '.csv', index = False)\n",
    "dec23 = pd.read_csv(r'auto-query-tweets-dec23.json.csv')\n"
   ]
  },
  {
   "cell_type": "code",
   "execution_count": 182,
   "id": "6412ceb3",
   "metadata": {},
   "outputs": [],
   "source": [
    "dec24 = pd.read_json(r'C:\\Users\\s_sad\\auto-query-tweets-dec24.json', lines=True)\n",
    "dec24.to_csv('auto-query-tweets-dec24.json' + '.csv', index = False)\n",
    "dec24 = pd.read_csv(r'auto-query-tweets-dec24.json.csv')\n"
   ]
  },
  {
   "cell_type": "code",
   "execution_count": 183,
   "id": "0d287a6e",
   "metadata": {},
   "outputs": [],
   "source": [
    "dec25 = pd.read_json(r'C:\\Users\\s_sad\\auto-query-tweets-dec25.json', lines=True)\n",
    "dec25.to_csv('auto-query-tweets-dec25.json' + '.csv', index = False)\n",
    "dec25 = pd.read_csv(r'auto-query-tweets-dec25.json.csv')\n"
   ]
  },
  {
   "cell_type": "code",
   "execution_count": 184,
   "id": "7579c0c2",
   "metadata": {},
   "outputs": [],
   "source": [
    "dec26 = pd.read_json(r'C:\\Users\\s_sad\\auto-query-tweets-dec26.json', lines=True)\n",
    "dec26.to_csv('auto-query-tweets-dec26.json' + '.csv', index = False)\n",
    "dec26 = pd.read_csv(r'auto-query-tweets-dec26.json.csv')\n"
   ]
  },
  {
   "cell_type": "code",
   "execution_count": 185,
   "id": "eb4d1560",
   "metadata": {},
   "outputs": [],
   "source": [
    "dec27 = pd.read_json(r'C:\\Users\\s_sad\\auto-query-tweets-dec27.json', lines=True)\n",
    "dec27.to_csv('auto-query-tweets-dec27.json' + '.csv', index = False)\n",
    "dec27 = pd.read_csv(r'auto-query-tweets-dec27.json.csv')\n"
   ]
  },
  {
   "cell_type": "code",
   "execution_count": 186,
   "id": "b66cbd2d",
   "metadata": {},
   "outputs": [],
   "source": [
    "dec28 = pd.read_json(r'C:\\Users\\s_sad\\auto-query-tweets-dec28.json', lines=True)\n",
    "dec28.to_csv('auto-query-tweets-dec28.json' + '.csv', index = False)\n",
    "dec28 = pd.read_csv(r'auto-query-tweets-dec28.json.csv')\n"
   ]
  },
  {
   "cell_type": "code",
   "execution_count": 187,
   "id": "a257d1bf",
   "metadata": {},
   "outputs": [],
   "source": [
    "dec29 = pd.read_json(r'C:\\Users\\s_sad\\auto-query-tweets-dec29.json', lines=True)\n",
    "dec29.to_csv('auto-query-tweets-dec29.json' + '.csv', index = False)\n",
    "dec29 = pd.read_csv(r'auto-query-tweets-dec29.json.csv')\n"
   ]
  },
  {
   "cell_type": "code",
   "execution_count": 188,
   "id": "2bdfaa36",
   "metadata": {},
   "outputs": [],
   "source": [
    "dec30 = pd.read_json(r'C:\\Users\\s_sad\\auto-query-tweets-dec30.json', lines=True)\n",
    "dec30.to_csv('auto-query-tweets-dec30.json' + '.csv', index = False)\n",
    "dec30 = pd.read_csv(r'auto-query-tweets-dec30.json.csv')\n"
   ]
  },
  {
   "cell_type": "code",
   "execution_count": 189,
   "id": "402add0e",
   "metadata": {},
   "outputs": [],
   "source": [
    "dec31 = pd.read_json(r'C:\\Users\\s_sad\\auto-query-tweets-dec31.json', lines=True)\n",
    "dec31.to_csv('auto-query-tweets-dec31.json' + '.csv', index = False)\n",
    "dec31 = pd.read_csv(r'auto-query-tweets-dec31.json.csv')\n"
   ]
  },
  {
   "cell_type": "code",
   "execution_count": 190,
   "id": "b8a48aa4",
   "metadata": {},
   "outputs": [],
   "source": [
    "df_oct = pd.concat([oct01,oct02,oct03,oct04,oct05,oct06,oct07,oct08,oct09,oct10,oct11,oct12,\n",
    "                oct13,oct14,oct15,oct16,oct17,oct18,oct19,oct20,oct21,oct22,oct23,oct24,oct25,oct26,oct27,oct28,oct29,oct30\n",
    "                ],axis = 0)"
   ]
  },
  {
   "cell_type": "code",
   "execution_count": 197,
   "id": "792ea793",
   "metadata": {},
   "outputs": [],
   "source": [
    "df_nov = pd.concat([nov01,nov02,nov03,nov04,nov05,nov06,nov07,nov08,nov09,nov10,nov11,nov12,nov13,nov14,nov15,\n",
    "                    nov16,nov17,nov18,nov19,nov20,nov21,nov22,nov23,nov24,nov25,nov26,nov27,nov28,nov29,nov30],axis = 0)\n"
   ]
  },
  {
   "cell_type": "code",
   "execution_count": 198,
   "id": "42a48607",
   "metadata": {},
   "outputs": [],
   "source": [
    "df_dec = pd.concat([dec01,dec02,dec03,dec04,dec05,dec06,dec07,dec08,dec09,dec10,dec11,dec12,dec13,dec14,dec15,\n",
    "           dec16,dec17,dec18,dec19,dec20,dec21,dec22,dec23,dec24,dec25,dec26,dec27,dec28,dec29,dec30,dec31],axis = 0)\n"
   ]
  },
  {
   "cell_type": "code",
   "execution_count": 201,
   "id": "046de898",
   "metadata": {},
   "outputs": [
    {
     "data": {
      "text/html": [
       "<div>\n",
       "<style scoped>\n",
       "    .dataframe tbody tr th:only-of-type {\n",
       "        vertical-align: middle;\n",
       "    }\n",
       "\n",
       "    .dataframe tbody tr th {\n",
       "        vertical-align: top;\n",
       "    }\n",
       "\n",
       "    .dataframe thead th {\n",
       "        text-align: right;\n",
       "    }\n",
       "</style>\n",
       "<table border=\"1\" class=\"dataframe\">\n",
       "  <thead>\n",
       "    <tr style=\"text-align: right;\">\n",
       "      <th></th>\n",
       "      <th>_type</th>\n",
       "      <th>url</th>\n",
       "      <th>date</th>\n",
       "      <th>rawContent</th>\n",
       "      <th>renderedContent</th>\n",
       "      <th>id</th>\n",
       "      <th>user</th>\n",
       "      <th>replyCount</th>\n",
       "      <th>retweetCount</th>\n",
       "      <th>likeCount</th>\n",
       "      <th>...</th>\n",
       "      <th>retweetedTweet</th>\n",
       "      <th>quotedTweet</th>\n",
       "      <th>inReplyToTweetId</th>\n",
       "      <th>inReplyToUser</th>\n",
       "      <th>mentionedUsers</th>\n",
       "      <th>coordinates</th>\n",
       "      <th>place</th>\n",
       "      <th>hashtags</th>\n",
       "      <th>cashtags</th>\n",
       "      <th>card</th>\n",
       "    </tr>\n",
       "  </thead>\n",
       "  <tbody>\n",
       "    <tr>\n",
       "      <th>0</th>\n",
       "      <td>snscrape.modules.twitter.Tweet</td>\n",
       "      <td>https://twitter.com/sctadsen/status/1576361306...</td>\n",
       "      <td>2022-10-01 23:59:57+00:00</td>\n",
       "      <td>@Eviltrkeyslice @thetimes Either way, I think ...</td>\n",
       "      <td>@Eviltrkeyslice @thetimes Either way, I think ...</td>\n",
       "      <td>1576361306445082625</td>\n",
       "      <td>{'_type': 'snscrape.modules.twitter.User', 'us...</td>\n",
       "      <td>0</td>\n",
       "      <td>0</td>\n",
       "      <td>8</td>\n",
       "      <td>...</td>\n",
       "      <td>NaN</td>\n",
       "      <td>None</td>\n",
       "      <td>1.576289e+18</td>\n",
       "      <td>{'_type': 'snscrape.modules.twitter.User', 'us...</td>\n",
       "      <td>[{'_type': 'snscrape.modules.twitter.User', 'u...</td>\n",
       "      <td>None</td>\n",
       "      <td>None</td>\n",
       "      <td>None</td>\n",
       "      <td>None</td>\n",
       "      <td>None</td>\n",
       "    </tr>\n",
       "    <tr>\n",
       "      <th>1</th>\n",
       "      <td>snscrape.modules.twitter.Tweet</td>\n",
       "      <td>https://twitter.com/SAILTHEMIND/status/1576361...</td>\n",
       "      <td>2022-10-01 23:59:55+00:00</td>\n",
       "      <td>@Tesla @elonmusk @nadyariot do you find this p...</td>\n",
       "      <td>@Tesla @elonmusk @nadyariot do you find this p...</td>\n",
       "      <td>1576361296110362624</td>\n",
       "      <td>{'_type': 'snscrape.modules.twitter.User', 'us...</td>\n",
       "      <td>0</td>\n",
       "      <td>0</td>\n",
       "      <td>0</td>\n",
       "      <td>...</td>\n",
       "      <td>NaN</td>\n",
       "      <td>None</td>\n",
       "      <td>1.576045e+18</td>\n",
       "      <td>{'_type': 'snscrape.modules.twitter.User', 'us...</td>\n",
       "      <td>[{'_type': 'snscrape.modules.twitter.User', 'u...</td>\n",
       "      <td>None</td>\n",
       "      <td>None</td>\n",
       "      <td>None</td>\n",
       "      <td>None</td>\n",
       "      <td>None</td>\n",
       "    </tr>\n",
       "    <tr>\n",
       "      <th>2</th>\n",
       "      <td>snscrape.modules.twitter.Tweet</td>\n",
       "      <td>https://twitter.com/BoredElonMusk/status/15763...</td>\n",
       "      <td>2022-10-01 23:59:54+00:00</td>\n",
       "      <td>@TrungTPhan Not sure if this or the Tesla AI r...</td>\n",
       "      <td>@TrungTPhan Not sure if this or the Tesla AI r...</td>\n",
       "      <td>1576361292838805507</td>\n",
       "      <td>{'_type': 'snscrape.modules.twitter.User', 'us...</td>\n",
       "      <td>3</td>\n",
       "      <td>0</td>\n",
       "      <td>13</td>\n",
       "      <td>...</td>\n",
       "      <td>NaN</td>\n",
       "      <td>None</td>\n",
       "      <td>1.576360e+18</td>\n",
       "      <td>{'_type': 'snscrape.modules.twitter.User', 'us...</td>\n",
       "      <td>[{'_type': 'snscrape.modules.twitter.User', 'u...</td>\n",
       "      <td>None</td>\n",
       "      <td>None</td>\n",
       "      <td>None</td>\n",
       "      <td>None</td>\n",
       "      <td>None</td>\n",
       "    </tr>\n",
       "    <tr>\n",
       "      <th>3</th>\n",
       "      <td>snscrape.modules.twitter.Tweet</td>\n",
       "      <td>https://twitter.com/afhallmd/status/1576361281...</td>\n",
       "      <td>2022-10-01 23:59:51+00:00</td>\n",
       "      <td>@TraderNatty @NokianTyresNA @teslaownersmi @PJ...</td>\n",
       "      <td>@TraderNatty @NokianTyresNA @teslaownersmi @PJ...</td>\n",
       "      <td>1576361281300230145</td>\n",
       "      <td>{'_type': 'snscrape.modules.twitter.User', 'us...</td>\n",
       "      <td>1</td>\n",
       "      <td>0</td>\n",
       "      <td>1</td>\n",
       "      <td>...</td>\n",
       "      <td>NaN</td>\n",
       "      <td>None</td>\n",
       "      <td>1.576350e+18</td>\n",
       "      <td>{'_type': 'snscrape.modules.twitter.User', 'us...</td>\n",
       "      <td>[{'_type': 'snscrape.modules.twitter.User', 'u...</td>\n",
       "      <td>None</td>\n",
       "      <td>None</td>\n",
       "      <td>None</td>\n",
       "      <td>None</td>\n",
       "      <td>None</td>\n",
       "    </tr>\n",
       "    <tr>\n",
       "      <th>4</th>\n",
       "      <td>snscrape.modules.twitter.Tweet</td>\n",
       "      <td>https://twitter.com/sadiqsaeed_/status/1576361...</td>\n",
       "      <td>2022-10-01 23:59:48+00:00</td>\n",
       "      <td>Elon Musk claims Tesla Cybertruck is both, tru...</td>\n",
       "      <td>Elon Musk claims Tesla Cybertruck is both, tru...</td>\n",
       "      <td>1576361267861790722</td>\n",
       "      <td>{'_type': 'snscrape.modules.twitter.User', 'us...</td>\n",
       "      <td>0</td>\n",
       "      <td>0</td>\n",
       "      <td>0</td>\n",
       "      <td>...</td>\n",
       "      <td>NaN</td>\n",
       "      <td>None</td>\n",
       "      <td>NaN</td>\n",
       "      <td>None</td>\n",
       "      <td>None</td>\n",
       "      <td>None</td>\n",
       "      <td>None</td>\n",
       "      <td>None</td>\n",
       "      <td>None</td>\n",
       "      <td>{'_type': 'snscrape.modules.twitter.SummaryCar...</td>\n",
       "    </tr>\n",
       "    <tr>\n",
       "      <th>...</th>\n",
       "      <td>...</td>\n",
       "      <td>...</td>\n",
       "      <td>...</td>\n",
       "      <td>...</td>\n",
       "      <td>...</td>\n",
       "      <td>...</td>\n",
       "      <td>...</td>\n",
       "      <td>...</td>\n",
       "      <td>...</td>\n",
       "      <td>...</td>\n",
       "      <td>...</td>\n",
       "      <td>...</td>\n",
       "      <td>...</td>\n",
       "      <td>...</td>\n",
       "      <td>...</td>\n",
       "      <td>...</td>\n",
       "      <td>...</td>\n",
       "      <td>...</td>\n",
       "      <td>...</td>\n",
       "      <td>...</td>\n",
       "      <td>...</td>\n",
       "    </tr>\n",
       "    <tr>\n",
       "      <th>495</th>\n",
       "      <td>snscrape.modules.twitter.Tweet</td>\n",
       "      <td>https://twitter.com/flixology101/status/160933...</td>\n",
       "      <td>2022-12-31 23:34:10+00:00</td>\n",
       "      <td>@TheFilmMaestro Totally agree - though I don’t...</td>\n",
       "      <td>@TheFilmMaestro Totally agree - though I don’t...</td>\n",
       "      <td>1609332114268241923</td>\n",
       "      <td>{'_type': 'snscrape.modules.twitter.User', 'us...</td>\n",
       "      <td>0</td>\n",
       "      <td>0</td>\n",
       "      <td>1</td>\n",
       "      <td>...</td>\n",
       "      <td>NaN</td>\n",
       "      <td>NaN</td>\n",
       "      <td>1.609331e+18</td>\n",
       "      <td>{'_type': 'snscrape.modules.twitter.User', 'us...</td>\n",
       "      <td>[{'_type': 'snscrape.modules.twitter.User', 'u...</td>\n",
       "      <td>NaN</td>\n",
       "      <td>NaN</td>\n",
       "      <td>NaN</td>\n",
       "      <td>NaN</td>\n",
       "      <td>NaN</td>\n",
       "    </tr>\n",
       "    <tr>\n",
       "      <th>496</th>\n",
       "      <td>snscrape.modules.twitter.Tweet</td>\n",
       "      <td>https://twitter.com/ChameleonDoh/status/160933...</td>\n",
       "      <td>2022-12-31 23:34:09+00:00</td>\n",
       "      <td>@its_the_Dr @lovetocook12345 Tesla has now los...</td>\n",
       "      <td>@its_the_Dr @lovetocook12345 Tesla has now los...</td>\n",
       "      <td>1609332111319654403</td>\n",
       "      <td>{'_type': 'snscrape.modules.twitter.User', 'us...</td>\n",
       "      <td>7</td>\n",
       "      <td>0</td>\n",
       "      <td>1</td>\n",
       "      <td>...</td>\n",
       "      <td>NaN</td>\n",
       "      <td>NaN</td>\n",
       "      <td>1.609282e+18</td>\n",
       "      <td>{'_type': 'snscrape.modules.twitter.User', 'us...</td>\n",
       "      <td>[{'_type': 'snscrape.modules.twitter.User', 'u...</td>\n",
       "      <td>NaN</td>\n",
       "      <td>NaN</td>\n",
       "      <td>NaN</td>\n",
       "      <td>NaN</td>\n",
       "      <td>NaN</td>\n",
       "    </tr>\n",
       "    <tr>\n",
       "      <th>497</th>\n",
       "      <td>snscrape.modules.twitter.Tweet</td>\n",
       "      <td>https://twitter.com/stockexamen/status/1609332...</td>\n",
       "      <td>2022-12-31 23:34:03+00:00</td>\n",
       "      <td>Barron's Top Weekend Stock Picks: Tesla, Bed B...</td>\n",
       "      <td>Barron's Top Weekend Stock Picks: Tesla, Bed B...</td>\n",
       "      <td>1609332084925161472</td>\n",
       "      <td>{'_type': 'snscrape.modules.twitter.User', 'us...</td>\n",
       "      <td>0</td>\n",
       "      <td>0</td>\n",
       "      <td>0</td>\n",
       "      <td>...</td>\n",
       "      <td>NaN</td>\n",
       "      <td>NaN</td>\n",
       "      <td>NaN</td>\n",
       "      <td>NaN</td>\n",
       "      <td>NaN</td>\n",
       "      <td>NaN</td>\n",
       "      <td>NaN</td>\n",
       "      <td>NaN</td>\n",
       "      <td>NaN</td>\n",
       "      <td>{'_type': 'snscrape.modules.twitter.SummaryCar...</td>\n",
       "    </tr>\n",
       "    <tr>\n",
       "      <th>498</th>\n",
       "      <td>snscrape.modules.twitter.Tweet</td>\n",
       "      <td>https://twitter.com/RobinBo01314180/status/160...</td>\n",
       "      <td>2022-12-31 23:34:02+00:00</td>\n",
       "      <td>@cb_doge @elonmusk @mayemusk @Tesla @SpaceX It...</td>\n",
       "      <td>@cb_doge @elonmusk @mayemusk @Tesla @SpaceX It...</td>\n",
       "      <td>1609332081682784257</td>\n",
       "      <td>{'_type': 'snscrape.modules.twitter.User', 'us...</td>\n",
       "      <td>0</td>\n",
       "      <td>0</td>\n",
       "      <td>0</td>\n",
       "      <td>...</td>\n",
       "      <td>NaN</td>\n",
       "      <td>NaN</td>\n",
       "      <td>1.609229e+18</td>\n",
       "      <td>{'_type': 'snscrape.modules.twitter.User', 'us...</td>\n",
       "      <td>[{'_type': 'snscrape.modules.twitter.User', 'u...</td>\n",
       "      <td>NaN</td>\n",
       "      <td>NaN</td>\n",
       "      <td>NaN</td>\n",
       "      <td>NaN</td>\n",
       "      <td>NaN</td>\n",
       "    </tr>\n",
       "    <tr>\n",
       "      <th>499</th>\n",
       "      <td>snscrape.modules.twitter.Tweet</td>\n",
       "      <td>https://twitter.com/Tr3yBomba81/status/1609332...</td>\n",
       "      <td>2022-12-31 23:34:02+00:00</td>\n",
       "      <td>Does every Audi with duct tape on it have a lo...</td>\n",
       "      <td>Does every Audi with duct tape on it have a lo...</td>\n",
       "      <td>1609332078579011584</td>\n",
       "      <td>{'_type': 'snscrape.modules.twitter.User', 'us...</td>\n",
       "      <td>0</td>\n",
       "      <td>0</td>\n",
       "      <td>0</td>\n",
       "      <td>...</td>\n",
       "      <td>NaN</td>\n",
       "      <td>NaN</td>\n",
       "      <td>NaN</td>\n",
       "      <td>NaN</td>\n",
       "      <td>NaN</td>\n",
       "      <td>NaN</td>\n",
       "      <td>NaN</td>\n",
       "      <td>NaN</td>\n",
       "      <td>NaN</td>\n",
       "      <td>NaN</td>\n",
       "    </tr>\n",
       "  </tbody>\n",
       "</table>\n",
       "<p>45500 rows × 28 columns</p>\n",
       "</div>"
      ],
      "text/plain": [
       "                              _type  \\\n",
       "0    snscrape.modules.twitter.Tweet   \n",
       "1    snscrape.modules.twitter.Tweet   \n",
       "2    snscrape.modules.twitter.Tweet   \n",
       "3    snscrape.modules.twitter.Tweet   \n",
       "4    snscrape.modules.twitter.Tweet   \n",
       "..                              ...   \n",
       "495  snscrape.modules.twitter.Tweet   \n",
       "496  snscrape.modules.twitter.Tweet   \n",
       "497  snscrape.modules.twitter.Tweet   \n",
       "498  snscrape.modules.twitter.Tweet   \n",
       "499  snscrape.modules.twitter.Tweet   \n",
       "\n",
       "                                                   url  \\\n",
       "0    https://twitter.com/sctadsen/status/1576361306...   \n",
       "1    https://twitter.com/SAILTHEMIND/status/1576361...   \n",
       "2    https://twitter.com/BoredElonMusk/status/15763...   \n",
       "3    https://twitter.com/afhallmd/status/1576361281...   \n",
       "4    https://twitter.com/sadiqsaeed_/status/1576361...   \n",
       "..                                                 ...   \n",
       "495  https://twitter.com/flixology101/status/160933...   \n",
       "496  https://twitter.com/ChameleonDoh/status/160933...   \n",
       "497  https://twitter.com/stockexamen/status/1609332...   \n",
       "498  https://twitter.com/RobinBo01314180/status/160...   \n",
       "499  https://twitter.com/Tr3yBomba81/status/1609332...   \n",
       "\n",
       "                          date  \\\n",
       "0    2022-10-01 23:59:57+00:00   \n",
       "1    2022-10-01 23:59:55+00:00   \n",
       "2    2022-10-01 23:59:54+00:00   \n",
       "3    2022-10-01 23:59:51+00:00   \n",
       "4    2022-10-01 23:59:48+00:00   \n",
       "..                         ...   \n",
       "495  2022-12-31 23:34:10+00:00   \n",
       "496  2022-12-31 23:34:09+00:00   \n",
       "497  2022-12-31 23:34:03+00:00   \n",
       "498  2022-12-31 23:34:02+00:00   \n",
       "499  2022-12-31 23:34:02+00:00   \n",
       "\n",
       "                                            rawContent  \\\n",
       "0    @Eviltrkeyslice @thetimes Either way, I think ...   \n",
       "1    @Tesla @elonmusk @nadyariot do you find this p...   \n",
       "2    @TrungTPhan Not sure if this or the Tesla AI r...   \n",
       "3    @TraderNatty @NokianTyresNA @teslaownersmi @PJ...   \n",
       "4    Elon Musk claims Tesla Cybertruck is both, tru...   \n",
       "..                                                 ...   \n",
       "495  @TheFilmMaestro Totally agree - though I don’t...   \n",
       "496  @its_the_Dr @lovetocook12345 Tesla has now los...   \n",
       "497  Barron's Top Weekend Stock Picks: Tesla, Bed B...   \n",
       "498  @cb_doge @elonmusk @mayemusk @Tesla @SpaceX It...   \n",
       "499  Does every Audi with duct tape on it have a lo...   \n",
       "\n",
       "                                       renderedContent                   id  \\\n",
       "0    @Eviltrkeyslice @thetimes Either way, I think ...  1576361306445082625   \n",
       "1    @Tesla @elonmusk @nadyariot do you find this p...  1576361296110362624   \n",
       "2    @TrungTPhan Not sure if this or the Tesla AI r...  1576361292838805507   \n",
       "3    @TraderNatty @NokianTyresNA @teslaownersmi @PJ...  1576361281300230145   \n",
       "4    Elon Musk claims Tesla Cybertruck is both, tru...  1576361267861790722   \n",
       "..                                                 ...                  ...   \n",
       "495  @TheFilmMaestro Totally agree - though I don’t...  1609332114268241923   \n",
       "496  @its_the_Dr @lovetocook12345 Tesla has now los...  1609332111319654403   \n",
       "497  Barron's Top Weekend Stock Picks: Tesla, Bed B...  1609332084925161472   \n",
       "498  @cb_doge @elonmusk @mayemusk @Tesla @SpaceX It...  1609332081682784257   \n",
       "499  Does every Audi with duct tape on it have a lo...  1609332078579011584   \n",
       "\n",
       "                                                  user  replyCount  \\\n",
       "0    {'_type': 'snscrape.modules.twitter.User', 'us...           0   \n",
       "1    {'_type': 'snscrape.modules.twitter.User', 'us...           0   \n",
       "2    {'_type': 'snscrape.modules.twitter.User', 'us...           3   \n",
       "3    {'_type': 'snscrape.modules.twitter.User', 'us...           1   \n",
       "4    {'_type': 'snscrape.modules.twitter.User', 'us...           0   \n",
       "..                                                 ...         ...   \n",
       "495  {'_type': 'snscrape.modules.twitter.User', 'us...           0   \n",
       "496  {'_type': 'snscrape.modules.twitter.User', 'us...           7   \n",
       "497  {'_type': 'snscrape.modules.twitter.User', 'us...           0   \n",
       "498  {'_type': 'snscrape.modules.twitter.User', 'us...           0   \n",
       "499  {'_type': 'snscrape.modules.twitter.User', 'us...           0   \n",
       "\n",
       "     retweetCount  likeCount  ...  retweetedTweet  quotedTweet  \\\n",
       "0               0          8  ...             NaN         None   \n",
       "1               0          0  ...             NaN         None   \n",
       "2               0         13  ...             NaN         None   \n",
       "3               0          1  ...             NaN         None   \n",
       "4               0          0  ...             NaN         None   \n",
       "..            ...        ...  ...             ...          ...   \n",
       "495             0          1  ...             NaN          NaN   \n",
       "496             0          1  ...             NaN          NaN   \n",
       "497             0          0  ...             NaN          NaN   \n",
       "498             0          0  ...             NaN          NaN   \n",
       "499             0          0  ...             NaN          NaN   \n",
       "\n",
       "    inReplyToTweetId                                      inReplyToUser  \\\n",
       "0       1.576289e+18  {'_type': 'snscrape.modules.twitter.User', 'us...   \n",
       "1       1.576045e+18  {'_type': 'snscrape.modules.twitter.User', 'us...   \n",
       "2       1.576360e+18  {'_type': 'snscrape.modules.twitter.User', 'us...   \n",
       "3       1.576350e+18  {'_type': 'snscrape.modules.twitter.User', 'us...   \n",
       "4                NaN                                               None   \n",
       "..               ...                                                ...   \n",
       "495     1.609331e+18  {'_type': 'snscrape.modules.twitter.User', 'us...   \n",
       "496     1.609282e+18  {'_type': 'snscrape.modules.twitter.User', 'us...   \n",
       "497              NaN                                                NaN   \n",
       "498     1.609229e+18  {'_type': 'snscrape.modules.twitter.User', 'us...   \n",
       "499              NaN                                                NaN   \n",
       "\n",
       "                                        mentionedUsers coordinates place  \\\n",
       "0    [{'_type': 'snscrape.modules.twitter.User', 'u...        None  None   \n",
       "1    [{'_type': 'snscrape.modules.twitter.User', 'u...        None  None   \n",
       "2    [{'_type': 'snscrape.modules.twitter.User', 'u...        None  None   \n",
       "3    [{'_type': 'snscrape.modules.twitter.User', 'u...        None  None   \n",
       "4                                                 None        None  None   \n",
       "..                                                 ...         ...   ...   \n",
       "495  [{'_type': 'snscrape.modules.twitter.User', 'u...         NaN   NaN   \n",
       "496  [{'_type': 'snscrape.modules.twitter.User', 'u...         NaN   NaN   \n",
       "497                                                NaN         NaN   NaN   \n",
       "498  [{'_type': 'snscrape.modules.twitter.User', 'u...         NaN   NaN   \n",
       "499                                                NaN         NaN   NaN   \n",
       "\n",
       "    hashtags  cashtags                                               card  \n",
       "0       None      None                                               None  \n",
       "1       None      None                                               None  \n",
       "2       None      None                                               None  \n",
       "3       None      None                                               None  \n",
       "4       None      None  {'_type': 'snscrape.modules.twitter.SummaryCar...  \n",
       "..       ...       ...                                                ...  \n",
       "495      NaN       NaN                                                NaN  \n",
       "496      NaN       NaN                                                NaN  \n",
       "497      NaN       NaN  {'_type': 'snscrape.modules.twitter.SummaryCar...  \n",
       "498      NaN       NaN                                                NaN  \n",
       "499      NaN       NaN                                                NaN  \n",
       "\n",
       "[45500 rows x 28 columns]"
      ]
     },
     "execution_count": 201,
     "metadata": {},
     "output_type": "execute_result"
    }
   ],
   "source": [
    "df = pd.concat([df_oct,df_nov,df_dec], axis = 0)\n"
   ]
  },
  {
   "cell_type": "code",
   "execution_count": 203,
   "id": "1de7fbd7",
   "metadata": {},
   "outputs": [],
   "source": [
    "df.to_csv(\"3_months_twitter_data.csv\", index = False)"
   ]
  },
  {
   "cell_type": "markdown",
   "id": "39e0c27d",
   "metadata": {},
   "source": [
    "df.to_csv('raw_data2.csv', index=False)"
   ]
  },
  {
   "cell_type": "code",
   "execution_count": null,
   "id": "9b71bff7",
   "metadata": {},
   "outputs": [],
   "source": []
  }
 ],
 "metadata": {
  "kernelspec": {
   "display_name": "Python 3 (ipykernel)",
   "language": "python",
   "name": "python3"
  },
  "language_info": {
   "codemirror_mode": {
    "name": "ipython",
    "version": 3
   },
   "file_extension": ".py",
   "mimetype": "text/x-python",
   "name": "python",
   "nbconvert_exporter": "python",
   "pygments_lexer": "ipython3",
   "version": "3.9.13"
  }
 },
 "nbformat": 4,
 "nbformat_minor": 5
}
